{
 "cells": [
  {
   "cell_type": "markdown",
   "metadata": {},
   "source": [
    "# Complex_Flux_DNN\n",
    "\n",
    "- https://github.com/FluxML/Flux.jl/issues/501"
   ]
  },
  {
   "cell_type": "markdown",
   "metadata": {
    "toc": true
   },
   "source": [
    "<h1>Table of Contents<span class=\"tocSkip\"></span></h1>\n",
    "<div class=\"toc\"><ul class=\"toc-item\"><li><span><a href=\"#Complex_Flux_DNN\" data-toc-modified-id=\"Complex_Flux_DNN-1\"><span class=\"toc-item-num\">1&nbsp;&nbsp;</span>Complex_Flux_DNN</a></span></li><li><span><a href=\"#Model\" data-toc-modified-id=\"Model-2\"><span class=\"toc-item-num\">2&nbsp;&nbsp;</span>Model</a></span></li><li><span><a href=\"#Data-(random)\" data-toc-modified-id=\"Data-(random)-3\"><span class=\"toc-item-num\">3&nbsp;&nbsp;</span>Data (random)</a></span></li><li><span><a href=\"#Loss-function-(Cross-Entropy)\" data-toc-modified-id=\"Loss-function-(Cross-Entropy)-4\"><span class=\"toc-item-num\">4&nbsp;&nbsp;</span>Loss function (Cross Entropy)</a></span></li><li><span><a href=\"#Optimizer\" data-toc-modified-id=\"Optimizer-5\"><span class=\"toc-item-num\">5&nbsp;&nbsp;</span>Optimizer</a></span></li><li><span><a href=\"#Parameters\" data-toc-modified-id=\"Parameters-6\"><span class=\"toc-item-num\">6&nbsp;&nbsp;</span>Parameters</a></span></li><li><span><a href=\"#Callback-function\" data-toc-modified-id=\"Callback-function-7\"><span class=\"toc-item-num\">7&nbsp;&nbsp;</span>Callback function</a></span></li><li><span><a href=\"#Train\" data-toc-modified-id=\"Train-8\"><span class=\"toc-item-num\">8&nbsp;&nbsp;</span>Train</a></span></li></ul></div>"
   ]
  },
  {
   "cell_type": "markdown",
   "metadata": {},
   "source": [
    "# Model"
   ]
  },
  {
   "cell_type": "code",
   "execution_count": 1,
   "metadata": {},
   "outputs": [
    {
     "data": {
      "text/plain": [
       "Chain(Conv((2, 2), 1=>16, relu), MaxPool((2, 2), pad = (0, 0, 0, 0), stride = (2, 2)), #3, Dense(144, 10), softmax)"
      ]
     },
     "execution_count": 1,
     "metadata": {},
     "output_type": "execute_result"
    }
   ],
   "source": [
    "using Flux\n",
    "\n",
    "model = Chain(\n",
    "    Conv((2,2), 1=>16, relu),\n",
    "    MaxPool((2,2)),\n",
    "    x -> reshape(x, :, size(x, 4)),\n",
    "    Dense(144, 10),\n",
    "    softmax);\n",
    "model"
   ]
  },
  {
   "cell_type": "markdown",
   "metadata": {},
   "source": [
    "# Data (random)"
   ]
  },
  {
   "cell_type": "code",
   "execution_count": 2,
   "metadata": {},
   "outputs": [
    {
     "data": {
      "text/plain": [
       "0.6675180803082137"
      ]
     },
     "execution_count": 2,
     "metadata": {},
     "output_type": "execute_result"
    }
   ],
   "source": [
    "#X = rand(8,8,1,4); \n",
    "#X = rand(Float32, 8, 8, 1, 4) # MethodError: no method matching ∇maxpool(::Array{Float64,4}, ::Array{Float32,4}, ::Array{Float32,4},\n",
    "X = rand(Float64, 8, 8, 1, 4)\n",
    "X[1]"
   ]
  },
  {
   "cell_type": "code",
   "execution_count": 3,
   "metadata": {},
   "outputs": [
    {
     "data": {
      "text/plain": [
       "([0.6675180803082137 0.9026714926598252 … 0.22005515371580953 0.8929092855396827; 0.5977060888754917 0.8450211075117593 … 0.38329397272467736 0.3936795523518035; … ; 0.2640157347792591 0.6917629196141588 … 0.09551002346433601 0.34566228953370004; 0.10629480420590176 0.4480228267338684 … 0.3993981590917026 0.6782530244671152]\n",
       "\n",
       "[0.6656978634021831 0.037395616507354346 … 0.3830100041188571 0.8740869239860967; 0.15439224647873373 0.14604925229356813 … 0.3430876065915789 0.04906907309579678; … ; 0.8796600060086026 0.4982603953595459 … 0.9353262385304484 0.16482022812757258; 0.8590089677927868 0.80660501032364 … 0.09074764031770122 0.7198842107181165]\n",
       "\n",
       "[0.18123965034984701 0.7616738711353972 … 0.7067454172270298 0.9935905041719846; 0.38107408848110613 0.028141179238859948 … 0.46007538703077966 0.0008013656315577489; … ; 0.8791705331388069 0.8110675322211394 … 0.2424311089801603 0.8468530489452006; 0.5589015786993272 0.96753074213909 … 0.5829869861944066 0.38591851516357534]\n",
       "\n",
       "[0.40164254270175914 0.608264405211274 … 0.546706258862262 0.18950145162611154; 0.6167533775425282 0.38719919341086406 … 0.6763586143092482 0.9244085660282786; … ; 0.16281399943950436 0.15972425874979312 … 0.22495822684147426 0.5912324123682497; 0.12356273629986836 0.477073485698045 … 0.48064766768352896 0.6763077448673229],)"
      ]
     },
     "execution_count": 3,
     "metadata": {},
     "output_type": "execute_result"
    }
   ],
   "source": [
    "data = [(X,)]\n",
    "data[1]"
   ]
  },
  {
   "cell_type": "markdown",
   "metadata": {},
   "source": [
    "# Loss function (Cross Entropy)"
   ]
  },
  {
   "cell_type": "code",
   "execution_count": 4,
   "metadata": {},
   "outputs": [
    {
     "data": {
      "text/plain": [
       "loss (generic function with 1 method)"
      ]
     },
     "execution_count": 4,
     "metadata": {},
     "output_type": "execute_result"
    }
   ],
   "source": [
    "loss(x) = begin\n",
    "    Flux.crossentropy(model(x), rand(10,4))\n",
    "end"
   ]
  },
  {
   "cell_type": "markdown",
   "metadata": {},
   "source": [
    "# Optimizer"
   ]
  },
  {
   "cell_type": "code",
   "execution_count": 5,
   "metadata": {},
   "outputs": [
    {
     "data": {
      "text/plain": [
       "RMSProp(0.1, 0.9, IdDict{Any,Any}())"
      ]
     },
     "execution_count": 5,
     "metadata": {},
     "output_type": "execute_result"
    }
   ],
   "source": [
    "#optimizer = Flux.RMSProp(Flux.params(model)); # deprecated\n",
    "optimizer = Flux.RMSProp(0.1) # η::Float64"
   ]
  },
  {
   "cell_type": "markdown",
   "metadata": {},
   "source": [
    "# Parameters"
   ]
  },
  {
   "cell_type": "code",
   "execution_count": 6,
   "metadata": {},
   "outputs": [
    {
     "data": {
      "text/plain": [
       "Tracker.Params"
      ]
     },
     "execution_count": 6,
     "metadata": {},
     "output_type": "execute_result"
    }
   ],
   "source": [
    "parameters = Flux.params(model)\n",
    "typeof(parameters)"
   ]
  },
  {
   "cell_type": "markdown",
   "metadata": {},
   "source": [
    "# Callback function"
   ]
  },
  {
   "cell_type": "code",
   "execution_count": 7,
   "metadata": {},
   "outputs": [
    {
     "data": {
      "text/plain": [
       "callback (generic function with 1 method)"
      ]
     },
     "execution_count": 7,
     "metadata": {},
     "output_type": "execute_result"
    }
   ],
   "source": [
    "# eval_callback() = @show(loss(X, X))\n",
    "callback() = () -> println(\"training\")"
   ]
  },
  {
   "cell_type": "markdown",
   "metadata": {},
   "source": [
    "# Train"
   ]
  },
  {
   "cell_type": "code",
   "execution_count": 8,
   "metadata": {},
   "outputs": [],
   "source": [
    "#Flux.train!(loss,            data, optimizer) #deprecated\n",
    "Flux.train!(loss, parameters, data, optimizer, cb = Flux.throttle(callback, 1) )"
   ]
  },
  {
   "cell_type": "code",
   "execution_count": 9,
   "metadata": {},
   "outputs": [
    {
     "name": "stdout",
     "output_type": "stream",
     "text": [
      "done\n"
     ]
    }
   ],
   "source": [
    "println(\"done\")"
   ]
  }
 ],
 "metadata": {
  "kernelspec": {
   "display_name": "Julia 1.4.2",
   "language": "julia",
   "name": "julia-1.4"
  },
  "language_info": {
   "file_extension": ".jl",
   "mimetype": "application/julia",
   "name": "julia",
   "version": "1.4.2"
  },
  "toc": {
   "base_numbering": 1,
   "nav_menu": {},
   "number_sections": true,
   "sideBar": true,
   "skip_h1_title": false,
   "title_cell": "Table of Contents",
   "title_sidebar": "Contents",
   "toc_cell": true,
   "toc_position": {},
   "toc_section_display": true,
   "toc_window_display": true
  }
 },
 "nbformat": 4,
 "nbformat_minor": 4
}
