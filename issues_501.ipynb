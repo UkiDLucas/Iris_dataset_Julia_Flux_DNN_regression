{
 "cells": [
  {
   "cell_type": "markdown",
   "metadata": {},
   "source": [
    "- https://github.com/FluxML/Flux.jl/issues/501"
   ]
  },
  {
   "cell_type": "code",
   "execution_count": 1,
   "metadata": {},
   "outputs": [],
   "source": [
    "using Flux\n",
    "\n",
    "model = Chain(\n",
    "    Conv((2,2), 1=>16, relu),\n",
    "    MaxPool((2,2)),\n",
    "    x -> reshape(x, :, size(x, 4)),\n",
    "    Dense(144, 10),\n",
    "    softmax);"
   ]
  },
  {
   "cell_type": "code",
   "execution_count": 2,
   "metadata": {},
   "outputs": [
    {
     "data": {
      "text/plain": [
       "8×8×1×4 Array{Float32,4}:\n",
       "[:, :, 1, 1] =\n",
       " 0.37993   0.0709887  0.999578  0.0117823  …  0.30199     0.299111  0.464759\n",
       " 0.379039  0.936499   0.25377   0.964671      0.919937    0.230593  0.827\n",
       " 0.388295  0.622478   0.454964  0.680143      0.26015     0.557886  0.776978\n",
       " 0.6533    0.174183   0.938744  0.464431      0.595511    0.169668  0.320092\n",
       " 0.32163   0.719791   0.637871  0.962069      0.631793    0.406028  0.371116\n",
       " 0.275259  0.299191   0.410047  0.887885   …  0.800561    0.902171  0.0406042\n",
       " 0.677636  0.656298   0.811807  0.482032      0.945552    0.969238  0.693984\n",
       " 0.186552  0.219076   0.235859  0.360783      0.00154471  0.298529  0.116766\n",
       "\n",
       "[:, :, 1, 2] =\n",
       " 0.258395  0.604288   0.00553143  0.747648   …  0.746894  0.766721  0.506679\n",
       " 0.120553  0.505127   0.320849    0.0850755     0.207137  0.229973  0.509458\n",
       " 0.837859  0.78896    0.988839    0.014122      0.819844  0.359127  0.828622\n",
       " 0.33054   0.499703   0.353002    0.284825      0.328746  0.906312  0.263215\n",
       " 0.493264  0.121223   0.173672    0.121677      0.756132  0.30859   0.503169\n",
       " 0.806753  0.594605   0.391716    0.399711   …  0.905629  0.382688  0.585404\n",
       " 0.496048  0.103063   0.934956    0.317361      0.613289  0.478021  0.885062\n",
       " 0.803031  0.0509979  0.498908    0.479486      0.272259  0.322451  0.760992\n",
       "\n",
       "[:, :, 1, 3] =\n",
       " 0.568582   0.0906421  0.0480896  0.045149  …  0.615301  0.41704   0.403113\n",
       " 0.884034   0.858632   0.0487995  0.804511     0.643293  0.981958  0.318158\n",
       " 0.0433072  0.280921   0.170043   0.957398     0.029898  0.532678  0.967373\n",
       " 0.0960058  0.412508   0.349774   0.147988     0.751484  0.265483  0.720661\n",
       " 0.965946   0.847432   0.15092    0.570253     0.302035  0.386035  0.69034\n",
       " 0.81077    0.931859   0.819642   0.339245  …  0.798565  0.263378  0.124189\n",
       " 0.356503   0.854569   0.966526   0.554401     0.487025  0.318653  0.437703\n",
       " 0.462713   0.978224   0.800083   0.53862      0.675817  0.610392  0.710685\n",
       "\n",
       "[:, :, 1, 4] =\n",
       " 0.0290812  0.231148    0.296245   …  0.0130138   0.879439   0.718895\n",
       " 0.267163   0.91756     0.51813       0.270035    0.202159   0.402947\n",
       " 0.275978   0.00697136  0.0845228     0.288888    0.273821   0.519956\n",
       " 0.392181   0.663412    0.819932      0.500347    0.0326982  0.249375\n",
       " 0.844103   0.482732    0.487594      0.489741    0.471983   0.456353\n",
       " 0.441372   0.3737      0.608289   …  0.580163    0.155638   0.597051\n",
       " 0.491199   0.011009    0.746357      0.00719714  0.757101   0.662937\n",
       " 0.957671   0.238632    0.918258      0.0690048   0.45918    0.708838"
      ]
     },
     "execution_count": 2,
     "metadata": {},
     "output_type": "execute_result"
    }
   ],
   "source": [
    "#X = rand(8,8,1,4); \n",
    "X = rand(Float32, 8, 8, 1, 4)\n",
    "X"
   ]
  },
  {
   "cell_type": "code",
   "execution_count": 3,
   "metadata": {},
   "outputs": [
    {
     "data": {
      "text/plain": [
       "loss (generic function with 1 method)"
      ]
     },
     "execution_count": 3,
     "metadata": {},
     "output_type": "execute_result"
    }
   ],
   "source": [
    "loss(x) = begin\n",
    "    Flux.crossentropy(model(x), rand(10,4))\n",
    "end"
   ]
  },
  {
   "cell_type": "code",
   "execution_count": 4,
   "metadata": {},
   "outputs": [
    {
     "data": {
      "text/plain": [
       "RMSProp(0.1, 0.9, IdDict{Any,Any}())"
      ]
     },
     "execution_count": 4,
     "metadata": {},
     "output_type": "execute_result"
    }
   ],
   "source": [
    "#opt = Flux.RMSProp(Flux.params(model)); # deprecated\n",
    "opt = Flux.RMSProp(0.1) # η::Float64"
   ]
  },
  {
   "cell_type": "code",
   "execution_count": 5,
   "metadata": {},
   "outputs": [
    {
     "data": {
      "text/plain": [
       "Params([Float32[-0.4546922 0.3759819; -0.47905022 0.43212104]\n",
       "\n",
       "Float32[-0.3610026 0.11932993; -0.42995954 -0.48725572]\n",
       "\n",
       "Float32[0.29032815 -0.26434478; 0.15686817 0.21650006]\n",
       "\n",
       "...\n",
       "\n",
       "Float32[-0.21838784 -0.0044067507; -0.52692986 0.021351185]\n",
       "\n",
       "Float32[-0.21798359 -0.4011875; -0.063362576 0.3118519]\n",
       "\n",
       "Float32[-0.32382947 0.06359553; 0.035062082 -0.08403782] (tracked), Float32[0.0, 0.0, 0.0, 0.0, 0.0, 0.0, 0.0, 0.0, 0.0, 0.0, 0.0, 0.0, 0.0, 0.0, 0.0, 0.0] (tracked), Float32[0.03492477 0.10555863 … 0.17846125 0.062269248; -0.13127816 -0.07709769 … 0.15305266 0.054744624; … ; -0.04910877 -0.16850376 … 0.115811996 -0.12595186; -0.12750387 -0.10367748 … 0.08609093 -0.09970968] (tracked), Float32[0.0, 0.0, 0.0, 0.0, 0.0, 0.0, 0.0, 0.0, 0.0, 0.0] (tracked)])"
      ]
     },
     "execution_count": 5,
     "metadata": {},
     "output_type": "execute_result"
    }
   ],
   "source": [
    "parameters = Flux.params(model)"
   ]
  },
  {
   "cell_type": "code",
   "execution_count": 6,
   "metadata": {},
   "outputs": [
    {
     "data": {
      "text/plain": [
       "1-element Array{Tuple{Array{Float32,4}},1}:\n",
       " ([0.37992954 0.070988655 … 0.29911053 0.46475887; 0.37903905 0.9364985 … 0.23059261 0.8270004; … ; 0.6776364 0.6562984 … 0.9692384 0.6939837; 0.18655229 0.21907556 … 0.29852915 0.11676645]\n",
       "\n",
       "[0.2583952 0.6042876 … 0.766721 0.5066793; 0.12055302 0.50512695 … 0.22997344 0.5094577; … ; 0.49604833 0.103063226 … 0.47802067 0.8850615; 0.8030313 0.050997853 … 0.32245088 0.7609917]\n",
       "\n",
       "[0.56858206 0.090642095 … 0.4170401 0.40311337; 0.8840344 0.85863245 … 0.9819584 0.3181578; … ; 0.35650325 0.85456896 … 0.31865346 0.43770313; 0.46271265 0.9782238 … 0.61039174 0.71068454]\n",
       "\n",
       "[0.029081225 0.23114848 … 0.8794395 0.71889484; 0.2671628 0.91755974 … 0.20215917 0.40294683; … ; 0.49119902 0.011008978 … 0.75710094 0.66293716; 0.9576709 0.23863208 … 0.45917964 0.70883787],)"
      ]
     },
     "execution_count": 6,
     "metadata": {},
     "output_type": "execute_result"
    }
   ],
   "source": [
    "data = [(X,)]"
   ]
  },
  {
   "cell_type": "code",
   "execution_count": 7,
   "metadata": {},
   "outputs": [
    {
     "ename": "MethodError",
     "evalue": "MethodError: no method matching ∇maxpool(::Array{Float64,4}, ::Array{Float32,4}, ::Array{Float32,4}, ::PoolDims{2,(2, 2),(2, 2),(0, 0, 0, 0),(1, 1)})\nClosest candidates are:\n  ∇maxpool(::AbstractArray{T,N}, !Matched::AbstractArray{T,N}, !Matched::AbstractArray{T,N}, ::PoolDims; kwargs...) where {T, N} at /Users/uki/.julia/packages/NNlib/FAI3o/src/pooling.jl:123",
     "output_type": "error",
     "traceback": [
      "MethodError: no method matching ∇maxpool(::Array{Float64,4}, ::Array{Float32,4}, ::Array{Float32,4}, ::PoolDims{2,(2, 2),(2, 2),(0, 0, 0, 0),(1, 1)})\nClosest candidates are:\n  ∇maxpool(::AbstractArray{T,N}, !Matched::AbstractArray{T,N}, !Matched::AbstractArray{T,N}, ::PoolDims; kwargs...) where {T, N} at /Users/uki/.julia/packages/NNlib/FAI3o/src/pooling.jl:123",
      "",
      "Stacktrace:",
      " [1] (::Tracker.var\"#547#548\"{Base.Iterators.Pairs{Union{},Union{},Tuple{},NamedTuple{(),Tuple{}}},TrackedArray{…,Array{Float32,4}},PoolDims{2,(2, 2),(2, 2),(0, 0, 0, 0),(1, 1)},Array{Float32,4}})(::Array{Float64,4}) at /Users/uki/.julia/packages/Tracker/AMi2h/src/lib/array.jl:518",
      " [2] back_(::Tracker.Call{Tracker.var\"#547#548\"{Base.Iterators.Pairs{Union{},Union{},Tuple{},NamedTuple{(),Tuple{}}},TrackedArray{…,Array{Float32,4}},PoolDims{2,(2, 2),(2, 2),(0, 0, 0, 0),(1, 1)},Array{Float32,4}},Tuple{Tracker.Tracked{Array{Float32,4}},Nothing}}, ::Array{Float64,4}, ::Bool) at /Users/uki/.julia/packages/Tracker/AMi2h/src/back.jl:35",
      " [3] back(::Tracker.Tracked{Array{Float32,4}}, ::Array{Float64,4}, ::Bool) at /Users/uki/.julia/packages/Tracker/AMi2h/src/back.jl:58",
      " [4] #13 at /Users/uki/.julia/packages/Tracker/AMi2h/src/back.jl:38 [inlined]",
      " [5] foreach at ./abstractarray.jl:1920 [inlined]",
      " [6] back_(::Tracker.Call{Tracker.var\"#472#473\"{TrackedArray{…,Array{Float32,4}}},Tuple{Tracker.Tracked{Array{Float32,4}},Nothing}}, ::Array{Float64,2}, ::Bool) at /Users/uki/.julia/packages/Tracker/AMi2h/src/back.jl:38",
      " [7] back(::Tracker.Tracked{Array{Float32,2}}, ::Array{Float64,2}, ::Bool) at /Users/uki/.julia/packages/Tracker/AMi2h/src/back.jl:58",
      " [8] #13 at /Users/uki/.julia/packages/Tracker/AMi2h/src/back.jl:38 [inlined]",
      " [9] foreach at ./abstractarray.jl:1920 [inlined]",
      " [10] back_(::Tracker.Call{Tracker.var\"#521#522\"{TrackedArray{…,Array{Float32,2}},TrackedArray{…,Array{Float32,2}}},Tuple{Tracker.Tracked{Array{Float32,2}},Tracker.Tracked{Array{Float32,2}}}}, ::Array{Float64,2}, ::Bool) at /Users/uki/.julia/packages/Tracker/AMi2h/src/back.jl:38",
      " [11] back(::Tracker.Tracked{Array{Float32,2}}, ::Array{Float64,2}, ::Bool) at /Users/uki/.julia/packages/Tracker/AMi2h/src/back.jl:58",
      " [12] (::Tracker.var\"#13#14\"{Bool})(::Tracker.Tracked{Array{Float32,2}}, ::Array{Float64,2}) at /Users/uki/.julia/packages/Tracker/AMi2h/src/back.jl:38",
      " [13] foreach(::Function, ::Tuple{Tracker.Tracked{Array{Float32,2}},Tracker.Tracked{Array{Float32,1}}}, ::Tuple{Array{Float64,2},Array{Float64,1}}) at ./abstractarray.jl:1920",
      " [14] back_(::Tracker.Call{Tracker.var\"#back#560\"{2,Base.Broadcast.var\"#2#4\"{Base.Broadcast.var\"#8#10\"{Base.Broadcast.var\"#1#3\",Base.Broadcast.var\"#5#6\"{Base.Broadcast.var\"#5#6\"{Base.Broadcast.var\"#7#9\"}},Base.Broadcast.var\"#11#12\"{Base.Broadcast.var\"#11#12\"{Base.Broadcast.var\"#13#14\"}},Base.Broadcast.var\"#15#16\"{Base.Broadcast.var\"#15#16\"{Base.Broadcast.var\"#17#18\"}},typeof(+)},typeof(identity)},Tuple{TrackedArray{…,Array{Float32,2}},TrackedArray{…,Array{Float32,1}}}},Tuple{Tracker.Tracked{Array{Float32,2}},Tracker.Tracked{Array{Float32,1}}}}, ::Array{Float64,2}, ::Bool) at /Users/uki/.julia/packages/Tracker/AMi2h/src/back.jl:38",
      " [15] back(::Tracker.Tracked{Array{Float32,2}}, ::Array{Float64,2}, ::Bool) at /Users/uki/.julia/packages/Tracker/AMi2h/src/back.jl:58",
      " [16] #13 at /Users/uki/.julia/packages/Tracker/AMi2h/src/back.jl:38 [inlined]",
      " [17] foreach at ./abstractarray.jl:1920 [inlined]",
      " [18] back_(::Tracker.Call{Tracker.var\"#523#524\"{TrackedArray{…,Array{Float32,2}}},Tuple{Tracker.Tracked{Array{Float32,2}}}}, ::Array{Float64,2}, ::Bool) at /Users/uki/.julia/packages/Tracker/AMi2h/src/back.jl:38",
      " [19] back(::Tracker.Tracked{Array{Float32,2}}, ::Array{Float64,2}, ::Bool) at /Users/uki/.julia/packages/Tracker/AMi2h/src/back.jl:58",
      " [20] (::Tracker.var\"#13#14\"{Bool})(::Tracker.Tracked{Array{Float32,2}}, ::Array{Float64,2}) at /Users/uki/.julia/packages/Tracker/AMi2h/src/back.jl:38",
      " [21] foreach(::Function, ::Tuple{Nothing,Tracker.Tracked{Array{Float32,2}},Nothing}, ::Tuple{Array{Float64,2},Array{Float64,2},Float64}) at ./abstractarray.jl:1920",
      " [22] back_(::Tracker.Call{Tracker.var\"#back#560\"{3,Base.Broadcast.var\"#2#4\"{Base.Broadcast.var\"#8#10\"{Base.Broadcast.var\"#5#6\"{Base.Broadcast.var\"#1#3\"},Base.Broadcast.var\"#5#6\"{Base.Broadcast.var\"#8#10\"{Base.Broadcast.var\"#7#9\",Base.Broadcast.var\"#5#6\"{Base.Broadcast.var\"#7#9\"},Base.Broadcast.var\"#11#12\"{Base.Broadcast.var\"#13#14\"},Base.Broadcast.var\"#15#16\"{Base.Broadcast.var\"#17#18\"},typeof(log)}},Base.Broadcast.var\"#11#12\"{Base.Broadcast.var\"#11#12\"{Base.Broadcast.var\"#13#14\"}},Base.Broadcast.var\"#15#16\"{Base.Broadcast.var\"#15#16\"{Base.Broadcast.var\"#17#18\"}},typeof(*)},typeof(*)},Tuple{Array{Float64,2},TrackedArray{…,Array{Float32,2}},Int64}},Tuple{Nothing,Tracker.Tracked{Array{Float32,2}},Nothing}}, ::Array{Float64,2}, ::Bool) at /Users/uki/.julia/packages/Tracker/AMi2h/src/back.jl:38",
      " [23] back(::Tracker.Tracked{Array{Float64,2}}, ::Array{Float64,2}, ::Bool) at /Users/uki/.julia/packages/Tracker/AMi2h/src/back.jl:58",
      " [24] #13 at /Users/uki/.julia/packages/Tracker/AMi2h/src/back.jl:38 [inlined]",
      " [25] foreach at ./abstractarray.jl:1920 [inlined]",
      " [26] back_(::Tracker.Call{Tracker.var\"#494#495\"{TrackedArray{…,Array{Float64,2}}},Tuple{Tracker.Tracked{Array{Float64,2}}}}, ::Float64, ::Bool) at /Users/uki/.julia/packages/Tracker/AMi2h/src/back.jl:38",
      " [27] back(::Tracker.Tracked{Float64}, ::Float64, ::Bool) at /Users/uki/.julia/packages/Tracker/AMi2h/src/back.jl:58",
      " [28] #13 at /Users/uki/.julia/packages/Tracker/AMi2h/src/back.jl:38 [inlined]",
      " [29] foreach at ./abstractarray.jl:1920 [inlined]",
      " [30] back_(::Tracker.Call{Tracker.var\"#201#202\",Tuple{Tracker.Tracked{Float64}}}, ::Float64, ::Bool) at /Users/uki/.julia/packages/Tracker/AMi2h/src/back.jl:38",
      " [31] back(::Tracker.Tracked{Float64}, ::Float64, ::Bool) at /Users/uki/.julia/packages/Tracker/AMi2h/src/back.jl:58",
      " [32] #13 at /Users/uki/.julia/packages/Tracker/AMi2h/src/back.jl:38 [inlined]",
      " [33] foreach at ./abstractarray.jl:1920 [inlined]",
      " [34] back_(::Tracker.Call{Tracker.var\"#280#283\"{Rational{Int64}},Tuple{Tracker.Tracked{Float64},Nothing}}, ::Float64, ::Bool) at /Users/uki/.julia/packages/Tracker/AMi2h/src/back.jl:38",
      " [35] back(::Tracker.Tracked{Float64}, ::Int64, ::Bool) at /Users/uki/.julia/packages/Tracker/AMi2h/src/back.jl:58",
      " [36] #back!#15 at /Users/uki/.julia/packages/Tracker/AMi2h/src/back.jl:77 [inlined]",
      " [37] #back!#32 at /Users/uki/.julia/packages/Tracker/AMi2h/src/lib/real.jl:16 [inlined]",
      " [38] back!(::Tracker.TrackedReal{Float64}) at /Users/uki/.julia/packages/Tracker/AMi2h/src/lib/real.jl:14",
      " [39] gradient_(::Flux.Optimise.var\"#15#21\"{typeof(loss),Tuple{Array{Float32,4}}}, ::Tracker.Params) at /Users/uki/.julia/packages/Tracker/AMi2h/src/back.jl:4",
      " [40] gradient(::Function, ::Tracker.Params; nest::Bool) at /Users/uki/.julia/packages/Tracker/AMi2h/src/back.jl:164",
      " [41] gradient at /Users/uki/.julia/packages/Tracker/AMi2h/src/back.jl:164 [inlined]",
      " [42] macro expansion at /Users/uki/.julia/packages/Flux/qXNjB/src/optimise/train.jl:71 [inlined]",
      " [43] macro expansion at /Users/uki/.julia/packages/Juno/oLB1d/src/progress.jl:134 [inlined]",
      " [44] train!(::Function, ::Tracker.Params, ::Array{Tuple{Array{Float32,4}},1}, ::RMSProp; cb::Flux.Optimise.var\"#16#22\") at /Users/uki/.julia/packages/Flux/qXNjB/src/optimise/train.jl:69",
      " [45] train!(::Function, ::Tracker.Params, ::Array{Tuple{Array{Float32,4}},1}, ::RMSProp) at /Users/uki/.julia/packages/Flux/qXNjB/src/optimise/train.jl:67",
      " [46] top-level scope at In[7]:1"
     ]
    }
   ],
   "source": [
    "#Flux.train!(loss, data, opt) #deprecated\n",
    "Flux.train!(loss, parameters, data, opt)"
   ]
  },
  {
   "cell_type": "code",
   "execution_count": null,
   "metadata": {},
   "outputs": [],
   "source": []
  },
  {
   "cell_type": "code",
   "execution_count": null,
   "metadata": {},
   "outputs": [],
   "source": []
  },
  {
   "cell_type": "code",
   "execution_count": null,
   "metadata": {},
   "outputs": [],
   "source": []
  },
  {
   "cell_type": "code",
   "execution_count": null,
   "metadata": {},
   "outputs": [],
   "source": []
  }
 ],
 "metadata": {
  "kernelspec": {
   "display_name": "Julia 1.4.2",
   "language": "julia",
   "name": "julia-1.4"
  },
  "language_info": {
   "file_extension": ".jl",
   "mimetype": "application/julia",
   "name": "julia",
   "version": "1.4.2"
  }
 },
 "nbformat": 4,
 "nbformat_minor": 4
}
