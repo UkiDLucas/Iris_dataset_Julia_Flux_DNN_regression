{
 "cells": [
  {
   "cell_type": "markdown",
   "metadata": {},
   "source": [
    "# deep-learning-with-julia-introduction\n",
    "\n",
    "- https://marubon-ds.blogspot.com/2018/05/deep-learning-with-julia-introduction.html\n",
    "- https://github.com/FluxML/Flux.jl\n",
    "- https://fluxml.ai/Flux.jl/stable/models/basics/\n",
    "- https://www.reddit.com/r/Julia/comments/8jq9nr/julia_and_deep_learning/"
   ]
  },
  {
   "cell_type": "markdown",
   "metadata": {
    "toc": true
   },
   "source": [
    "<h1>Table of Contents<span class=\"tocSkip\"></span></h1>\n",
    "<div class=\"toc\"><ul class=\"toc-item\"><li><span><a href=\"#deep-learning-with-julia-introduction\" data-toc-modified-id=\"deep-learning-with-julia-introduction-1\">deep-learning-with-julia-introduction</a></span></li><li><span><a href=\"#Data-Generation\" data-toc-modified-id=\"Data-Generation-2\">Data Generation</a></span><ul class=\"toc-item\"><li><span><a href=\"#Normal-Distribution\" data-toc-modified-id=\"Normal-Distribution-2.1\">Normal Distribution</a></span></li><li><span><a href=\"#Plot\" data-toc-modified-id=\"Plot-2.2\">Plot</a></span></li></ul></li></ul></div>"
   ]
  },
  {
   "cell_type": "markdown",
   "metadata": {},
   "source": [
    "# Data Generation\n",
    "\n",
    "- X between 0 and 1\n",
    "- Y between -18 and 121"
   ]
  },
  {
   "cell_type": "markdown",
   "metadata": {},
   "source": [
    "## Normal Distribution"
   ]
  },
  {
   "cell_type": "code",
   "execution_count": 69,
   "metadata": {},
   "outputs": [
    {
     "data": {
      "text/plain": [
       "Normal{Float64}(μ=0.0, σ=10.0)"
      ]
     },
     "execution_count": 69,
     "metadata": {},
     "output_type": "execute_result"
    }
   ],
   "source": [
    "distribution = Normal(0, 10)"
   ]
  },
  {
   "cell_type": "code",
   "execution_count": 71,
   "metadata": {},
   "outputs": [
    {
     "name": "stdout",
     "output_type": "stream",
     "text": [
      "27.811012759000974 -31.723089999795462\n"
     ]
    }
   ],
   "source": [
    "b = rand(distribution, 100)\n",
    "println( maximum(b),\" \", minimum(b))"
   ]
  },
  {
   "cell_type": "code",
   "execution_count": 92,
   "metadata": {},
   "outputs": [
    {
     "data": {
      "image/png": "[encoded data removed]",
      "text/plain": [
       "Figure(PyObject <Figure size 640x480 with 1 Axes>)"
      ]
     },
     "metadata": {},
     "output_type": "display_data"
    },
    {
     "data": {
      "text/plain": [
       "PyObject <matplotlib.collections.PathCollection object at 0x7fba83a5fc50>"
      ]
     },
     "execution_count": 92,
     "metadata": {},
     "output_type": "execute_result"
    }
   ],
   "source": [
    "using PyPlot\n",
    "scatter(b, b)"
   ]
  },
  {
   "cell_type": "code",
   "execution_count": 93,
   "metadata": {},
   "outputs": [
    {
     "data": {
      "image/svg+xml": [
       "<?xml version=\"1.0\" encoding=\"utf-8\"?>\n",
       "<svg xmlns=\"http://www.w3.org/2000/svg\" xmlns:xlink=\"http://www.w3.org/1999/xlink\" width=\"600\" height=\"400\" viewBox=\"0 0 2400 1600\">\n",
       "<defs>\n",
       "  <clipPath id=\"clip0800\">\n",
       "    <rect x=\"0\" y=\"0\" width=\"2400\" height=\"1600\"/>\n",
       "  </clipPath>\n",
       "</defs>\n",
       "<path clip-path=\"url(#clip0800)\" d=\"\n",
       "M0 1600 L2400 1600 L2400 0 L0 0  Z\n",
       "  \" fill=\"#ffffff\" fill-rule=\"evenodd\" fill-opacity=\"1\"/>\n",
       "<defs>\n",
       "  <clipPath id=\"clip0801\">\n",
       "    <rect x=\"480\" y=\"0\" width=\"1681\" height=\"1600\"/>\n",
       "  </clipPath>\n",
       "</defs>\n",
       "<path clip-path=\"url(#clip0800)\" d=\"\n",
       "M152.848 1486.45 L2352.76 1486.45 L2352.76 123.472 L152.848 123.472  Z\n",
       "  \" fill=\"#ffffff\" fill-rule=\"evenodd\" fill-opacity=\"1\"/>\n",
       "<defs>\n",
       "  <clipPath id=\"clip0802\">\n",
       "    <rect x=\"152\" y=\"123\" width=\"2201\" height=\"1364\"/>\n",
       "  </clipPath>\n",
       "</defs>\n",
       "<polyline clip-path=\"url(#clip0802)\" style=\"stroke:#000000; stroke-width:2; stroke-opacity:0.1; fill:none\" points=\"\n",
       "  194.146,1486.45 194.146,123.472 \n",
       "  \"/>\n",
       "<polyline clip-path=\"url(#clip0802)\" style=\"stroke:#000000; stroke-width:2; stroke-opacity:0.1; fill:none\" points=\"\n",
       "  718.233,1486.45 718.233,123.472 \n",
       "  \"/>\n",
       "<polyline clip-path=\"url(#clip0802)\" style=\"stroke:#000000; stroke-width:2; stroke-opacity:0.1; fill:none\" points=\"\n",
       "  1242.32,1486.45 1242.32,123.472 \n",
       "  \"/>\n",
       "<polyline clip-path=\"url(#clip0802)\" style=\"stroke:#000000; stroke-width:2; stroke-opacity:0.1; fill:none\" points=\"\n",
       "  1766.41,1486.45 1766.41,123.472 \n",
       "  \"/>\n",
       "<polyline clip-path=\"url(#clip0802)\" style=\"stroke:#000000; stroke-width:2; stroke-opacity:0.1; fill:none\" points=\"\n",
       "  2290.49,1486.45 2290.49,123.472 \n",
       "  \"/>\n",
       "<polyline clip-path=\"url(#clip0802)\" style=\"stroke:#000000; stroke-width:2; stroke-opacity:0.1; fill:none\" points=\"\n",
       "  152.848,1410.66 2352.76,1410.66 \n",
       "  \"/>\n",
       "<polyline clip-path=\"url(#clip0802)\" style=\"stroke:#000000; stroke-width:2; stroke-opacity:0.1; fill:none\" points=\"\n",
       "  152.848,1194.68 2352.76,1194.68 \n",
       "  \"/>\n",
       "<polyline clip-path=\"url(#clip0802)\" style=\"stroke:#000000; stroke-width:2; stroke-opacity:0.1; fill:none\" points=\"\n",
       "  152.848,978.695 2352.76,978.695 \n",
       "  \"/>\n",
       "<polyline clip-path=\"url(#clip0802)\" style=\"stroke:#000000; stroke-width:2; stroke-opacity:0.1; fill:none\" points=\"\n",
       "  152.848,762.713 2352.76,762.713 \n",
       "  \"/>\n",
       "<polyline clip-path=\"url(#clip0802)\" style=\"stroke:#000000; stroke-width:2; stroke-opacity:0.1; fill:none\" points=\"\n",
       "  152.848,546.732 2352.76,546.732 \n",
       "  \"/>\n",
       "<polyline clip-path=\"url(#clip0802)\" style=\"stroke:#000000; stroke-width:2; stroke-opacity:0.1; fill:none\" points=\"\n",
       "  152.848,330.75 2352.76,330.75 \n",
       "  \"/>\n",
       "<polyline clip-path=\"url(#clip0800)\" style=\"stroke:#000000; stroke-width:4; stroke-opacity:1; fill:none\" points=\"\n",
       "  152.848,1486.45 2352.76,1486.45 \n",
       "  \"/>\n",
       "<polyline clip-path=\"url(#clip0800)\" style=\"stroke:#000000; stroke-width:4; stroke-opacity:1; fill:none\" points=\"\n",
       "  152.848,1486.45 152.848,123.472 \n",
       "  \"/>\n",
       "<polyline clip-path=\"url(#clip0800)\" style=\"stroke:#000000; stroke-width:4; stroke-opacity:1; fill:none\" points=\"\n",
       "  194.146,1486.45 194.146,1470.09 \n",
       "  \"/>\n",
       "<polyline clip-path=\"url(#clip0800)\" style=\"stroke:#000000; stroke-width:4; stroke-opacity:1; fill:none\" points=\"\n",
       "  718.233,1486.45 718.233,1470.09 \n",
       "  \"/>\n",
       "<polyline clip-path=\"url(#clip0800)\" style=\"stroke:#000000; stroke-width:4; stroke-opacity:1; fill:none\" points=\"\n",
       "  1242.32,1486.45 1242.32,1470.09 \n",
       "  \"/>\n",
       "<polyline clip-path=\"url(#clip0800)\" style=\"stroke:#000000; stroke-width:4; stroke-opacity:1; fill:none\" points=\"\n",
       "  1766.41,1486.45 1766.41,1470.09 \n",
       "  \"/>\n",
       "<polyline clip-path=\"url(#clip0800)\" style=\"stroke:#000000; stroke-width:4; stroke-opacity:1; fill:none\" points=\"\n",
       "  2290.49,1486.45 2290.49,1470.09 \n",
       "  \"/>\n",
       "<polyline clip-path=\"url(#clip0800)\" style=\"stroke:#000000; stroke-width:4; stroke-opacity:1; fill:none\" points=\"\n",
       "  152.848,1410.66 179.247,1410.66 \n",
       "  \"/>\n",
       "<polyline clip-path=\"url(#clip0800)\" style=\"stroke:#000000; stroke-width:4; stroke-opacity:1; fill:none\" points=\"\n",
       "  152.848,1194.68 179.247,1194.68 \n",
       "  \"/>\n",
       "<polyline clip-path=\"url(#clip0800)\" style=\"stroke:#000000; stroke-width:4; stroke-opacity:1; fill:none\" points=\"\n",
       "  152.848,978.695 179.247,978.695 \n",
       "  \"/>\n",
       "<polyline clip-path=\"url(#clip0800)\" style=\"stroke:#000000; stroke-width:4; stroke-opacity:1; fill:none\" points=\"\n",
       "  152.848,762.713 179.247,762.713 \n",
       "  \"/>\n",
       "<polyline clip-path=\"url(#clip0800)\" style=\"stroke:#000000; stroke-width:4; stroke-opacity:1; fill:none\" points=\"\n",
       "  152.848,546.732 179.247,546.732 \n",
       "  \"/>\n",
       "<polyline clip-path=\"url(#clip0800)\" style=\"stroke:#000000; stroke-width:4; stroke-opacity:1; fill:none\" points=\"\n",
       "  152.848,330.75 179.247,330.75 \n",
       "  \"/>\n",
       "<path clip-path=\"url(#clip0800)\" d=\"M 0 0 M194.146 1508.44 Q190.535 1508.44 188.707 1512 Q186.901 1515.55 186.901 1522.67 Q186.901 1529.78 188.707 1533.35 Q190.535 1536.89 194.146 1536.89 Q197.781 1536.89 199.586 1533.35 Q201.415 1529.78 201.415 1522.67 Q201.415 1515.55 199.586 1512 Q197.781 1508.44 194.146 1508.44 M194.146 1504.73 Q199.956 1504.73 203.012 1509.34 Q206.091 1513.92 206.091 1522.67 Q206.091 1531.4 203.012 1536.01 Q199.956 1540.59 194.146 1540.59 Q188.336 1540.59 185.257 1536.01 Q182.202 1531.4 182.202 1522.67 Q182.202 1513.92 185.257 1509.34 Q188.336 1504.73 194.146 1504.73 Z\" fill=\"#000000\" fill-rule=\"evenodd\" fill-opacity=\"1\" /><path clip-path=\"url(#clip0800)\" d=\"M 0 0 M699.877 1535.98 L716.196 1535.98 L716.196 1539.92 L694.252 1539.92 L694.252 1535.98 Q696.914 1533.23 701.497 1528.6 Q706.104 1523.95 707.284 1522.61 Q709.53 1520.08 710.409 1518.35 Q711.312 1516.59 711.312 1514.9 Q711.312 1512.14 709.368 1510.41 Q707.446 1508.67 704.345 1508.67 Q702.145 1508.67 699.692 1509.43 Q697.261 1510.2 694.483 1511.75 L694.483 1507.03 Q697.308 1505.89 699.761 1505.31 Q702.215 1504.73 704.252 1504.73 Q709.622 1504.73 712.817 1507.42 Q716.011 1510.11 716.011 1514.6 Q716.011 1516.73 715.201 1518.65 Q714.414 1520.54 712.307 1523.14 Q711.729 1523.81 708.627 1527.03 Q705.525 1530.22 699.877 1535.98 Z\" fill=\"#000000\" fill-rule=\"evenodd\" fill-opacity=\"1\" /><path clip-path=\"url(#clip0800)\" d=\"M 0 0 M721.312 1505.36 L739.668 1505.36 L739.668 1509.3 L725.594 1509.3 L725.594 1517.77 Q726.613 1517.42 727.631 1517.26 Q728.65 1517.07 729.668 1517.07 Q735.455 1517.07 738.835 1520.24 Q742.215 1523.42 742.215 1528.83 Q742.215 1534.41 738.742 1537.51 Q735.27 1540.59 728.951 1540.59 Q726.775 1540.59 724.506 1540.22 Q722.261 1539.85 719.854 1539.11 L719.854 1534.41 Q721.937 1535.54 724.159 1536.1 Q726.381 1536.66 728.858 1536.66 Q732.863 1536.66 735.201 1534.55 Q737.539 1532.44 737.539 1528.83 Q737.539 1525.22 735.201 1523.11 Q732.863 1521.01 728.858 1521.01 Q726.983 1521.01 725.108 1521.42 Q723.256 1521.84 721.312 1522.72 L721.312 1505.36 Z\" fill=\"#000000\" fill-rule=\"evenodd\" fill-opacity=\"1\" /><path clip-path=\"url(#clip0800)\" d=\"M 0 0 M1219.09 1505.36 L1237.45 1505.36 L1237.45 1509.3 L1223.37 1509.3 L1223.37 1517.77 Q1224.39 1517.42 1225.41 1517.26 Q1226.43 1517.07 1227.45 1517.07 Q1233.23 1517.07 1236.61 1520.24 Q1239.99 1523.42 1239.99 1528.83 Q1239.99 1534.41 1236.52 1537.51 Q1233.05 1540.59 1226.73 1540.59 Q1224.55 1540.59 1222.29 1540.22 Q1220.04 1539.85 1217.63 1539.11 L1217.63 1534.41 Q1219.72 1535.54 1221.94 1536.1 Q1224.16 1536.66 1226.64 1536.66 Q1230.64 1536.66 1232.98 1534.55 Q1235.32 1532.44 1235.32 1528.83 Q1235.32 1525.22 1232.98 1523.11 Q1230.64 1521.01 1226.64 1521.01 Q1224.76 1521.01 1222.89 1521.42 Q1221.04 1521.84 1219.09 1522.72 L1219.09 1505.36 Z\" fill=\"#000000\" fill-rule=\"evenodd\" fill-opacity=\"1\" /><path clip-path=\"url(#clip0800)\" d=\"M 0 0 M1255.06 1508.44 Q1251.45 1508.44 1249.62 1512 Q1247.82 1515.55 1247.82 1522.67 Q1247.82 1529.78 1249.62 1533.35 Q1251.45 1536.89 1255.06 1536.89 Q1258.7 1536.89 1260.5 1533.35 Q1262.33 1529.78 1262.33 1522.67 Q1262.33 1515.55 1260.5 1512 Q1258.7 1508.44 1255.06 1508.44 M1255.06 1504.73 Q1260.87 1504.73 1263.93 1509.34 Q1267.01 1513.92 1267.01 1522.67 Q1267.01 1531.4 1263.93 1536.01 Q1260.87 1540.59 1255.06 1540.59 Q1249.25 1540.59 1246.17 1536.01 Q1243.12 1531.4 1243.12 1522.67 Q1243.12 1513.92 1246.17 1509.34 Q1249.25 1504.73 1255.06 1504.73 Z\" fill=\"#000000\" fill-rule=\"evenodd\" fill-opacity=\"1\" /><path clip-path=\"url(#clip0800)\" d=\"M 0 0 M1742.29 1505.36 L1764.51 1505.36 L1764.51 1507.35 L1751.96 1539.92 L1747.08 1539.92 L1758.88 1509.3 L1742.29 1509.3 L1742.29 1505.36 Z\" fill=\"#000000\" fill-rule=\"evenodd\" fill-opacity=\"1\" /><path clip-path=\"url(#clip0800)\" d=\"M 0 0 M1769.62 1505.36 L1787.98 1505.36 L1787.98 1509.3 L1773.91 1509.3 L1773.91 1517.77 Q1774.93 1517.42 1775.94 1517.26 Q1776.96 1517.07 1777.98 1517.07 Q1783.77 1517.07 1787.15 1520.24 Q1790.53 1523.42 1790.53 1528.83 Q1790.53 1534.41 1787.06 1537.51 Q1783.58 1540.59 1777.26 1540.59 Q1775.09 1540.59 1772.82 1540.22 Q1770.57 1539.85 1768.17 1539.11 L1768.17 1534.41 Q1770.25 1535.54 1772.47 1536.1 Q1774.69 1536.66 1777.17 1536.66 Q1781.18 1536.66 1783.51 1534.55 Q1785.85 1532.44 1785.85 1528.83 Q1785.85 1525.22 1783.51 1523.11 Q1781.18 1521.01 1777.17 1521.01 Q1775.3 1521.01 1773.42 1521.42 Q1771.57 1521.84 1769.62 1522.72 L1769.62 1505.36 Z\" fill=\"#000000\" fill-rule=\"evenodd\" fill-opacity=\"1\" /><path clip-path=\"url(#clip0800)\" d=\"M 0 0 M2253.86 1535.98 L2261.5 1535.98 L2261.5 1509.62 L2253.19 1511.29 L2253.19 1507.03 L2261.46 1505.36 L2266.13 1505.36 L2266.13 1535.98 L2273.77 1535.98 L2273.77 1539.92 L2253.86 1539.92 L2253.86 1535.98 Z\" fill=\"#000000\" fill-rule=\"evenodd\" fill-opacity=\"1\" /><path clip-path=\"url(#clip0800)\" d=\"M 0 0 M2288.84 1508.44 Q2285.23 1508.44 2283.4 1512 Q2281.59 1515.55 2281.59 1522.67 Q2281.59 1529.78 2283.4 1533.35 Q2285.23 1536.89 2288.84 1536.89 Q2292.47 1536.89 2294.28 1533.35 Q2296.11 1529.78 2296.11 1522.67 Q2296.11 1515.55 2294.28 1512 Q2292.47 1508.44 2288.84 1508.44 M2288.84 1504.73 Q2294.65 1504.73 2297.7 1509.34 Q2300.78 1513.92 2300.78 1522.67 Q2300.78 1531.4 2297.7 1536.01 Q2294.65 1540.59 2288.84 1540.59 Q2283.03 1540.59 2279.95 1536.01 Q2276.89 1531.4 2276.89 1522.67 Q2276.89 1513.92 2279.95 1509.34 Q2283.03 1504.73 2288.84 1504.73 Z\" fill=\"#000000\" fill-rule=\"evenodd\" fill-opacity=\"1\" /><path clip-path=\"url(#clip0800)\" d=\"M 0 0 M2315.85 1508.44 Q2312.24 1508.44 2310.41 1512 Q2308.61 1515.55 2308.61 1522.67 Q2308.61 1529.78 2310.41 1533.35 Q2312.24 1536.89 2315.85 1536.89 Q2319.49 1536.89 2321.29 1533.35 Q2323.12 1529.78 2323.12 1522.67 Q2323.12 1515.55 2321.29 1512 Q2319.49 1508.44 2315.85 1508.44 M2315.85 1504.73 Q2321.66 1504.73 2324.72 1509.34 Q2327.8 1513.92 2327.8 1522.67 Q2327.8 1531.4 2324.72 1536.01 Q2321.66 1540.59 2315.85 1540.59 Q2310.04 1540.59 2306.96 1536.01 Q2303.91 1531.4 2303.91 1522.67 Q2303.91 1513.92 2306.96 1509.34 Q2310.04 1504.73 2315.85 1504.73 Z\" fill=\"#000000\" fill-rule=\"evenodd\" fill-opacity=\"1\" /><path clip-path=\"url(#clip0800)\" d=\"M 0 0 M62.9921 1413.05 L75.4689 1413.05 L75.4689 1416.85 L62.9921 1416.85 L62.9921 1413.05 Z\" fill=\"#000000\" fill-rule=\"evenodd\" fill-opacity=\"1\" /><path clip-path=\"url(#clip0800)\" d=\"M 0 0 M94.7049 1409.3 Q98.0614 1410.02 99.9364 1412.29 Q101.835 1414.56 101.835 1417.89 Q101.835 1423.01 98.316 1425.81 Q94.7975 1428.61 88.3161 1428.61 Q86.1402 1428.61 83.8253 1428.17 Q81.5337 1427.75 79.08 1426.9 L79.08 1422.38 Q81.0244 1423.52 83.3392 1424.09 Q85.654 1424.67 88.1772 1424.67 Q92.5753 1424.67 94.867 1422.94 Q97.1818 1421.2 97.1818 1417.89 Q97.1818 1414.84 95.029 1413.12 Q92.8994 1411.39 89.0799 1411.39 L85.0522 1411.39 L85.0522 1407.54 L89.2651 1407.54 Q92.7142 1407.54 94.5429 1406.18 Q96.3716 1404.79 96.3716 1402.2 Q96.3716 1399.53 94.4734 1398.12 Q92.5984 1396.69 89.0799 1396.69 Q87.1587 1396.69 84.9596 1397.1 Q82.7605 1397.52 80.1217 1398.4 L80.1217 1394.23 Q82.7837 1393.49 85.0985 1393.12 Q87.4364 1392.75 89.4966 1392.75 Q94.8207 1392.75 97.9225 1395.18 Q101.024 1397.59 101.024 1401.71 Q101.024 1404.58 99.3808 1406.57 Q97.7373 1408.54 94.7049 1409.3 Z\" fill=\"#000000\" fill-rule=\"evenodd\" fill-opacity=\"1\" /><path clip-path=\"url(#clip0800)\" d=\"M 0 0 M116.904 1396.46 Q113.293 1396.46 111.464 1400.02 Q109.659 1403.56 109.659 1410.69 Q109.659 1417.8 111.464 1421.36 Q113.293 1424.91 116.904 1424.91 Q120.538 1424.91 122.344 1421.36 Q124.172 1417.8 124.172 1410.69 Q124.172 1403.56 122.344 1400.02 Q120.538 1396.46 116.904 1396.46 M116.904 1392.75 Q122.714 1392.75 125.77 1397.36 Q128.848 1401.94 128.848 1410.69 Q128.848 1419.42 125.77 1424.03 Q122.714 1428.61 116.904 1428.61 Q111.094 1428.61 108.015 1424.03 Q104.959 1419.42 104.959 1410.69 Q104.959 1401.94 108.015 1397.36 Q111.094 1392.75 116.904 1392.75 Z\" fill=\"#000000\" fill-rule=\"evenodd\" fill-opacity=\"1\" /><path clip-path=\"url(#clip0800)\" d=\"M 0 0 M63.9412 1197.07 L76.418 1197.07 L76.418 1200.87 L63.9412 1200.87 L63.9412 1197.07 Z\" fill=\"#000000\" fill-rule=\"evenodd\" fill-opacity=\"1\" /><path clip-path=\"url(#clip0800)\" d=\"M 0 0 M85.5152 1208.02 L101.835 1208.02 L101.835 1211.96 L79.8902 1211.96 L79.8902 1208.02 Q82.5522 1205.27 87.1355 1200.64 Q91.742 1195.98 92.9225 1194.64 Q95.1679 1192.12 96.0475 1190.38 Q96.9503 1188.62 96.9503 1186.93 Q96.9503 1184.18 95.0058 1182.44 Q93.0846 1180.71 89.9827 1180.71 Q87.7837 1180.71 85.33 1181.47 Q82.8994 1182.23 80.1217 1183.78 L80.1217 1179.06 Q82.9457 1177.93 85.3994 1177.35 Q87.8531 1176.77 89.8901 1176.77 Q95.2605 1176.77 98.4549 1179.46 Q101.649 1182.14 101.649 1186.63 Q101.649 1188.76 100.839 1190.68 Q100.052 1192.58 97.9456 1195.17 Q97.3669 1195.85 94.2651 1199.06 Q91.1633 1202.26 85.5152 1208.02 Z\" fill=\"#000000\" fill-rule=\"evenodd\" fill-opacity=\"1\" /><path clip-path=\"url(#clip0800)\" d=\"M 0 0 M116.904 1180.47 Q113.293 1180.47 111.464 1184.04 Q109.659 1187.58 109.659 1194.71 Q109.659 1201.82 111.464 1205.38 Q113.293 1208.92 116.904 1208.92 Q120.538 1208.92 122.344 1205.38 Q124.172 1201.82 124.172 1194.71 Q124.172 1187.58 122.344 1184.04 Q120.538 1180.47 116.904 1180.47 M116.904 1176.77 Q122.714 1176.77 125.77 1181.38 Q128.848 1185.96 128.848 1194.71 Q128.848 1203.44 125.77 1208.04 Q122.714 1212.63 116.904 1212.63 Q111.094 1212.63 108.015 1208.04 Q104.959 1203.44 104.959 1194.71 Q104.959 1185.96 108.015 1181.38 Q111.094 1176.77 116.904 1176.77 Z\" fill=\"#000000\" fill-rule=\"evenodd\" fill-opacity=\"1\" /><path clip-path=\"url(#clip0800)\" d=\"M 0 0 M63.5708 981.09 L76.0476 981.09 L76.0476 984.887 L63.5708 984.887 L63.5708 981.09 Z\" fill=\"#000000\" fill-rule=\"evenodd\" fill-opacity=\"1\" /><path clip-path=\"url(#clip0800)\" d=\"M 0 0 M81.9272 992.039 L89.5661 992.039 L89.5661 965.674 L81.2559 967.341 L81.2559 963.081 L89.5198 961.415 L94.1957 961.415 L94.1957 992.039 L101.835 992.039 L101.835 995.975 L81.9272 995.975 L81.9272 992.039 Z\" fill=\"#000000\" fill-rule=\"evenodd\" fill-opacity=\"1\" /><path clip-path=\"url(#clip0800)\" d=\"M 0 0 M116.904 964.493 Q113.293 964.493 111.464 968.058 Q109.659 971.6 109.659 978.729 Q109.659 985.836 111.464 989.401 Q113.293 992.942 116.904 992.942 Q120.538 992.942 122.344 989.401 Q124.172 985.836 124.172 978.729 Q124.172 971.6 122.344 968.058 Q120.538 964.493 116.904 964.493 M116.904 960.79 Q122.714 960.79 125.77 965.396 Q128.848 969.979 128.848 978.729 Q128.848 987.456 125.77 992.063 Q122.714 996.646 116.904 996.646 Q111.094 996.646 108.015 992.063 Q104.959 987.456 104.959 978.729 Q104.959 969.979 108.015 965.396 Q111.094 960.79 116.904 960.79 Z\" fill=\"#000000\" fill-rule=\"evenodd\" fill-opacity=\"1\" /><path clip-path=\"url(#clip0800)\" d=\"M 0 0 M116.904 748.512 Q113.293 748.512 111.464 752.077 Q109.659 755.618 109.659 762.748 Q109.659 769.854 111.464 773.419 Q113.293 776.961 116.904 776.961 Q120.538 776.961 122.344 773.419 Q124.172 769.854 124.172 762.748 Q124.172 755.618 122.344 752.077 Q120.538 748.512 116.904 748.512 M116.904 744.808 Q122.714 744.808 125.77 749.415 Q128.848 753.998 128.848 762.748 Q128.848 771.475 125.77 776.081 Q122.714 780.664 116.904 780.664 Q111.094 780.664 108.015 776.081 Q104.959 771.475 104.959 762.748 Q104.959 753.998 108.015 749.415 Q111.094 744.808 116.904 744.808 Z\" fill=\"#000000\" fill-rule=\"evenodd\" fill-opacity=\"1\" /><path clip-path=\"url(#clip0800)\" d=\"M 0 0 M81.9272 560.077 L89.5661 560.077 L89.5661 533.711 L81.2559 535.378 L81.2559 531.118 L89.5198 529.452 L94.1957 529.452 L94.1957 560.077 L101.835 560.077 L101.835 564.012 L81.9272 564.012 L81.9272 560.077 Z\" fill=\"#000000\" fill-rule=\"evenodd\" fill-opacity=\"1\" /><path clip-path=\"url(#clip0800)\" d=\"M 0 0 M116.904 532.53 Q113.293 532.53 111.464 536.095 Q109.659 539.637 109.659 546.766 Q109.659 553.873 111.464 557.438 Q113.293 560.979 116.904 560.979 Q120.538 560.979 122.344 557.438 Q124.172 553.873 124.172 546.766 Q124.172 539.637 122.344 536.095 Q120.538 532.53 116.904 532.53 M116.904 528.827 Q122.714 528.827 125.77 533.433 Q128.848 538.017 128.848 546.766 Q128.848 555.493 125.77 560.1 Q122.714 564.683 116.904 564.683 Q111.094 564.683 108.015 560.1 Q104.959 555.493 104.959 546.766 Q104.959 538.017 108.015 533.433 Q111.094 528.827 116.904 528.827 Z\" fill=\"#000000\" fill-rule=\"evenodd\" fill-opacity=\"1\" /><path clip-path=\"url(#clip0800)\" d=\"M 0 0 M85.5152 344.095 L101.835 344.095 L101.835 348.03 L79.8902 348.03 L79.8902 344.095 Q82.5522 341.341 87.1355 336.711 Q91.742 332.058 92.9225 330.716 Q95.1679 328.192 96.0475 326.456 Q96.9503 324.697 96.9503 323.007 Q96.9503 320.253 95.0058 318.517 Q93.0846 316.78 89.9827 316.78 Q87.7837 316.78 85.33 317.544 Q82.8994 318.308 80.1217 319.859 L80.1217 315.137 Q82.9457 314.003 85.3994 313.424 Q87.8531 312.845 89.8901 312.845 Q95.2605 312.845 98.4549 315.53 Q101.649 318.216 101.649 322.706 Q101.649 324.836 100.839 326.757 Q100.052 328.655 97.9456 331.248 Q97.3669 331.919 94.2651 335.137 Q91.1633 338.331 85.5152 344.095 Z\" fill=\"#000000\" fill-rule=\"evenodd\" fill-opacity=\"1\" /><path clip-path=\"url(#clip0800)\" d=\"M 0 0 M116.904 316.549 Q113.293 316.549 111.464 320.114 Q109.659 323.655 109.659 330.785 Q109.659 337.891 111.464 341.456 Q113.293 344.998 116.904 344.998 Q120.538 344.998 122.344 341.456 Q124.172 337.891 124.172 330.785 Q124.172 323.655 122.344 320.114 Q120.538 316.549 116.904 316.549 M116.904 312.845 Q122.714 312.845 125.77 317.452 Q128.848 322.035 128.848 330.785 Q128.848 339.512 125.77 344.118 Q122.714 348.702 116.904 348.702 Q111.094 348.702 108.015 344.118 Q104.959 339.512 104.959 330.785 Q104.959 322.035 108.015 317.452 Q111.094 312.845 116.904 312.845 Z\" fill=\"#000000\" fill-rule=\"evenodd\" fill-opacity=\"1\" /><path clip-path=\"url(#clip0800)\" d=\"M 0 0 M1123.68 18.8205 L1123.68 65.8515 L1133.56 65.8515 Q1146.08 65.8515 1151.87 60.1802 Q1157.71 54.509 1157.71 42.2752 Q1157.71 30.1225 1151.87 24.4918 Q1146.08 18.8205 1133.56 18.8205 L1123.68 18.8205 M1115.5 12.096 L1132.31 12.096 Q1149.89 12.096 1158.11 19.4281 Q1166.34 26.7198 1166.34 42.2752 Q1166.34 57.9117 1158.07 65.2439 Q1149.81 72.576 1132.31 72.576 L1115.5 72.576 L1115.5 12.096 Z\" fill=\"#000000\" fill-rule=\"evenodd\" fill-opacity=\"1\" /><path clip-path=\"url(#clip0800)\" d=\"M 0 0 M1212.96 48.0275 L1212.96 51.6733 L1178.69 51.6733 Q1179.18 59.3701 1183.31 63.421 Q1187.48 67.4314 1194.89 67.4314 Q1199.19 67.4314 1203.2 66.3781 Q1207.25 65.3249 1211.22 63.2184 L1211.22 70.267 Q1207.21 71.9684 1203 72.8596 Q1198.78 73.7508 1194.45 73.7508 Q1183.59 73.7508 1177.23 67.4314 Q1170.91 61.1119 1170.91 50.3365 Q1170.91 39.1965 1176.91 32.6746 Q1182.94 26.1121 1193.15 26.1121 Q1202.31 26.1121 1207.61 32.0264 Q1212.96 37.9003 1212.96 48.0275 M1205.51 45.84 Q1205.43 39.7232 1202.06 36.0774 Q1198.74 32.4315 1193.23 32.4315 Q1187 32.4315 1183.23 35.9558 Q1179.5 39.4801 1178.93 45.8805 L1205.51 45.84 Z\" fill=\"#000000\" fill-rule=\"evenodd\" fill-opacity=\"1\" /><path clip-path=\"url(#clip0800)\" d=\"M 0 0 M1258.49 45.1919 L1258.49 72.576 L1251.04 72.576 L1251.04 45.4349 Q1251.04 38.994 1248.53 35.7938 Q1246.02 32.5936 1240.99 32.5936 Q1234.96 32.5936 1231.47 36.4419 Q1227.99 40.2903 1227.99 46.9338 L1227.99 72.576 L1220.5 72.576 L1220.5 27.2059 L1227.99 27.2059 L1227.99 34.2544 Q1230.66 30.163 1234.27 28.1376 Q1237.92 26.1121 1242.65 26.1121 Q1250.47 26.1121 1254.48 30.9732 Q1258.49 35.7938 1258.49 45.1919 Z\" fill=\"#000000\" fill-rule=\"evenodd\" fill-opacity=\"1\" /><path clip-path=\"url(#clip0800)\" d=\"M 0 0 M1295.24 28.5427 L1295.24 35.5912 Q1292.08 33.9709 1288.67 33.1607 Q1285.27 32.3505 1281.62 32.3505 Q1276.07 32.3505 1273.28 34.0519 Q1270.52 35.7533 1270.52 39.156 Q1270.52 41.7486 1272.51 43.2475 Q1274.49 44.7058 1280.49 46.0426 L1283.04 46.6097 Q1290.98 48.3111 1294.3 51.4303 Q1297.67 54.509 1297.67 60.0587 Q1297.67 66.3781 1292.64 70.0644 Q1287.66 73.7508 1278.91 73.7508 Q1275.26 73.7508 1271.29 73.0216 Q1267.37 72.3329 1262.99 70.9151 L1262.99 63.2184 Q1267.12 65.3654 1271.13 66.4591 Q1275.14 67.5124 1279.07 67.5124 Q1284.34 67.5124 1287.17 65.73 Q1290.01 63.9071 1290.01 60.6258 Q1290.01 57.5877 1287.94 55.9673 Q1285.92 54.3469 1278.99 52.8481 L1276.4 52.2405 Q1269.47 50.7821 1266.39 47.7845 Q1263.31 44.7463 1263.31 39.4801 Q1263.31 33.0797 1267.85 29.5959 Q1272.39 26.1121 1280.73 26.1121 Q1284.86 26.1121 1288.51 26.7198 Q1292.16 27.3274 1295.24 28.5427 Z\" fill=\"#000000\" fill-rule=\"evenodd\" fill-opacity=\"1\" /><path clip-path=\"url(#clip0800)\" d=\"M 0 0 M1305.48 27.2059 L1312.94 27.2059 L1312.94 72.576 L1305.48 72.576 L1305.48 27.2059 M1305.48 9.54393 L1312.94 9.54393 L1312.94 18.9825 L1305.48 18.9825 L1305.48 9.54393 Z\" fill=\"#000000\" fill-rule=\"evenodd\" fill-opacity=\"1\" /><path clip-path=\"url(#clip0800)\" d=\"M 0 0 M1328.13 14.324 L1328.13 27.2059 L1343.48 27.2059 L1343.48 32.9987 L1328.13 32.9987 L1328.13 57.6282 Q1328.13 63.1779 1329.63 64.7578 Q1331.17 66.3376 1335.83 66.3376 L1343.48 66.3376 L1343.48 72.576 L1335.83 72.576 Q1327.2 72.576 1323.92 69.3758 Q1320.63 66.1351 1320.63 57.6282 L1320.63 32.9987 L1315.17 32.9987 L1315.17 27.2059 L1320.63 27.2059 L1320.63 14.324 L1328.13 14.324 Z\" fill=\"#000000\" fill-rule=\"evenodd\" fill-opacity=\"1\" /><path clip-path=\"url(#clip0800)\" d=\"M 0 0 M1370.18 76.7889 Q1367.02 84.8907 1364.02 87.3618 Q1361.02 89.8329 1356 89.8329 L1350.04 89.8329 L1350.04 83.5945 L1354.42 83.5945 Q1357.5 83.5945 1359.2 82.1361 Q1360.9 80.6778 1362.97 75.2496 L1364.3 71.8468 L1345.95 27.2059 L1353.85 27.2059 L1368.03 62.6918 L1382.21 27.2059 L1390.11 27.2059 L1370.18 76.7889 Z\" fill=\"#000000\" fill-rule=\"evenodd\" fill-opacity=\"1\" /><path clip-path=\"url(#clip0802)\" d=\"\n",
       "M215.11 860.863 L236.073 911.843 L257.037 819.491 L278 1077 L298.964 727.292 L319.927 1045.21 L340.891 706.156 L361.854 631.477 L382.818 649.19 L403.781 728.15 \n",
       "  L424.745 592.816 L445.708 612.297 L466.672 554.846 L487.635 773.777 L508.599 644.889 L529.562 1334.41 L550.525 1172.06 L571.489 316.761 L592.452 612.667 L613.416 700.762 \n",
       "  L634.379 724.464 L655.343 737.655 L676.306 776.971 L697.27 794.039 L718.233 1447.87 L739.197 250.555 L760.16 485.497 L781.124 1038.22 L802.087 260.114 L823.051 810.777 \n",
       "  L844.014 925.033 L864.978 895.852 L885.941 737.639 L906.905 1265.87 L927.868 558.836 L948.832 646.182 L969.795 567.577 L990.759 676.881 L1011.72 636.672 L1032.69 576.084 \n",
       "  L1053.65 675.012 L1074.61 849.486 L1095.58 1057.61 L1116.54 655.422 L1137.5 789.886 L1158.47 888.684 L1179.43 782.434 L1200.39 900.138 L1221.36 573.94 L1242.32 461.22 \n",
       "  L1263.28 806.88 L1284.25 1175.89 L1305.21 607.173 L1326.17 603.754 L1347.14 162.047 L1368.1 1136.97 L1389.06 554.059 L1410.03 651.647 L1430.99 818.68 L1451.96 510.907 \n",
       "  L1472.92 1123.37 L1493.88 477.964 L1514.85 733.466 L1535.81 947.346 L1556.77 313.767 L1577.74 689.349 L1598.7 1229.66 L1619.66 1084.01 L1640.63 786.271 L1661.59 1304.95 \n",
       "  L1682.55 883.281 L1703.52 391.964 L1724.48 549.894 L1745.44 472.72 L1766.41 857.425 L1787.37 1090.39 L1808.33 674.204 L1829.3 736.36 L1850.26 557.557 L1871.22 718.924 \n",
       "  L1892.19 450.301 L1913.15 421.592 L1934.12 891.755 L1955.08 485.414 L1976.04 506.645 L1997.01 1070.12 L2017.97 860.521 L2038.93 1148.34 L2059.9 642.159 L2080.86 781.855 \n",
       "  L2101.82 906.019 L2122.79 799.909 L2143.75 814.232 L2164.71 707.958 L2185.68 1367.4 L2206.64 281.798 L2227.6 588.018 L2248.57 465.301 L2269.53 1037.93 L2290.49 1217.2 \n",
       "  L2290.49 762.713 L2269.53 762.713 L2248.57 762.713 L2227.6 762.713 L2206.64 762.713 L2185.68 762.713 L2164.71 762.713 L2143.75 762.713 L2122.79 762.713 L2101.82 762.713 \n",
       "  L2080.86 762.713 L2059.9 762.713 L2038.93 762.713 L2017.97 762.713 L1997.01 762.713 L1976.04 762.713 L1955.08 762.713 L1934.12 762.713 L1913.15 762.713 L1892.19 762.713 \n",
       "  L1871.22 762.713 L1850.26 762.713 L1829.3 762.713 L1808.33 762.713 L1787.37 762.713 L1766.41 762.713 L1745.44 762.713 L1724.48 762.713 L1703.52 762.713 L1682.55 762.713 \n",
       "  L1661.59 762.713 L1640.63 762.713 L1619.66 762.713 L1598.7 762.713 L1577.74 762.713 L1556.77 762.713 L1535.81 762.713 L1514.85 762.713 L1493.88 762.713 L1472.92 762.713 \n",
       "  L1451.96 762.713 L1430.99 762.713 L1410.03 762.713 L1389.06 762.713 L1368.1 762.713 L1347.14 762.713 L1326.17 762.713 L1305.21 762.713 L1284.25 762.713 L1263.28 762.713 \n",
       "  L1242.32 762.713 L1221.36 762.713 L1200.39 762.713 L1179.43 762.713 L1158.47 762.713 L1137.5 762.713 L1116.54 762.713 L1095.58 762.713 L1074.61 762.713 L1053.65 762.713 \n",
       "  L1032.69 762.713 L1011.72 762.713 L990.759 762.713 L969.795 762.713 L948.832 762.713 L927.868 762.713 L906.905 762.713 L885.941 762.713 L864.978 762.713 L844.014 762.713 \n",
       "  L823.051 762.713 L802.087 762.713 L781.124 762.713 L760.16 762.713 L739.197 762.713 L718.233 762.713 L697.27 762.713 L676.306 762.713 L655.343 762.713 L634.379 762.713 \n",
       "  L613.416 762.713 L592.452 762.713 L571.489 762.713 L550.525 762.713 L529.562 762.713 L508.599 762.713 L487.635 762.713 L466.672 762.713 L445.708 762.713 L424.745 762.713 \n",
       "  L403.781 762.713 L382.818 762.713 L361.854 762.713 L340.891 762.713 L319.927 762.713 L298.964 762.713 L278 762.713 L257.037 762.713 L236.073 762.713 L215.11 762.713 \n",
       "   Z\n",
       "  \" fill=\"#008000\" fill-rule=\"evenodd\" fill-opacity=\"0.5\"/>\n",
       "<polyline clip-path=\"url(#clip0802)\" style=\"stroke:#009af9; stroke-width:4; stroke-opacity:1; fill:none\" points=\"\n",
       "  215.11,860.863 236.073,911.843 257.037,819.491 278,1077 298.964,727.292 319.927,1045.21 340.891,706.156 361.854,631.477 382.818,649.19 403.781,728.15 \n",
       "  424.745,592.816 445.708,612.297 466.672,554.846 487.635,773.777 508.599,644.889 529.562,1334.41 550.525,1172.06 571.489,316.761 592.452,612.667 613.416,700.762 \n",
       "  634.379,724.464 655.343,737.655 676.306,776.971 697.27,794.039 718.233,1447.87 739.197,250.555 760.16,485.497 781.124,1038.22 802.087,260.114 823.051,810.777 \n",
       "  844.014,925.033 864.978,895.852 885.941,737.639 906.905,1265.87 927.868,558.836 948.832,646.182 969.795,567.577 990.759,676.881 1011.72,636.672 1032.69,576.084 \n",
       "  1053.65,675.012 1074.61,849.486 1095.58,1057.61 1116.54,655.422 1137.5,789.886 1158.47,888.684 1179.43,782.434 1200.39,900.138 1221.36,573.94 1242.32,461.22 \n",
       "  1263.28,806.88 1284.25,1175.89 1305.21,607.173 1326.17,603.754 1347.14,162.047 1368.1,1136.97 1389.06,554.059 1410.03,651.647 1430.99,818.68 1451.96,510.907 \n",
       "  1472.92,1123.37 1493.88,477.964 1514.85,733.466 1535.81,947.346 1556.77,313.767 1577.74,689.349 1598.7,1229.66 1619.66,1084.01 1640.63,786.271 1661.59,1304.95 \n",
       "  1682.55,883.281 1703.52,391.964 1724.48,549.894 1745.44,472.72 1766.41,857.425 1787.37,1090.39 1808.33,674.204 1829.3,736.36 1850.26,557.557 1871.22,718.924 \n",
       "  1892.19,450.301 1913.15,421.592 1934.12,891.755 1955.08,485.414 1976.04,506.645 1997.01,1070.12 2017.97,860.521 2038.93,1148.34 2059.9,642.159 2080.86,781.855 \n",
       "  2101.82,906.019 2122.79,799.909 2143.75,814.232 2164.71,707.958 2185.68,1367.4 2206.64,281.798 2227.6,588.018 2248.57,465.301 2269.53,1037.93 2290.49,1217.2 \n",
       "  \n",
       "  \"/>\n",
       "<path clip-path=\"url(#clip0800)\" d=\"\n",
       "M1429.25 327.952 L2280.76 327.952 L2280.76 206.992 L1429.25 206.992  Z\n",
       "  \" fill=\"#ffffff\" fill-rule=\"evenodd\" fill-opacity=\"1\"/>\n",
       "<polyline clip-path=\"url(#clip0800)\" style=\"stroke:#000000; stroke-width:4; stroke-opacity:1; fill:none\" points=\"\n",
       "  1429.25,327.952 2280.76,327.952 2280.76,206.992 1429.25,206.992 1429.25,327.952 \n",
       "  \"/>\n",
       "<path clip-path=\"url(#clip0800)\" d=\"\n",
       "M1453.25 291.664 L1597.25 291.664 L1597.25 243.28 L1453.25 243.28 L1453.25 291.664  Z\n",
       "  \" fill=\"#008000\" fill-rule=\"evenodd\" fill-opacity=\"0.5\"/>\n",
       "<polyline clip-path=\"url(#clip0800)\" style=\"stroke:#009af9; stroke-width:4; stroke-opacity:1; fill:none\" points=\"\n",
       "  1453.25,243.28 1597.25,243.28 \n",
       "  \"/>\n",
       "<path clip-path=\"url(#clip0800)\" d=\"M 0 0 M1643.5 251.326 L1643.5 255.887 Q1640.84 254.613 1638.48 253.988 Q1636.12 253.363 1633.92 253.363 Q1630.1 253.363 1628.01 254.845 Q1625.95 256.326 1625.95 259.058 Q1625.95 261.349 1627.32 262.53 Q1628.71 263.687 1632.55 264.405 L1635.37 264.984 Q1640.61 265.979 1643.08 268.502 Q1645.58 271.002 1645.58 275.215 Q1645.58 280.238 1642.2 282.831 Q1638.85 285.423 1632.34 285.423 Q1629.89 285.423 1627.11 284.868 Q1624.36 284.312 1621.39 283.224 L1621.39 278.41 Q1624.24 280.007 1626.97 280.817 Q1629.7 281.627 1632.34 281.627 Q1636.35 281.627 1638.52 280.053 Q1640.7 278.479 1640.7 275.562 Q1640.7 273.016 1639.12 271.581 Q1637.57 270.146 1634.01 269.428 L1631.16 268.873 Q1625.93 267.831 1623.59 265.609 Q1621.25 263.386 1621.25 259.428 Q1621.25 254.845 1624.47 252.206 Q1627.71 249.567 1633.38 249.567 Q1635.81 249.567 1638.34 250.007 Q1640.86 250.447 1643.5 251.326 Z\" fill=\"#000000\" fill-rule=\"evenodd\" fill-opacity=\"1\" /><path clip-path=\"url(#clip0800)\" d=\"M 0 0 M1654.26 251.465 L1654.26 258.826 L1663.04 258.826 L1663.04 262.137 L1654.26 262.137 L1654.26 276.211 Q1654.26 279.382 1655.12 280.285 Q1656 281.187 1658.66 281.187 L1663.04 281.187 L1663.04 284.752 L1658.66 284.752 Q1653.73 284.752 1651.86 282.923 Q1649.98 281.072 1649.98 276.211 L1649.98 262.137 L1646.86 262.137 L1646.86 258.826 L1649.98 258.826 L1649.98 251.465 L1654.26 251.465 Z\" fill=\"#000000\" fill-rule=\"evenodd\" fill-opacity=\"1\" /><path clip-path=\"url(#clip0800)\" d=\"M 0 0 M1679.29 271.72 Q1674.12 271.72 1672.13 272.9 Q1670.14 274.081 1670.14 276.928 Q1670.14 279.197 1671.62 280.539 Q1673.13 281.859 1675.7 281.859 Q1679.24 281.859 1681.37 279.359 Q1683.52 276.836 1683.52 272.669 L1683.52 271.72 L1679.29 271.72 M1687.78 269.961 L1687.78 284.752 L1683.52 284.752 L1683.52 280.817 Q1682.06 283.178 1679.89 284.312 Q1677.71 285.423 1674.56 285.423 Q1670.58 285.423 1668.22 283.201 Q1665.88 280.956 1665.88 277.206 Q1665.88 272.831 1668.8 270.609 Q1671.74 268.386 1677.55 268.386 L1683.52 268.386 L1683.52 267.97 Q1683.52 265.03 1681.58 263.433 Q1679.66 261.812 1676.16 261.812 Q1673.94 261.812 1671.83 262.345 Q1669.73 262.877 1667.78 263.942 L1667.78 260.007 Q1670.12 259.104 1672.32 258.664 Q1674.52 258.201 1676.6 258.201 Q1682.23 258.201 1685 261.118 Q1687.78 264.035 1687.78 269.961 Z\" fill=\"#000000\" fill-rule=\"evenodd\" fill-opacity=\"1\" /><path clip-path=\"url(#clip0800)\" d=\"M 0 0 M1713.8 269.104 L1713.8 284.752 L1709.54 284.752 L1709.54 269.243 Q1709.54 265.562 1708.11 263.734 Q1706.67 261.905 1703.8 261.905 Q1700.35 261.905 1698.36 264.104 Q1696.37 266.303 1696.37 270.099 L1696.37 284.752 L1692.09 284.752 L1692.09 258.826 L1696.37 258.826 L1696.37 262.854 Q1697.9 260.516 1699.96 259.359 Q1702.04 258.201 1704.75 258.201 Q1709.22 258.201 1711.51 260.979 Q1713.8 263.734 1713.8 269.104 Z\" fill=\"#000000\" fill-rule=\"evenodd\" fill-opacity=\"1\" /><path clip-path=\"url(#clip0800)\" d=\"M 0 0 M1735.33 262.762 L1735.33 248.734 L1739.59 248.734 L1739.59 284.752 L1735.33 284.752 L1735.33 280.863 Q1733.99 283.178 1731.93 284.312 Q1729.89 285.423 1727.02 285.423 Q1722.32 285.423 1719.36 281.673 Q1716.42 277.923 1716.42 271.812 Q1716.42 265.701 1719.36 261.951 Q1722.32 258.201 1727.02 258.201 Q1729.89 258.201 1731.93 259.336 Q1733.99 260.447 1735.33 262.762 M1720.81 271.812 Q1720.81 276.511 1722.74 279.197 Q1724.68 281.859 1728.06 281.859 Q1731.44 281.859 1733.38 279.197 Q1735.33 276.511 1735.33 271.812 Q1735.33 267.113 1733.38 264.451 Q1731.44 261.766 1728.06 261.766 Q1724.68 261.766 1722.74 264.451 Q1720.81 267.113 1720.81 271.812 Z\" fill=\"#000000\" fill-rule=\"evenodd\" fill-opacity=\"1\" /><path clip-path=\"url(#clip0800)\" d=\"M 0 0 M1755.84 271.72 Q1750.68 271.72 1748.68 272.9 Q1746.69 274.081 1746.69 276.928 Q1746.69 279.197 1748.18 280.539 Q1749.68 281.859 1752.25 281.859 Q1755.79 281.859 1757.92 279.359 Q1760.07 276.836 1760.07 272.669 L1760.07 271.72 L1755.84 271.72 M1764.33 269.961 L1764.33 284.752 L1760.07 284.752 L1760.07 280.817 Q1758.61 283.178 1756.44 284.312 Q1754.26 285.423 1751.11 285.423 Q1747.13 285.423 1744.77 283.201 Q1742.43 280.956 1742.43 277.206 Q1742.43 272.831 1745.35 270.609 Q1748.29 268.386 1754.1 268.386 L1760.07 268.386 L1760.07 267.97 Q1760.07 265.03 1758.13 263.433 Q1756.21 261.812 1752.71 261.812 Q1750.49 261.812 1748.38 262.345 Q1746.28 262.877 1744.33 263.942 L1744.33 260.007 Q1746.67 259.104 1748.87 258.664 Q1751.07 258.201 1753.15 258.201 Q1758.78 258.201 1761.55 261.118 Q1764.33 264.035 1764.33 269.961 Z\" fill=\"#000000\" fill-rule=\"evenodd\" fill-opacity=\"1\" /><path clip-path=\"url(#clip0800)\" d=\"M 0 0 M1783.82 262.808 Q1783.11 262.391 1782.25 262.206 Q1781.42 261.998 1780.4 261.998 Q1776.79 261.998 1774.84 264.359 Q1772.92 266.697 1772.92 271.095 L1772.92 284.752 L1768.64 284.752 L1768.64 258.826 L1772.92 258.826 L1772.92 262.854 Q1774.26 260.493 1776.42 259.359 Q1778.57 258.201 1781.65 258.201 Q1782.09 258.201 1782.62 258.271 Q1783.15 258.317 1783.8 258.433 L1783.82 262.808 Z\" fill=\"#000000\" fill-rule=\"evenodd\" fill-opacity=\"1\" /><path clip-path=\"url(#clip0800)\" d=\"M 0 0 M1804.52 262.762 L1804.52 248.734 L1808.78 248.734 L1808.78 284.752 L1804.52 284.752 L1804.52 280.863 Q1803.17 283.178 1801.11 284.312 Q1799.08 285.423 1796.21 285.423 Q1791.51 285.423 1788.55 281.673 Q1785.61 277.923 1785.61 271.812 Q1785.61 265.701 1788.55 261.951 Q1791.51 258.201 1796.21 258.201 Q1799.08 258.201 1801.11 259.336 Q1803.17 260.447 1804.52 262.762 M1790 271.812 Q1790 276.511 1791.92 279.197 Q1793.87 281.859 1797.25 281.859 Q1800.63 281.859 1802.57 279.197 Q1804.52 276.511 1804.52 271.812 Q1804.52 267.113 1802.57 264.451 Q1800.63 261.766 1797.25 261.766 Q1793.87 261.766 1791.92 264.451 Q1790 267.113 1790 271.812 Z\" fill=\"#000000\" fill-rule=\"evenodd\" fill-opacity=\"1\" /><path clip-path=\"url(#clip0800)\" d=\"M 0 0 M1828.5 250.192 L1834.8 250.192 L1850.12 279.104 L1850.12 250.192 L1854.66 250.192 L1854.66 284.752 L1848.36 284.752 L1833.04 255.84 L1833.04 284.752 L1828.5 284.752 L1828.5 250.192 Z\" fill=\"#000000\" fill-rule=\"evenodd\" fill-opacity=\"1\" /><path clip-path=\"url(#clip0800)\" d=\"M 0 0 M1869.17 261.812 Q1865.74 261.812 1863.75 264.498 Q1861.76 267.16 1861.76 271.812 Q1861.76 276.465 1863.73 279.15 Q1865.72 281.812 1869.17 281.812 Q1872.57 281.812 1874.56 279.127 Q1876.55 276.442 1876.55 271.812 Q1876.55 267.206 1874.56 264.521 Q1872.57 261.812 1869.17 261.812 M1869.17 258.201 Q1874.73 258.201 1877.9 261.812 Q1881.07 265.424 1881.07 271.812 Q1881.07 278.178 1877.9 281.812 Q1874.73 285.423 1869.17 285.423 Q1863.59 285.423 1860.42 281.812 Q1857.27 278.178 1857.27 271.812 Q1857.27 265.424 1860.42 261.812 Q1863.59 258.201 1869.17 258.201 Z\" fill=\"#000000\" fill-rule=\"evenodd\" fill-opacity=\"1\" /><path clip-path=\"url(#clip0800)\" d=\"M 0 0 M1900.56 262.808 Q1899.84 262.391 1898.98 262.206 Q1898.15 261.998 1897.13 261.998 Q1893.52 261.998 1891.58 264.359 Q1889.66 266.697 1889.66 271.095 L1889.66 284.752 L1885.37 284.752 L1885.37 258.826 L1889.66 258.826 L1889.66 262.854 Q1891 260.493 1893.15 259.359 Q1895.3 258.201 1898.38 258.201 Q1898.82 258.201 1899.35 258.271 Q1899.89 258.317 1900.54 258.433 L1900.56 262.808 Z\" fill=\"#000000\" fill-rule=\"evenodd\" fill-opacity=\"1\" /><path clip-path=\"url(#clip0800)\" d=\"M 0 0 M1924.38 263.803 Q1925.98 260.933 1928.2 259.567 Q1930.42 258.201 1933.43 258.201 Q1937.48 258.201 1939.68 261.049 Q1941.88 263.873 1941.88 269.104 L1941.88 284.752 L1937.6 284.752 L1937.6 269.243 Q1937.6 265.516 1936.28 263.711 Q1934.96 261.905 1932.25 261.905 Q1928.94 261.905 1927.02 264.104 Q1925.1 266.303 1925.1 270.099 L1925.1 284.752 L1920.81 284.752 L1920.81 269.243 Q1920.81 265.493 1919.49 263.711 Q1918.17 261.905 1915.42 261.905 Q1912.16 261.905 1910.23 264.127 Q1908.31 266.326 1908.31 270.099 L1908.31 284.752 L1904.03 284.752 L1904.03 258.826 L1908.31 258.826 L1908.31 262.854 Q1909.77 260.47 1911.81 259.336 Q1913.85 258.201 1916.65 258.201 Q1919.47 258.201 1921.44 259.637 Q1923.43 261.072 1924.38 263.803 Z\" fill=\"#000000\" fill-rule=\"evenodd\" fill-opacity=\"1\" /><path clip-path=\"url(#clip0800)\" d=\"M 0 0 M1958.13 271.72 Q1952.97 271.72 1950.98 272.9 Q1948.98 274.081 1948.98 276.928 Q1948.98 279.197 1950.47 280.539 Q1951.97 281.859 1954.54 281.859 Q1958.08 281.859 1960.21 279.359 Q1962.36 276.836 1962.36 272.669 L1962.36 271.72 L1958.13 271.72 M1966.62 269.961 L1966.62 284.752 L1962.36 284.752 L1962.36 280.817 Q1960.91 283.178 1958.73 284.312 Q1956.55 285.423 1953.41 285.423 Q1949.42 285.423 1947.06 283.201 Q1944.73 280.956 1944.73 277.206 Q1944.73 272.831 1947.64 270.609 Q1950.58 268.386 1956.39 268.386 L1962.36 268.386 L1962.36 267.97 Q1962.36 265.03 1960.42 263.433 Q1958.5 261.812 1955 261.812 Q1952.78 261.812 1950.67 262.345 Q1948.57 262.877 1946.62 263.942 L1946.62 260.007 Q1948.96 259.104 1951.16 258.664 Q1953.36 258.201 1955.44 258.201 Q1961.07 258.201 1963.85 261.118 Q1966.62 264.035 1966.62 269.961 Z\" fill=\"#000000\" fill-rule=\"evenodd\" fill-opacity=\"1\" /><path clip-path=\"url(#clip0800)\" d=\"M 0 0 M1971.09 248.734 L1975.35 248.734 L1975.35 284.752 L1971.09 284.752 L1971.09 248.734 Z\" fill=\"#000000\" fill-rule=\"evenodd\" fill-opacity=\"1\" /><path clip-path=\"url(#clip0800)\" d=\"M 0 0 M1999.75 254.035 L1999.75 280.91 L2005.4 280.91 Q2012.55 280.91 2015.86 277.669 Q2019.19 274.428 2019.19 267.437 Q2019.19 260.493 2015.86 257.275 Q2012.55 254.035 2005.4 254.035 L1999.75 254.035 M1995.07 250.192 L2004.68 250.192 Q2014.72 250.192 2019.42 254.382 Q2024.12 258.549 2024.12 267.437 Q2024.12 276.373 2019.4 280.562 Q2014.68 284.752 2004.68 284.752 L1995.07 284.752 L1995.07 250.192 Z\" fill=\"#000000\" fill-rule=\"evenodd\" fill-opacity=\"1\" /><path clip-path=\"url(#clip0800)\" d=\"M 0 0 M2028.59 258.826 L2032.85 258.826 L2032.85 284.752 L2028.59 284.752 L2028.59 258.826 M2028.59 248.734 L2032.85 248.734 L2032.85 254.127 L2028.59 254.127 L2028.59 248.734 Z\" fill=\"#000000\" fill-rule=\"evenodd\" fill-opacity=\"1\" /><path clip-path=\"url(#clip0800)\" d=\"M 0 0 M2053.84 259.59 L2053.84 263.618 Q2052.04 262.692 2050.09 262.229 Q2048.15 261.766 2046.07 261.766 Q2042.9 261.766 2041.3 262.738 Q2039.72 263.711 2039.72 265.655 Q2039.72 267.136 2040.86 267.993 Q2041.99 268.826 2045.42 269.59 L2046.88 269.914 Q2051.41 270.886 2053.31 272.669 Q2055.23 274.428 2055.23 277.599 Q2055.23 281.21 2052.36 283.317 Q2049.52 285.423 2044.52 285.423 Q2042.43 285.423 2040.16 285.007 Q2037.92 284.613 2035.42 283.803 L2035.42 279.405 Q2037.78 280.632 2040.07 281.257 Q2042.36 281.859 2044.61 281.859 Q2047.62 281.859 2049.24 280.84 Q2050.86 279.798 2050.86 277.923 Q2050.86 276.187 2049.68 275.261 Q2048.52 274.336 2044.56 273.479 L2043.08 273.132 Q2039.12 272.298 2037.36 270.586 Q2035.6 268.849 2035.6 265.84 Q2035.6 262.183 2038.2 260.192 Q2040.79 258.201 2045.56 258.201 Q2047.92 258.201 2050 258.549 Q2052.09 258.896 2053.84 259.59 Z\" fill=\"#000000\" fill-rule=\"evenodd\" fill-opacity=\"1\" /><path clip-path=\"url(#clip0800)\" d=\"M 0 0 M2063.91 251.465 L2063.91 258.826 L2072.69 258.826 L2072.69 262.137 L2063.91 262.137 L2063.91 276.211 Q2063.91 279.382 2064.77 280.285 Q2065.65 281.187 2068.31 281.187 L2072.69 281.187 L2072.69 284.752 L2068.31 284.752 Q2063.38 284.752 2061.51 282.923 Q2059.63 281.072 2059.63 276.211 L2059.63 262.137 L2056.51 262.137 L2056.51 258.826 L2059.63 258.826 L2059.63 251.465 L2063.91 251.465 Z\" fill=\"#000000\" fill-rule=\"evenodd\" fill-opacity=\"1\" /><path clip-path=\"url(#clip0800)\" d=\"M 0 0 M2092.18 262.808 Q2091.46 262.391 2090.6 262.206 Q2089.77 261.998 2088.75 261.998 Q2085.14 261.998 2083.2 264.359 Q2081.28 266.697 2081.28 271.095 L2081.28 284.752 L2076.99 284.752 L2076.99 258.826 L2081.28 258.826 L2081.28 262.854 Q2082.62 260.493 2084.77 259.359 Q2086.92 258.201 2090 258.201 Q2090.44 258.201 2090.97 258.271 Q2091.51 258.317 2092.15 258.433 L2092.18 262.808 Z\" fill=\"#000000\" fill-rule=\"evenodd\" fill-opacity=\"1\" /><path clip-path=\"url(#clip0800)\" d=\"M 0 0 M2096.65 258.826 L2100.9 258.826 L2100.9 284.752 L2096.65 284.752 L2096.65 258.826 M2096.65 248.734 L2100.9 248.734 L2100.9 254.127 L2096.65 254.127 L2096.65 248.734 Z\" fill=\"#000000\" fill-rule=\"evenodd\" fill-opacity=\"1\" /><path clip-path=\"url(#clip0800)\" d=\"M 0 0 M2123.98 271.812 Q2123.98 267.113 2122.04 264.451 Q2120.12 261.766 2116.74 261.766 Q2113.36 261.766 2111.41 264.451 Q2109.49 267.113 2109.49 271.812 Q2109.49 276.511 2111.41 279.197 Q2113.36 281.859 2116.74 281.859 Q2120.12 281.859 2122.04 279.197 Q2123.98 276.511 2123.98 271.812 M2109.49 262.762 Q2110.84 260.447 2112.87 259.336 Q2114.93 258.201 2117.78 258.201 Q2122.5 258.201 2125.44 261.951 Q2128.4 265.701 2128.4 271.812 Q2128.4 277.923 2125.44 281.673 Q2122.5 285.423 2117.78 285.423 Q2114.93 285.423 2112.87 284.312 Q2110.84 283.178 2109.49 280.863 L2109.49 284.752 L2105.21 284.752 L2105.21 248.734 L2109.49 248.734 L2109.49 262.762 Z\" fill=\"#000000\" fill-rule=\"evenodd\" fill-opacity=\"1\" /><path clip-path=\"url(#clip0800)\" d=\"M 0 0 M2132.43 274.521 L2132.43 258.826 L2136.69 258.826 L2136.69 274.359 Q2136.69 278.039 2138.13 279.891 Q2139.56 281.72 2142.43 281.72 Q2145.88 281.72 2147.87 279.521 Q2149.89 277.322 2149.89 273.525 L2149.89 258.826 L2154.15 258.826 L2154.15 284.752 L2149.89 284.752 L2149.89 280.771 Q2148.34 283.132 2146.27 284.289 Q2144.24 285.423 2141.53 285.423 Q2137.06 285.423 2134.75 282.646 Q2132.43 279.868 2132.43 274.521 M2143.15 258.201 L2143.15 258.201 Z\" fill=\"#000000\" fill-rule=\"evenodd\" fill-opacity=\"1\" /><path clip-path=\"url(#clip0800)\" d=\"M 0 0 M2162.83 251.465 L2162.83 258.826 L2171.6 258.826 L2171.6 262.137 L2162.83 262.137 L2162.83 276.211 Q2162.83 279.382 2163.68 280.285 Q2164.56 281.187 2167.22 281.187 L2171.6 281.187 L2171.6 284.752 L2167.22 284.752 Q2162.29 284.752 2160.42 282.923 Q2158.54 281.072 2158.54 276.211 L2158.54 262.137 L2155.42 262.137 L2155.42 258.826 L2158.54 258.826 L2158.54 251.465 L2162.83 251.465 Z\" fill=\"#000000\" fill-rule=\"evenodd\" fill-opacity=\"1\" /><path clip-path=\"url(#clip0800)\" d=\"M 0 0 M2176.07 258.826 L2180.33 258.826 L2180.33 284.752 L2176.07 284.752 L2176.07 258.826 M2176.07 248.734 L2180.33 248.734 L2180.33 254.127 L2176.07 254.127 L2176.07 248.734 Z\" fill=\"#000000\" fill-rule=\"evenodd\" fill-opacity=\"1\" /><path clip-path=\"url(#clip0800)\" d=\"M 0 0 M2194.84 261.812 Q2191.41 261.812 2189.42 264.498 Q2187.43 267.16 2187.43 271.812 Q2187.43 276.465 2189.4 279.15 Q2191.39 281.812 2194.84 281.812 Q2198.24 281.812 2200.23 279.127 Q2202.22 276.442 2202.22 271.812 Q2202.22 267.206 2200.23 264.521 Q2198.24 261.812 2194.84 261.812 M2194.84 258.201 Q2200.39 258.201 2203.57 261.812 Q2206.74 265.424 2206.74 271.812 Q2206.74 278.178 2203.57 281.812 Q2200.39 285.423 2194.84 285.423 Q2189.26 285.423 2186.09 281.812 Q2182.94 278.178 2182.94 271.812 Q2182.94 265.424 2186.09 261.812 Q2189.26 258.201 2194.84 258.201 Z\" fill=\"#000000\" fill-rule=\"evenodd\" fill-opacity=\"1\" /><path clip-path=\"url(#clip0800)\" d=\"M 0 0 M2232.76 269.104 L2232.76 284.752 L2228.5 284.752 L2228.5 269.243 Q2228.5 265.562 2227.06 263.734 Q2225.63 261.905 2222.76 261.905 Q2219.31 261.905 2217.32 264.104 Q2215.33 266.303 2215.33 270.099 L2215.33 284.752 L2211.04 284.752 L2211.04 258.826 L2215.33 258.826 L2215.33 262.854 Q2216.85 260.516 2218.91 259.359 Q2221 258.201 2223.71 258.201 Q2228.17 258.201 2230.46 260.979 Q2232.76 263.734 2232.76 269.104 Z\" fill=\"#000000\" fill-rule=\"evenodd\" fill-opacity=\"1\" /></svg>\n"
      ]
     },
     "execution_count": 93,
     "metadata": {},
     "output_type": "execute_result"
    }
   ],
   "source": [
    "Plots.plot(\n",
    "    b, \n",
    "    fillrange=0, \n",
    "    fillalpha=0.5 , \n",
    "    fillcolor=:green, \n",
    "    label=\"Standard Normal Distribution\", \n",
    "    title=\"Density\")"
   ]
  },
  {
   "cell_type": "code",
   "execution_count": 24,
   "metadata": {},
   "outputs": [
    {
     "name": "stdout",
     "output_type": "stream",
     "text": [
      "0.9749172453195936 0.001370501022690096\n",
      "112.00758355111044 -19.64433000117947\n"
     ]
    }
   ],
   "source": [
    "using Distributions\n",
    "using Random\n",
    "\n",
    "Random.rand(59)\n",
    "regX = rand(100)\n",
    "regY = 100 * regX + rand(Normal(0, 10), 100)\n",
    "println( maximum(regX),\" \", minimum(regX))\n",
    "println( maximum(regY),\" \", minimum(regY))"
   ]
  },
  {
   "cell_type": "code",
   "execution_count": 25,
   "metadata": {},
   "outputs": [
    {
     "data": {
      "image/png": "[encoded data removed]",
      "text/plain": [
       "Figure(PyObject <Figure size 640x480 with 1 Axes>)"
      ]
     },
     "metadata": {},
     "output_type": "display_data"
    },
    {
     "data": {
      "text/plain": [
       "PyObject <matplotlib.collections.PathCollection object at 0x7fba9ee8e910>"
      ]
     },
     "execution_count": 25,
     "metadata": {},
     "output_type": "execute_result"
    }
   ],
   "source": [
    "using PyPlot\n",
    "scatter(regX, regY)"
   ]
  },
  {
   "cell_type": "code",
   "execution_count": 32,
   "metadata": {},
   "outputs": [
    {
     "data": {
      "text/plain": [
       "0.9148676016854871"
      ]
     },
     "execution_count": 32,
     "metadata": {},
     "output_type": "execute_result"
    }
   ],
   "source": [
    "regData = []\n",
    "for i in 1:length(regX)\n",
    "    push!(regData, (regX[i], regY[i]))\n",
    "end\n",
    "\n",
    "regData[1]"
   ]
  },
  {
   "cell_type": "code",
   "execution_count": 30,
   "metadata": {},
   "outputs": [
    {
     "data": {
      "image/png": "[encoded data removed]",
      "text/plain": [
       "Figure(PyObject <Figure size 640x480 with 1 Axes>)"
      ]
     },
     "metadata": {},
     "output_type": "display_data"
    },
    {
     "data": {
      "text/plain": [
       "PyObject <matplotlib.collections.PathCollection object at 0x7fbaa0578b50>"
      ]
     },
     "execution_count": 30,
     "metadata": {},
     "output_type": "execute_result"
    }
   ],
   "source": [
    "using PyPlot\n",
    "scatter(regData, regData)"
   ]
  },
  {
   "cell_type": "code",
   "execution_count": 51,
   "metadata": {},
   "outputs": [
    {
     "data": {
      "text/plain": [
       "Chain(Dense(1, 1, softmax))"
      ]
     },
     "execution_count": 51,
     "metadata": {},
     "output_type": "execute_result"
    }
   ],
   "source": [
    "using Flux\n",
    "using Flux: @epochs\n",
    "\n",
    "modelReg = Chain(\n",
    "    Dense(1, 1 , softmax)\n",
    ")"
   ]
  },
  {
   "cell_type": "code",
   "execution_count": 52,
   "metadata": {},
   "outputs": [
    {
     "data": {
      "text/plain": [
       "loss (generic function with 1 method)"
      ]
     },
     "execution_count": 52,
     "metadata": {},
     "output_type": "execute_result"
    }
   ],
   "source": [
    "loss(x, y) = Flux.mse(modelReg(x), y)"
   ]
  },
  {
   "cell_type": "code",
   "execution_count": 53,
   "metadata": {},
   "outputs": [
    {
     "data": {
      "text/plain": [
       "Descent(0.1)"
      ]
     },
     "execution_count": 53,
     "metadata": {},
     "output_type": "execute_result"
    }
   ],
   "source": [
    "#opt = SGD(Flux.params(modelReg), 0.1)\n",
    "opt = Descent(0.1) # η::Float64"
   ]
  },
  {
   "cell_type": "code",
   "execution_count": 54,
   "metadata": {},
   "outputs": [
    {
     "data": {
      "text/plain": [
       "Params([Float32[1.1037179] (tracked), Float32[0.0] (tracked)])"
      ]
     },
     "execution_count": 54,
     "metadata": {},
     "output_type": "execute_result"
    }
   ],
   "source": [
    "parameters = Flux.params(modelReg)"
   ]
  },
  {
   "cell_type": "code",
   "execution_count": 55,
   "metadata": {},
   "outputs": [
    {
     "name": "stderr",
     "output_type": "stream",
     "text": [
      "┌ Info: Epoch 1\n",
      "└ @ Main /Users/uki/.julia/packages/Flux/qXNjB/src/optimise/train.jl:105\n"
     ]
    },
    {
     "ename": "MethodError",
     "evalue": "MethodError: no method matching (::Dense{typeof(softmax),TrackedArray{…,Array{Float32,2}},TrackedArray{…,Array{Float32,1}}})(::Float64)\nClosest candidates are:\n  Any(!Matched::AbstractArray{T,N} where N) where {T<:Union{Float32, Float64}, W<:(AbstractArray{T,N} where N)} at /Users/uki/.julia/packages/Flux/qXNjB/src/layers/basic.jl:110\n  Any(!Matched::AbstractArray{#s106,N} where N where #s106<:Real) where {T<:Union{Float32, Float64}, W<:(AbstractArray{T,N} where N)} at /Users/uki/.julia/packages/Flux/qXNjB/src/layers/basic.jl:113\n  Any(!Matched::AbstractArray) at /Users/uki/.julia/packages/Flux/qXNjB/src/layers/basic.jl:98",
     "output_type": "error",
     "traceback": [
      "MethodError: no method matching (::Dense{typeof(softmax),TrackedArray{…,Array{Float32,2}},TrackedArray{…,Array{Float32,1}}})(::Float64)\nClosest candidates are:\n  Any(!Matched::AbstractArray{T,N} where N) where {T<:Union{Float32, Float64}, W<:(AbstractArray{T,N} where N)} at /Users/uki/.julia/packages/Flux/qXNjB/src/layers/basic.jl:110\n  Any(!Matched::AbstractArray{#s106,N} where N where #s106<:Real) where {T<:Union{Float32, Float64}, W<:(AbstractArray{T,N} where N)} at /Users/uki/.julia/packages/Flux/qXNjB/src/layers/basic.jl:113\n  Any(!Matched::AbstractArray) at /Users/uki/.julia/packages/Flux/qXNjB/src/layers/basic.jl:98",
      "",
      "Stacktrace:",
      " [1] applychain(::Tuple{Dense{typeof(softmax),TrackedArray{…,Array{Float32,2}},TrackedArray{…,Array{Float32,1}}}}, ::Float64) at /Users/uki/.julia/packages/Flux/qXNjB/src/layers/basic.jl:31",
      " [2] (::Chain{Tuple{Dense{typeof(softmax),TrackedArray{…,Array{Float32,2}},TrackedArray{…,Array{Float32,1}}}}})(::Float64) at /Users/uki/.julia/packages/Flux/qXNjB/src/layers/basic.jl:33",
      " [3] loss(::Float64, ::Float64) at ./In[52]:1",
      " [4] #15 at /Users/uki/.julia/packages/Flux/qXNjB/src/optimise/train.jl:72 [inlined]",
      " [5] gradient_(::Flux.Optimise.var\"#15#21\"{typeof(loss),Tuple{Float64,Float64}}, ::Tracker.Params) at /Users/uki/.julia/packages/Tracker/AMi2h/src/back.jl:97",
      " [6] gradient(::Function, ::Tracker.Params; nest::Bool) at /Users/uki/.julia/packages/Tracker/AMi2h/src/back.jl:164",
      " [7] gradient at /Users/uki/.julia/packages/Tracker/AMi2h/src/back.jl:164 [inlined]",
      " [8] macro expansion at /Users/uki/.julia/packages/Flux/qXNjB/src/optimise/train.jl:71 [inlined]",
      " [9] macro expansion at /Users/uki/.julia/packages/Juno/oLB1d/src/progress.jl:134 [inlined]",
      " [10] train!(::Function, ::Tracker.Params, ::Array{Any,1}, ::Descent; cb::Flux.Optimise.var\"#16#22\") at /Users/uki/.julia/packages/Flux/qXNjB/src/optimise/train.jl:69",
      " [11] train!(::Function, ::Tracker.Params, ::Array{Any,1}, ::Descent) at /Users/uki/.julia/packages/Flux/qXNjB/src/optimise/train.jl:67",
      " [12] top-level scope at /Users/uki/.julia/packages/Flux/qXNjB/src/optimise/train.jl:106",
      " [13] top-level scope at /Users/uki/.julia/packages/Juno/oLB1d/src/progress.jl:134",
      " [14] top-level scope at In[55]:1"
     ]
    }
   ],
   "source": [
    "@epochs 100 Flux.train!(loss, parameters, regData, opt)"
   ]
  },
  {
   "cell_type": "code",
   "execution_count": 56,
   "metadata": {},
   "outputs": [
    {
     "ename": "UndefVarError",
     "evalue": "UndefVarError: linspace not defined",
     "output_type": "error",
     "traceback": [
      "UndefVarError: linspace not defined",
      "",
      "Stacktrace:",
      " [1] top-level scope at In[56]:1"
     ]
    }
   ],
   "source": [
    "predX = linspace(0, 1)\n",
    "predY = modelReg(predX').data"
   ]
  },
  {
   "cell_type": "code",
   "execution_count": 57,
   "metadata": {},
   "outputs": [
    {
     "ename": "UndefVarError",
     "evalue": "UndefVarError: predX not defined",
     "output_type": "error",
     "traceback": [
      "UndefVarError: predX not defined",
      "",
      "Stacktrace:",
      " [1] top-level scope at In[57]:2"
     ]
    }
   ],
   "source": [
    "scatter(regX, regY)\n",
    "scatter(predX, predY)"
   ]
  },
  {
   "cell_type": "code",
   "execution_count": 58,
   "metadata": {},
   "outputs": [
    {
     "name": "stdout",
     "output_type": "stream",
     "text": [
      "Params([Float32[1.1037179] (tracked), Float32[0.0] (tracked)])\n"
     ]
    }
   ],
   "source": [
    "println(Flux.params(modelReg))"
   ]
  },
  {
   "cell_type": "code",
   "execution_count": null,
   "metadata": {},
   "outputs": [],
   "source": []
  }
 ],
 "metadata": {
  "kernelspec": {
   "display_name": "Julia 1.4.2",
   "language": "julia",
   "name": "julia-1.4"
  },
  "language_info": {
   "file_extension": ".jl",
   "mimetype": "application/julia",
   "name": "julia",
   "version": "1.4.2"
  },
  "toc": {
   "base_numbering": 1,
   "nav_menu": {},
   "number_sections": false,
   "sideBar": true,
   "skip_h1_title": false,
   "title_cell": "Table of Contents",
   "title_sidebar": "Contents",
   "toc_cell": true,
   "toc_position": {},
   "toc_section_display": true,
   "toc_window_display": true
  }
 },
 "nbformat": 4,
 "nbformat_minor": 4
}
