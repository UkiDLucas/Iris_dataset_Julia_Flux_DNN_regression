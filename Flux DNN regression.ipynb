{
 "cells": [
  {
   "cell_type": "markdown",
   "metadata": {},
   "source": [
    "# Regression with Deep Neural Model (DNN) using Julia Flux.\n",
    "\n",
    "by Uki D. Lucas\n",
    "\n",
    "September 11, 2020"
   ]
  },
  {
   "cell_type": "markdown",
   "metadata": {
    "toc": true
   },
   "source": [
    "<h1>Table of Contents<span class=\"tocSkip\"></span></h1>\n",
    "<div class=\"toc\"><ul class=\"toc-item\"><li><span><a href=\"#Regression-with-Deep-Neural-Model-(DNN)-using-Julia-Flux.\" data-toc-modified-id=\"Regression-with-Deep-Neural-Model-(DNN)-using-Julia-Flux.-1\">Regression with Deep Neural Model (DNN) using Julia Flux.</a></span></li><li><span><a href=\"#Motivation\" data-toc-modified-id=\"Motivation-2\">Motivation</a></span></li><li><span><a href=\"#Declare-libraries-to-be-used\" data-toc-modified-id=\"Declare-libraries-to-be-used-3\">Declare libraries to be used</a></span></li><li><span><a href=\"#Set-Hyper-Parameters\" data-toc-modified-id=\"Set-Hyper-Parameters-4\">Set Hyper Parameters</a></span></li><li><span><a href=\"#DataSet\" data-toc-modified-id=\"DataSet-5\">DataSet</a></span><ul class=\"toc-item\"><li><span><a href=\"#Explore-possible-RDatasets-data-sets\" data-toc-modified-id=\"Explore-possible-RDatasets-data-sets-5.1\">Explore possible RDatasets data sets</a></span></li><li><span><a href=\"#Fetch-Iris-DataFrame\" data-toc-modified-id=\"Fetch-Iris-DataFrame-5.2\">Fetch Iris DataFrame</a></span></li><li><span><a href=\"#Write-the-dataset-locally\" data-toc-modified-id=\"Write-the-dataset-locally-5.3\">Write the dataset locally</a></span></li></ul></li><li><span><a href=\"#Exploratory-Data-Analysis-(EDA)\" data-toc-modified-id=\"Exploratory-Data-Analysis-(EDA)-6\">Exploratory Data Analysis (EDA)</a></span><ul class=\"toc-item\"><li><span><a href=\"#Print-column-numbers-and-names\" data-toc-modified-id=\"Print-column-numbers-and-names-6.1\">Print column numbers and names</a></span></li><li><span><a href=\"#Group-rows-by-Species-name\" data-toc-modified-id=\"Group-rows-by-Species-name-6.2\">Group rows by Species name</a></span></li><li><span><a href=\"#Filter-DataFrame-row-for-Specie-name\" data-toc-modified-id=\"Filter-DataFrame-row-for-Specie-name-6.3\">Filter DataFrame row for Specie name</a></span></li><li><span><a href=\"#Show-Types-of-the-columns\" data-toc-modified-id=\"Show-Types-of-the-columns-6.4\">Show Types of the columns</a></span></li></ul></li><li><span><a href=\"#One-hot-encoding-of-the-categories\" data-toc-modified-id=\"One-hot-encoding-of-the-categories-7\">One-hot encoding of the categories</a></span><ul class=\"toc-item\"><li><span><a href=\"#Insert-one-hot-columns-into-DataFrame\" data-toc-modified-id=\"Insert-one-hot-columns-into-DataFrame-7.1\">Insert one-hot columns into DataFrame</a></span></li><li><span><a href=\"#Insert-one-hot-encodings-for-each-row\" data-toc-modified-id=\"Insert-one-hot-encodings-for-each-row-7.2\">Insert one-hot encodings for each row</a></span></li><li><span><a href=\"#Delete-the-:Species-column\" data-toc-modified-id=\"Delete-the-:Species-column-7.3\">Delete the :Species column</a></span></li><li><span><a href=\"#Save-the-dataset-to-the-disk\" data-toc-modified-id=\"Save-the-dataset-to-the-disk-7.4\">Save the dataset to the disk</a></span></li></ul></li><li><span><a href=\"#Normalize-the-independent-variable-data\" data-toc-modified-id=\"Normalize-the-independent-variable-data-8\">Normalize the independent variable data</a></span><ul class=\"toc-item\"><li><span><a href=\"#Read-the-DataFrame-from-the-disk\" data-toc-modified-id=\"Read-the-DataFrame-from-the-disk-8.1\">Read the DataFrame from the disk</a></span></li><li><span><a href=\"#Save-Normalized-DataFrame\" data-toc-modified-id=\"Save-Normalized-DataFrame-8.2\">Save Normalized DataFrame</a></span></li></ul></li><li><span><a href=\"#Split-the-dataset-into-training-and-validation-sets\" data-toc-modified-id=\"Split-the-dataset-into-training-and-validation-sets-9\">Split the dataset into training and validation sets</a></span><ul class=\"toc-item\"><li><span><a href=\"#Read-normalized-DataFrame\" data-toc-modified-id=\"Read-normalized-DataFrame-9.1\">Read normalized DataFrame</a></span></li><li><span><a href=\"#Training-Set,-Validation-set\" data-toc-modified-id=\"Training-Set,-Validation-set-9.2\">Training Set, Validation set</a></span></li><li><span><a href=\"#X_train,-y_train,-X_test,-y_test\" data-toc-modified-id=\"X_train,-y_train,-X_test,-y_test-9.3\">X_train, y_train, X_test, y_test</a></span></li></ul></li><li><span><a href=\"#Design-DNN-model\" data-toc-modified-id=\"Design-DNN-model-10\">Design DNN model</a></span></li><li><span><a href=\"#Training\" data-toc-modified-id=\"Training-11\">Training</a></span></li><li><span><a href=\"#Testing\" data-toc-modified-id=\"Testing-12\">Testing</a></span></li><li><span><a href=\"#Resources\" data-toc-modified-id=\"Resources-13\">Resources</a></span></li></ul></div>"
   ]
  },
  {
   "cell_type": "markdown",
   "metadata": {},
   "source": [
    "# Motivation\n",
    "\n",
    "I have not found a clear example of how to perform a regression (prediction of a number) using Julia Deep Neural Network, in this case using Flux.\n",
    "\n",
    "I am using Iris dataset because it is very well known, and hence trying to remove on step of difficulty."
   ]
  },
  {
   "cell_type": "markdown",
   "metadata": {},
   "source": [
    "# Declare libraries to be used"
   ]
  },
  {
   "cell_type": "code",
   "execution_count": 61,
   "metadata": {},
   "outputs": [],
   "source": [
    "using Flux\n",
    "using Flux: logitcrossentropy, normalise, onecold, onehotbatch\n",
    "using Flux: @epochs\n",
    "using Statistics: mean\n",
    "using Parameters: @with_kw"
   ]
  },
  {
   "cell_type": "markdown",
   "metadata": {},
   "source": [
    "# Set Hyper Parameters\n",
    "\n",
    "You can run the cell below only once."
   ]
  },
  {
   "cell_type": "code",
   "execution_count": 2,
   "metadata": {},
   "outputs": [
    {
     "data": {
      "text/plain": [
       "HyperParameters"
      ]
     },
     "execution_count": 2,
     "metadata": {},
     "output_type": "execute_result"
    }
   ],
   "source": [
    "@with_kw mutable struct HyperParameters\n",
    "    learning_rate::Float64 = 0.5\n",
    "    epochs::Int = 110\n",
    "    split_ratio::Float64 = 0.2\n",
    "end"
   ]
  },
  {
   "cell_type": "markdown",
   "metadata": {},
   "source": [
    "# DataSet"
   ]
  },
  {
   "cell_type": "markdown",
   "metadata": {},
   "source": [
    "## Explore possible RDatasets data sets"
   ]
  },
  {
   "cell_type": "code",
   "execution_count": 3,
   "metadata": {},
   "outputs": [
    {
     "name": "stdout",
     "output_type": "stream",
     "text": [
      "(1303, 12)\n"
     ]
    },
    {
     "data": {
      "text/html": [
       "<table class=\"data-frame\"><thead><tr><th></th><th>Package</th><th>Item</th><th>Title</th></tr><tr><th></th><th>String</th><th>String</th><th>String</th></tr></thead><tbody><p>6 rows × 12 columns (omitted printing of 9 columns)</p><tr><th>1</th><td>carData</td><td>States</td><td>Education and Related Statistics for the U.S. States</td></tr><tr><th>2</th><td>carData</td><td>TitanicSurvival</td><td>Survival of Passengers on the Titanic</td></tr><tr><th>3</th><td>carData</td><td>Transact</td><td>Transaction data</td></tr><tr><th>4</th><td>carData</td><td>UN</td><td>National Statistics from the United Nations, Mostly From 2009-2011</td></tr><tr><th>5</th><td>carData</td><td>UN98</td><td>United Nations Social Indicators Data 1998]</td></tr><tr><th>6</th><td>carData</td><td>USPop</td><td>Population of the United States</td></tr></tbody></table>"
      ],
      "text/latex": [
       "\\begin{tabular}{r|cccc}\n",
       "\t& Package & Item & Title & \\\\\n",
       "\t\\hline\n",
       "\t& String & String & String & \\\\\n",
       "\t\\hline\n",
       "\t1 & carData & States & Education and Related Statistics for the U.S. States & $\\dots$ \\\\\n",
       "\t2 & carData & TitanicSurvival & Survival of Passengers on the Titanic & $\\dots$ \\\\\n",
       "\t3 & carData & Transact & Transaction data & $\\dots$ \\\\\n",
       "\t4 & carData & UN & National Statistics from the United Nations, Mostly From 2009-2011 & $\\dots$ \\\\\n",
       "\t5 & carData & UN98 & United Nations Social Indicators Data 1998] & $\\dots$ \\\\\n",
       "\t6 & carData & USPop & Population of the United States & $\\dots$ \\\\\n",
       "\\end{tabular}\n"
      ],
      "text/plain": [
       "6×12 DataFrames.DataFrame. Omitted printing of 10 columns\n",
       "│ Row │ Package │ Item            │\n",
       "│     │ \u001b[90mString\u001b[39m  │ \u001b[90mString\u001b[39m          │\n",
       "├─────┼─────────┼─────────────────┤\n",
       "│ 1   │ carData │ States          │\n",
       "│ 2   │ carData │ TitanicSurvival │\n",
       "│ 3   │ carData │ Transact        │\n",
       "│ 4   │ carData │ UN              │\n",
       "│ 5   │ carData │ UN98            │\n",
       "│ 6   │ carData │ USPop           │"
      ]
     },
     "execution_count": 3,
     "metadata": {},
     "output_type": "execute_result"
    }
   ],
   "source": [
    "download( \"https://raw.githubusercontent.com/vincentarelbundock/Rdatasets/master/datasets.csv\" , \n",
    "    \"RDatasets.csv\" ) # URL, name to save\n",
    "using CSV\n",
    "df1 = CSV.read(\"RDatasets.csv\")\n",
    "println(size(df1))\n",
    "df1[100:105,:]"
   ]
  },
  {
   "cell_type": "code",
   "execution_count": 4,
   "metadata": {},
   "outputs": [],
   "source": [
    "# Flux also offerrs datasets"
   ]
  },
  {
   "cell_type": "code",
   "execution_count": 5,
   "metadata": {},
   "outputs": [
    {
     "data": {
      "text/plain": [
       "150×4 LinearAlgebra.Adjoint{Float64,Array{Float64,2}}:\n",
       " 5.1  3.5  1.4  0.2\n",
       " 4.9  3.0  1.4  0.2\n",
       " 4.7  3.2  1.3  0.2\n",
       " 4.6  3.1  1.5  0.2\n",
       " 5.0  3.6  1.4  0.2\n",
       " 5.4  3.9  1.7  0.4\n",
       " 4.6  3.4  1.4  0.3\n",
       " 5.0  3.4  1.5  0.2\n",
       " 4.4  2.9  1.4  0.2\n",
       " 4.9  3.1  1.5  0.1\n",
       " 5.4  3.7  1.5  0.2\n",
       " 4.8  3.4  1.6  0.2\n",
       " 4.8  3.0  1.4  0.1\n",
       " ⋮              \n",
       " 6.0  3.0  4.8  1.8\n",
       " 6.9  3.1  5.4  2.1\n",
       " 6.7  3.1  5.6  2.4\n",
       " 6.9  3.1  5.1  2.3\n",
       " 5.8  2.7  5.1  1.9\n",
       " 6.8  3.2  5.9  2.3\n",
       " 6.7  3.3  5.7  2.5\n",
       " 6.7  3.0  5.2  2.3\n",
       " 6.3  2.5  5.0  1.9\n",
       " 6.5  3.0  5.2  2.0\n",
       " 6.2  3.4  5.4  2.3\n",
       " 5.9  3.0  5.1  1.8"
      ]
     },
     "execution_count": 5,
     "metadata": {},
     "output_type": "execute_result"
    }
   ],
   "source": [
    "#labels = Flux.Data.Iris.labels()\n",
    "features = Flux.Data.Iris.features()\n",
    "features'"
   ]
  },
  {
   "cell_type": "markdown",
   "metadata": {},
   "source": [
    "## Fetch Iris DataFrame"
   ]
  },
  {
   "cell_type": "code",
   "execution_count": 6,
   "metadata": {},
   "outputs": [
    {
     "data": {
      "text/html": [
       "<table class=\"data-frame\"><thead><tr><th></th><th>SepalLength</th><th>SepalWidth</th><th>PetalLength</th><th>PetalWidth</th><th>Species</th></tr><tr><th></th><th>Float64</th><th>Float64</th><th>Float64</th><th>Float64</th><th>Categorical…</th></tr></thead><tbody><p>5 rows × 5 columns</p><tr><th>1</th><td>5.1</td><td>3.5</td><td>1.4</td><td>0.2</td><td>setosa</td></tr><tr><th>2</th><td>4.9</td><td>3.0</td><td>1.4</td><td>0.2</td><td>setosa</td></tr><tr><th>3</th><td>4.7</td><td>3.2</td><td>1.3</td><td>0.2</td><td>setosa</td></tr><tr><th>4</th><td>4.6</td><td>3.1</td><td>1.5</td><td>0.2</td><td>setosa</td></tr><tr><th>5</th><td>5.0</td><td>3.6</td><td>1.4</td><td>0.2</td><td>setosa</td></tr></tbody></table>"
      ],
      "text/latex": [
       "\\begin{tabular}{r|ccccc}\n",
       "\t& SepalLength & SepalWidth & PetalLength & PetalWidth & Species\\\\\n",
       "\t\\hline\n",
       "\t& Float64 & Float64 & Float64 & Float64 & Categorical…\\\\\n",
       "\t\\hline\n",
       "\t1 & 5.1 & 3.5 & 1.4 & 0.2 & setosa \\\\\n",
       "\t2 & 4.9 & 3.0 & 1.4 & 0.2 & setosa \\\\\n",
       "\t3 & 4.7 & 3.2 & 1.3 & 0.2 & setosa \\\\\n",
       "\t4 & 4.6 & 3.1 & 1.5 & 0.2 & setosa \\\\\n",
       "\t5 & 5.0 & 3.6 & 1.4 & 0.2 & setosa \\\\\n",
       "\\end{tabular}\n"
      ],
      "text/plain": [
       "5×5 DataFrames.DataFrame\n",
       "│ Row │ SepalLength │ SepalWidth │ PetalLength │ PetalWidth │ Species      │\n",
       "│     │ \u001b[90mFloat64\u001b[39m     │ \u001b[90mFloat64\u001b[39m    │ \u001b[90mFloat64\u001b[39m     │ \u001b[90mFloat64\u001b[39m    │ \u001b[90mCategorical…\u001b[39m │\n",
       "├─────┼─────────────┼────────────┼─────────────┼────────────┼──────────────┤\n",
       "│ 1   │ 5.1         │ 3.5        │ 1.4         │ 0.2        │ setosa       │\n",
       "│ 2   │ 4.9         │ 3.0        │ 1.4         │ 0.2        │ setosa       │\n",
       "│ 3   │ 4.7         │ 3.2        │ 1.3         │ 0.2        │ setosa       │\n",
       "│ 4   │ 4.6         │ 3.1        │ 1.5         │ 0.2        │ setosa       │\n",
       "│ 5   │ 5.0         │ 3.6        │ 1.4         │ 0.2        │ setosa       │"
      ]
     },
     "execution_count": 6,
     "metadata": {},
     "output_type": "execute_result"
    }
   ],
   "source": [
    "using RDatasets: dataset\n",
    "iris = dataset(\"datasets\", \"iris\") # return DataFrames.DataFrame\n",
    "iris[1:5, :]"
   ]
  },
  {
   "cell_type": "markdown",
   "metadata": {},
   "source": [
    "## Write the dataset locally"
   ]
  },
  {
   "cell_type": "code",
   "execution_count": 7,
   "metadata": {},
   "outputs": [
    {
     "data": {
      "text/plain": [
       "\"iris.csv\""
      ]
     },
     "execution_count": 7,
     "metadata": {},
     "output_type": "execute_result"
    }
   ],
   "source": [
    "CSV.write(\"iris.csv\", iris, delim = ',')"
   ]
  },
  {
   "cell_type": "markdown",
   "metadata": {},
   "source": [
    "# Exploratory Data Analysis (EDA)\n"
   ]
  },
  {
   "cell_type": "markdown",
   "metadata": {},
   "source": [
    "## Print column numbers and names"
   ]
  },
  {
   "cell_type": "code",
   "execution_count": 8,
   "metadata": {},
   "outputs": [
    {
     "name": "stdout",
     "output_type": "stream",
     "text": [
      "1 SepalLength\n",
      "2 SepalWidth\n",
      "3 PetalLength\n",
      "4 PetalWidth\n",
      "5 Species\n"
     ]
    }
   ],
   "source": [
    "for i in 1:length(names(iris))\n",
    "    println(i, \" \", names(iris)[i])\n",
    "end"
   ]
  },
  {
   "cell_type": "markdown",
   "metadata": {},
   "source": [
    "## Group rows by Species name"
   ]
  },
  {
   "cell_type": "code",
   "execution_count": 9,
   "metadata": {},
   "outputs": [
    {
     "name": "stdout",
     "output_type": "stream",
     "text": [
      "setosa\n",
      "versicolor\n",
      "virginica\n"
     ]
    },
    {
     "data": {
      "text/plain": [
       "3-element Array{Any,1}:\n",
       " CategoricalString{UInt8} \"setosa\"\n",
       " CategoricalString{UInt8} \"versicolor\"\n",
       " CategoricalString{UInt8} \"virginica\""
      ]
     },
     "execution_count": 9,
     "metadata": {},
     "output_type": "execute_result"
    }
   ],
   "source": [
    "using DataFrames\n",
    "groups = groupby(iris, [:Species] ) # GroupedDataFrame{DataFrame}\n",
    "\n",
    "#[ groups[1][1,5] groups[2][1,5] groups[3][1,5] ] # show row 1, column 5 from each group\n",
    "\n",
    "labels = []\n",
    "for i in 1:length(groups)\n",
    "    label = groups[i][1,5]\n",
    "    push!(labels, label ) # example CategoricalString{UInt8} \"setosa\"\n",
    "    println( label )\n",
    "end\n",
    "\n",
    "labels"
   ]
  },
  {
   "cell_type": "markdown",
   "metadata": {},
   "source": [
    "## Filter DataFrame row for Specie name"
   ]
  },
  {
   "cell_type": "code",
   "execution_count": 10,
   "metadata": {},
   "outputs": [
    {
     "data": {
      "text/plain": [
       "4-element BitArray{1}:\n",
       " 1\n",
       " 1\n",
       " 1\n",
       " 1"
      ]
     },
     "execution_count": 10,
     "metadata": {},
     "output_type": "execute_result"
    }
   ],
   "source": [
    "filter_virginica = iris[!, :Species] .== \"virginica\" # for each row determin if Species is virginica\n",
    "filter_virginica[end-3:end]"
   ]
  },
  {
   "cell_type": "code",
   "execution_count": 11,
   "metadata": {},
   "outputs": [
    {
     "ename": "BoundsError",
     "evalue": "BoundsError: attempt to access String",
     "output_type": "error",
     "traceback": [
      "BoundsError: attempt to access String",
      "",
      "Stacktrace:",
      " [1] getindex at /Users/uki/.julia/packages/DataFrames/S3ZFo/src/other/index.jl:183 [inlined]",
      " [2] getindex(::DataFrame, ::BitArray{1}, ::UnitRange{Int64}) at /Users/uki/.julia/packages/DataFrames/S3ZFo/src/dataframe/dataframe.jl:372",
      " [3] top-level scope at In[11]:1"
     ]
    }
   ],
   "source": [
    "x = iris[filter_virginica, 5:8]\n",
    "x[1:3, :]"
   ]
  },
  {
   "cell_type": "markdown",
   "metadata": {},
   "source": [
    "## Show Types of the columns"
   ]
  },
  {
   "cell_type": "code",
   "execution_count": 12,
   "metadata": {},
   "outputs": [
    {
     "data": {
      "text/plain": [
       "5-element Array{DataType,1}:\n",
       " Float64\n",
       " Float64\n",
       " Float64\n",
       " Float64\n",
       " CategoricalString{UInt8}"
      ]
     },
     "execution_count": 12,
     "metadata": {},
     "output_type": "execute_result"
    }
   ],
   "source": [
    "eltype.(eachcol(iris))"
   ]
  },
  {
   "cell_type": "markdown",
   "metadata": {},
   "source": [
    "# One-hot encoding of the categories\n",
    "\n",
    "- https://fluxml.ai/Flux.jl/stable/data/onehot/"
   ]
  },
  {
   "cell_type": "markdown",
   "metadata": {},
   "source": [
    "## Insert one-hot columns into DataFrame"
   ]
  },
  {
   "cell_type": "code",
   "execution_count": 13,
   "metadata": {},
   "outputs": [
    {
     "data": {
      "text/html": [
       "<table class=\"data-frame\"><thead><tr><th></th><th>Species</th><th>setosa</th><th>versicolor</th><th>virginica</th></tr><tr><th></th><th>Categorical…</th><th>Float64</th><th>Float64</th><th>Float64</th></tr></thead><tbody><p>3 rows × 4 columns</p><tr><th>1</th><td>setosa</td><td>0.0</td><td>0.0</td><td>0.0</td></tr><tr><th>2</th><td>setosa</td><td>0.0</td><td>0.0</td><td>0.0</td></tr><tr><th>3</th><td>setosa</td><td>0.0</td><td>0.0</td><td>0.0</td></tr></tbody></table>"
      ],
      "text/latex": [
       "\\begin{tabular}{r|cccc}\n",
       "\t& Species & setosa & versicolor & virginica\\\\\n",
       "\t\\hline\n",
       "\t& Categorical… & Float64 & Float64 & Float64\\\\\n",
       "\t\\hline\n",
       "\t1 & setosa & 0.0 & 0.0 & 0.0 \\\\\n",
       "\t2 & setosa & 0.0 & 0.0 & 0.0 \\\\\n",
       "\t3 & setosa & 0.0 & 0.0 & 0.0 \\\\\n",
       "\\end{tabular}\n"
      ],
      "text/plain": [
       "3×4 DataFrame\n",
       "│ Row │ Species      │ setosa  │ versicolor │ virginica │\n",
       "│     │ \u001b[90mCategorical…\u001b[39m │ \u001b[90mFloat64\u001b[39m │ \u001b[90mFloat64\u001b[39m    │ \u001b[90mFloat64\u001b[39m   │\n",
       "├─────┼──────────────┼─────────┼────────────┼───────────┤\n",
       "│ 1   │ setosa       │ 0.0     │ 0.0        │ 0.0       │\n",
       "│ 2   │ setosa       │ 0.0     │ 0.0        │ 0.0       │\n",
       "│ 3   │ setosa       │ 0.0     │ 0.0        │ 0.0       │"
      ]
     },
     "execution_count": 13,
     "metadata": {},
     "output_type": "execute_result"
    }
   ],
   "source": [
    "insertcols!(iris                     # DataFrame to be changed\n",
    "        , 6                          # insert as column number,\n",
    "        , makeunique=true            # if the name of the column exist, make is name_1\n",
    "        , setosa=0.0                 # name of the colum and values, make sure type is right\n",
    "        )  \n",
    "insertcols!(iris                      \n",
    "        , 7                               \n",
    "        , makeunique=true                \n",
    "        , versicolor=0.0                    \n",
    "        )  \n",
    "insertcols!(iris                    \n",
    "        , 8                              \n",
    "        , makeunique=true               \n",
    "        , virginica=0.0              \n",
    "        )  \n",
    "iris[1:3, 5:end]"
   ]
  },
  {
   "cell_type": "markdown",
   "metadata": {},
   "source": [
    "## Insert one-hot encodings for each row\n",
    "\n",
    "There is a **Flux.onehot** method, but it is so cryptic that I prefered to write my own code."
   ]
  },
  {
   "cell_type": "code",
   "execution_count": 14,
   "metadata": {},
   "outputs": [
    {
     "data": {
      "text/html": [
       "<table class=\"data-frame\"><thead><tr><th></th><th>Species</th><th>setosa</th><th>versicolor</th><th>virginica</th></tr><tr><th></th><th>Categorical…</th><th>Float64</th><th>Float64</th><th>Float64</th></tr></thead><tbody><p>6 rows × 4 columns</p><tr><th>1</th><td>setosa</td><td>1.0</td><td>0.0</td><td>0.0</td></tr><tr><th>2</th><td>setosa</td><td>1.0</td><td>0.0</td><td>0.0</td></tr><tr><th>3</th><td>setosa</td><td>1.0</td><td>0.0</td><td>0.0</td></tr><tr><th>4</th><td>versicolor</td><td>0.0</td><td>1.0</td><td>0.0</td></tr><tr><th>5</th><td>versicolor</td><td>0.0</td><td>1.0</td><td>0.0</td></tr><tr><th>6</th><td>versicolor</td><td>0.0</td><td>1.0</td><td>0.0</td></tr></tbody></table>"
      ],
      "text/latex": [
       "\\begin{tabular}{r|cccc}\n",
       "\t& Species & setosa & versicolor & virginica\\\\\n",
       "\t\\hline\n",
       "\t& Categorical… & Float64 & Float64 & Float64\\\\\n",
       "\t\\hline\n",
       "\t1 & setosa & 1.0 & 0.0 & 0.0 \\\\\n",
       "\t2 & setosa & 1.0 & 0.0 & 0.0 \\\\\n",
       "\t3 & setosa & 1.0 & 0.0 & 0.0 \\\\\n",
       "\t4 & versicolor & 0.0 & 1.0 & 0.0 \\\\\n",
       "\t5 & versicolor & 0.0 & 1.0 & 0.0 \\\\\n",
       "\t6 & versicolor & 0.0 & 1.0 & 0.0 \\\\\n",
       "\\end{tabular}\n"
      ],
      "text/plain": [
       "6×4 DataFrame\n",
       "│ Row │ Species      │ setosa  │ versicolor │ virginica │\n",
       "│     │ \u001b[90mCategorical…\u001b[39m │ \u001b[90mFloat64\u001b[39m │ \u001b[90mFloat64\u001b[39m    │ \u001b[90mFloat64\u001b[39m   │\n",
       "├─────┼──────────────┼─────────┼────────────┼───────────┤\n",
       "│ 1   │ setosa       │ 1.0     │ 0.0        │ 0.0       │\n",
       "│ 2   │ setosa       │ 1.0     │ 0.0        │ 0.0       │\n",
       "│ 3   │ setosa       │ 1.0     │ 0.0        │ 0.0       │\n",
       "│ 4   │ versicolor   │ 0.0     │ 1.0        │ 0.0       │\n",
       "│ 5   │ versicolor   │ 0.0     │ 1.0        │ 0.0       │\n",
       "│ 6   │ versicolor   │ 0.0     │ 1.0        │ 0.0       │"
      ]
     },
     "execution_count": 14,
     "metadata": {},
     "output_type": "execute_result"
    }
   ],
   "source": [
    "using DataFrames\n",
    "column_species     = 5                              # column number with lables\n",
    "column_setosa      = 6\n",
    "column_versicolor  = 7\n",
    "column_virginica   = 8\n",
    "\n",
    "number_of_rows = size(iris)[1]                      # rows, columns\n",
    "\n",
    "for i in 1:number_of_rows                           # go thru all rows\n",
    "    specie = string( iris[i, column_species] )      # CategoricalString{UInt8} to String\n",
    "    \n",
    "    if specie == \"setosa\" \n",
    "        iris[i, column_setosa] = 1.0\n",
    "    elseif specie == \"versicolor\" \n",
    "        iris[i, column_versicolor] = 1.0\n",
    "    elseif specie == \"virginica\" \n",
    "        iris[i, column_virginica] = 1.0\n",
    "    else\n",
    "        println( specie, \" not found!\" )\n",
    "    end\n",
    "end\n",
    "\n",
    "iris[48:53, 5:end]                                  # a quick sanity check"
   ]
  },
  {
   "cell_type": "markdown",
   "metadata": {},
   "source": [
    "## Delete the :Species column"
   ]
  },
  {
   "cell_type": "code",
   "execution_count": 15,
   "metadata": {},
   "outputs": [
    {
     "data": {
      "text/plain": [
       "7-element Array{Symbol,1}:\n",
       " :SepalLength\n",
       " :SepalWidth\n",
       " :PetalLength\n",
       " :PetalWidth\n",
       " :setosa\n",
       " :versicolor\n",
       " :virginica"
      ]
     },
     "execution_count": 15,
     "metadata": {},
     "output_type": "execute_result"
    }
   ],
   "source": [
    "select!(iris, Not(:Species))\n",
    "names(iris)"
   ]
  },
  {
   "cell_type": "markdown",
   "metadata": {},
   "source": [
    "## Save the dataset to the disk"
   ]
  },
  {
   "cell_type": "code",
   "execution_count": 16,
   "metadata": {},
   "outputs": [
    {
     "data": {
      "text/plain": [
       "\"iris.csv\""
      ]
     },
     "execution_count": 16,
     "metadata": {},
     "output_type": "execute_result"
    }
   ],
   "source": [
    "CSV.write(\"iris.csv\", iris, delim = ',')"
   ]
  },
  {
   "cell_type": "markdown",
   "metadata": {},
   "source": [
    "# Normalize the independent variable data\n",
    "\n",
    "Since I am doing regression, I will be guessing column 1 SepalLength.\n",
    "\n",
    "All other columns I will normalize.\n",
    "\n",
    "- https://docs.julialang.org/en/v1/stdlib/Statistics/"
   ]
  },
  {
   "cell_type": "markdown",
   "metadata": {},
   "source": [
    "## Read the DataFrame from the disk"
   ]
  },
  {
   "cell_type": "code",
   "execution_count": 17,
   "metadata": {},
   "outputs": [
    {
     "name": "stdout",
     "output_type": "stream",
     "text": [
      "(150, 7)\n"
     ]
    },
    {
     "data": {
      "text/html": [
       "<table class=\"data-frame\"><thead><tr><th></th><th>SepalLength</th><th>SepalWidth</th><th>PetalLength</th><th>PetalWidth</th><th>setosa</th><th>versicolor</th><th>virginica</th></tr><tr><th></th><th>Float64</th><th>Float64</th><th>Float64</th><th>Float64</th><th>Float64</th><th>Float64</th><th>Float64</th></tr></thead><tbody><p>6 rows × 7 columns</p><tr><th>1</th><td>5.7</td><td>2.8</td><td>4.1</td><td>1.3</td><td>0.0</td><td>1.0</td><td>0.0</td></tr><tr><th>2</th><td>6.3</td><td>3.3</td><td>6.0</td><td>2.5</td><td>0.0</td><td>0.0</td><td>1.0</td></tr><tr><th>3</th><td>5.8</td><td>2.7</td><td>5.1</td><td>1.9</td><td>0.0</td><td>0.0</td><td>1.0</td></tr><tr><th>4</th><td>7.1</td><td>3.0</td><td>5.9</td><td>2.1</td><td>0.0</td><td>0.0</td><td>1.0</td></tr><tr><th>5</th><td>6.3</td><td>2.9</td><td>5.6</td><td>1.8</td><td>0.0</td><td>0.0</td><td>1.0</td></tr><tr><th>6</th><td>6.5</td><td>3.0</td><td>5.8</td><td>2.2</td><td>0.0</td><td>0.0</td><td>1.0</td></tr></tbody></table>"
      ],
      "text/latex": [
       "\\begin{tabular}{r|ccccccc}\n",
       "\t& SepalLength & SepalWidth & PetalLength & PetalWidth & setosa & versicolor & virginica\\\\\n",
       "\t\\hline\n",
       "\t& Float64 & Float64 & Float64 & Float64 & Float64 & Float64 & Float64\\\\\n",
       "\t\\hline\n",
       "\t1 & 5.7 & 2.8 & 4.1 & 1.3 & 0.0 & 1.0 & 0.0 \\\\\n",
       "\t2 & 6.3 & 3.3 & 6.0 & 2.5 & 0.0 & 0.0 & 1.0 \\\\\n",
       "\t3 & 5.8 & 2.7 & 5.1 & 1.9 & 0.0 & 0.0 & 1.0 \\\\\n",
       "\t4 & 7.1 & 3.0 & 5.9 & 2.1 & 0.0 & 0.0 & 1.0 \\\\\n",
       "\t5 & 6.3 & 2.9 & 5.6 & 1.8 & 0.0 & 0.0 & 1.0 \\\\\n",
       "\t6 & 6.5 & 3.0 & 5.8 & 2.2 & 0.0 & 0.0 & 1.0 \\\\\n",
       "\\end{tabular}\n"
      ],
      "text/plain": [
       "6×7 DataFrame. Omitted printing of 2 columns\n",
       "│ Row │ SepalLength │ SepalWidth │ PetalLength │ PetalWidth │ setosa  │\n",
       "│     │ \u001b[90mFloat64\u001b[39m     │ \u001b[90mFloat64\u001b[39m    │ \u001b[90mFloat64\u001b[39m     │ \u001b[90mFloat64\u001b[39m    │ \u001b[90mFloat64\u001b[39m │\n",
       "├─────┼─────────────┼────────────┼─────────────┼────────────┼─────────┤\n",
       "│ 1   │ 5.7         │ 2.8        │ 4.1         │ 1.3        │ 0.0     │\n",
       "│ 2   │ 6.3         │ 3.3        │ 6.0         │ 2.5        │ 0.0     │\n",
       "│ 3   │ 5.8         │ 2.7        │ 5.1         │ 1.9        │ 0.0     │\n",
       "│ 4   │ 7.1         │ 3.0        │ 5.9         │ 2.1        │ 0.0     │\n",
       "│ 5   │ 6.3         │ 2.9        │ 5.6         │ 1.8        │ 0.0     │\n",
       "│ 6   │ 6.5         │ 3.0        │ 5.8         │ 2.2        │ 0.0     │"
      ]
     },
     "execution_count": 17,
     "metadata": {},
     "output_type": "execute_result"
    }
   ],
   "source": [
    "iris = CSV.read(\"iris.csv\", copycols=true)\n",
    "println(size(iris))\n",
    "iris[100:105,1:end]"
   ]
  },
  {
   "cell_type": "code",
   "execution_count": 18,
   "metadata": {},
   "outputs": [
    {
     "data": {
      "text/plain": [
       "6-element Array{Int64,1}:\n",
       " 2\n",
       " 3\n",
       " 4\n",
       " 5\n",
       " 6\n",
       " 7"
      ]
     },
     "execution_count": 18,
     "metadata": {},
     "output_type": "execute_result"
    }
   ],
   "source": [
    "columns = [2, 3, 4, 5, 6, 7]"
   ]
  },
  {
   "cell_type": "code",
   "execution_count": 19,
   "metadata": {},
   "outputs": [
    {
     "data": {
      "text/html": [
       "<table class=\"data-frame\"><thead><tr><th></th><th>SepalLength</th><th>SepalWidth</th><th>PetalLength</th><th>PetalWidth</th><th>setosa</th><th>versicolor</th><th>virginica</th></tr><tr><th></th><th>Float64</th><th>Float64</th><th>Float64</th><th>Float64</th><th>Float64</th><th>Float64</th><th>Float64</th></tr></thead><tbody><p>150 rows × 7 columns</p><tr><th>1</th><td>5.1</td><td>1.0156</td><td>-1.33575</td><td>-1.31105</td><td>1.40949</td><td>-0.704746</td><td>-0.704746</td></tr><tr><th>2</th><td>4.9</td><td>-0.131539</td><td>-1.33575</td><td>-1.31105</td><td>1.40949</td><td>-0.704746</td><td>-0.704746</td></tr><tr><th>3</th><td>4.7</td><td>0.327318</td><td>-1.3924</td><td>-1.31105</td><td>1.40949</td><td>-0.704746</td><td>-0.704746</td></tr><tr><th>4</th><td>4.6</td><td>0.0978893</td><td>-1.2791</td><td>-1.31105</td><td>1.40949</td><td>-0.704746</td><td>-0.704746</td></tr><tr><th>5</th><td>5.0</td><td>1.24503</td><td>-1.33575</td><td>-1.31105</td><td>1.40949</td><td>-0.704746</td><td>-0.704746</td></tr><tr><th>6</th><td>5.4</td><td>1.93331</td><td>-1.16581</td><td>-1.04867</td><td>1.40949</td><td>-0.704746</td><td>-0.704746</td></tr><tr><th>7</th><td>4.6</td><td>0.786174</td><td>-1.33575</td><td>-1.17986</td><td>1.40949</td><td>-0.704746</td><td>-0.704746</td></tr><tr><th>8</th><td>5.0</td><td>0.786174</td><td>-1.2791</td><td>-1.31105</td><td>1.40949</td><td>-0.704746</td><td>-0.704746</td></tr><tr><th>9</th><td>4.4</td><td>-0.360967</td><td>-1.33575</td><td>-1.31105</td><td>1.40949</td><td>-0.704746</td><td>-0.704746</td></tr><tr><th>10</th><td>4.9</td><td>0.0978893</td><td>-1.2791</td><td>-1.44224</td><td>1.40949</td><td>-0.704746</td><td>-0.704746</td></tr><tr><th>11</th><td>5.4</td><td>1.47446</td><td>-1.2791</td><td>-1.31105</td><td>1.40949</td><td>-0.704746</td><td>-0.704746</td></tr><tr><th>12</th><td>4.8</td><td>0.786174</td><td>-1.22246</td><td>-1.31105</td><td>1.40949</td><td>-0.704746</td><td>-0.704746</td></tr><tr><th>13</th><td>4.8</td><td>-0.131539</td><td>-1.33575</td><td>-1.44224</td><td>1.40949</td><td>-0.704746</td><td>-0.704746</td></tr><tr><th>14</th><td>4.3</td><td>-0.131539</td><td>-1.50569</td><td>-1.44224</td><td>1.40949</td><td>-0.704746</td><td>-0.704746</td></tr><tr><th>15</th><td>5.8</td><td>2.16274</td><td>-1.44905</td><td>-1.31105</td><td>1.40949</td><td>-0.704746</td><td>-0.704746</td></tr><tr><th>16</th><td>5.7</td><td>3.08046</td><td>-1.2791</td><td>-1.04867</td><td>1.40949</td><td>-0.704746</td><td>-0.704746</td></tr><tr><th>17</th><td>5.4</td><td>1.93331</td><td>-1.3924</td><td>-1.04867</td><td>1.40949</td><td>-0.704746</td><td>-0.704746</td></tr><tr><th>18</th><td>5.1</td><td>1.0156</td><td>-1.33575</td><td>-1.17986</td><td>1.40949</td><td>-0.704746</td><td>-0.704746</td></tr><tr><th>19</th><td>5.7</td><td>1.70389</td><td>-1.16581</td><td>-1.17986</td><td>1.40949</td><td>-0.704746</td><td>-0.704746</td></tr><tr><th>20</th><td>5.1</td><td>1.70389</td><td>-1.2791</td><td>-1.17986</td><td>1.40949</td><td>-0.704746</td><td>-0.704746</td></tr><tr><th>21</th><td>5.4</td><td>0.786174</td><td>-1.16581</td><td>-1.31105</td><td>1.40949</td><td>-0.704746</td><td>-0.704746</td></tr><tr><th>22</th><td>5.1</td><td>1.47446</td><td>-1.2791</td><td>-1.04867</td><td>1.40949</td><td>-0.704746</td><td>-0.704746</td></tr><tr><th>23</th><td>4.6</td><td>1.24503</td><td>-1.56234</td><td>-1.31105</td><td>1.40949</td><td>-0.704746</td><td>-0.704746</td></tr><tr><th>24</th><td>5.1</td><td>0.556746</td><td>-1.16581</td><td>-0.917474</td><td>1.40949</td><td>-0.704746</td><td>-0.704746</td></tr><tr><th>25</th><td>4.8</td><td>0.786174</td><td>-1.05251</td><td>-1.31105</td><td>1.40949</td><td>-0.704746</td><td>-0.704746</td></tr><tr><th>26</th><td>5.0</td><td>-0.131539</td><td>-1.22246</td><td>-1.31105</td><td>1.40949</td><td>-0.704746</td><td>-0.704746</td></tr><tr><th>27</th><td>5.0</td><td>0.786174</td><td>-1.22246</td><td>-1.04867</td><td>1.40949</td><td>-0.704746</td><td>-0.704746</td></tr><tr><th>28</th><td>5.2</td><td>1.0156</td><td>-1.2791</td><td>-1.31105</td><td>1.40949</td><td>-0.704746</td><td>-0.704746</td></tr><tr><th>29</th><td>5.2</td><td>0.786174</td><td>-1.33575</td><td>-1.31105</td><td>1.40949</td><td>-0.704746</td><td>-0.704746</td></tr><tr><th>30</th><td>4.7</td><td>0.327318</td><td>-1.22246</td><td>-1.31105</td><td>1.40949</td><td>-0.704746</td><td>-0.704746</td></tr><tr><th>&vellip;</th><td>&vellip;</td><td>&vellip;</td><td>&vellip;</td><td>&vellip;</td><td>&vellip;</td><td>&vellip;</td><td>&vellip;</td></tr></tbody></table>"
      ],
      "text/latex": [
       "\\begin{tabular}{r|ccccccc}\n",
       "\t& SepalLength & SepalWidth & PetalLength & PetalWidth & setosa & versicolor & virginica\\\\\n",
       "\t\\hline\n",
       "\t& Float64 & Float64 & Float64 & Float64 & Float64 & Float64 & Float64\\\\\n",
       "\t\\hline\n",
       "\t1 & 5.1 & 1.0156 & -1.33575 & -1.31105 & 1.40949 & -0.704746 & -0.704746 \\\\\n",
       "\t2 & 4.9 & -0.131539 & -1.33575 & -1.31105 & 1.40949 & -0.704746 & -0.704746 \\\\\n",
       "\t3 & 4.7 & 0.327318 & -1.3924 & -1.31105 & 1.40949 & -0.704746 & -0.704746 \\\\\n",
       "\t4 & 4.6 & 0.0978893 & -1.2791 & -1.31105 & 1.40949 & -0.704746 & -0.704746 \\\\\n",
       "\t5 & 5.0 & 1.24503 & -1.33575 & -1.31105 & 1.40949 & -0.704746 & -0.704746 \\\\\n",
       "\t6 & 5.4 & 1.93331 & -1.16581 & -1.04867 & 1.40949 & -0.704746 & -0.704746 \\\\\n",
       "\t7 & 4.6 & 0.786174 & -1.33575 & -1.17986 & 1.40949 & -0.704746 & -0.704746 \\\\\n",
       "\t8 & 5.0 & 0.786174 & -1.2791 & -1.31105 & 1.40949 & -0.704746 & -0.704746 \\\\\n",
       "\t9 & 4.4 & -0.360967 & -1.33575 & -1.31105 & 1.40949 & -0.704746 & -0.704746 \\\\\n",
       "\t10 & 4.9 & 0.0978893 & -1.2791 & -1.44224 & 1.40949 & -0.704746 & -0.704746 \\\\\n",
       "\t11 & 5.4 & 1.47446 & -1.2791 & -1.31105 & 1.40949 & -0.704746 & -0.704746 \\\\\n",
       "\t12 & 4.8 & 0.786174 & -1.22246 & -1.31105 & 1.40949 & -0.704746 & -0.704746 \\\\\n",
       "\t13 & 4.8 & -0.131539 & -1.33575 & -1.44224 & 1.40949 & -0.704746 & -0.704746 \\\\\n",
       "\t14 & 4.3 & -0.131539 & -1.50569 & -1.44224 & 1.40949 & -0.704746 & -0.704746 \\\\\n",
       "\t15 & 5.8 & 2.16274 & -1.44905 & -1.31105 & 1.40949 & -0.704746 & -0.704746 \\\\\n",
       "\t16 & 5.7 & 3.08046 & -1.2791 & -1.04867 & 1.40949 & -0.704746 & -0.704746 \\\\\n",
       "\t17 & 5.4 & 1.93331 & -1.3924 & -1.04867 & 1.40949 & -0.704746 & -0.704746 \\\\\n",
       "\t18 & 5.1 & 1.0156 & -1.33575 & -1.17986 & 1.40949 & -0.704746 & -0.704746 \\\\\n",
       "\t19 & 5.7 & 1.70389 & -1.16581 & -1.17986 & 1.40949 & -0.704746 & -0.704746 \\\\\n",
       "\t20 & 5.1 & 1.70389 & -1.2791 & -1.17986 & 1.40949 & -0.704746 & -0.704746 \\\\\n",
       "\t21 & 5.4 & 0.786174 & -1.16581 & -1.31105 & 1.40949 & -0.704746 & -0.704746 \\\\\n",
       "\t22 & 5.1 & 1.47446 & -1.2791 & -1.04867 & 1.40949 & -0.704746 & -0.704746 \\\\\n",
       "\t23 & 4.6 & 1.24503 & -1.56234 & -1.31105 & 1.40949 & -0.704746 & -0.704746 \\\\\n",
       "\t24 & 5.1 & 0.556746 & -1.16581 & -0.917474 & 1.40949 & -0.704746 & -0.704746 \\\\\n",
       "\t25 & 4.8 & 0.786174 & -1.05251 & -1.31105 & 1.40949 & -0.704746 & -0.704746 \\\\\n",
       "\t26 & 5.0 & -0.131539 & -1.22246 & -1.31105 & 1.40949 & -0.704746 & -0.704746 \\\\\n",
       "\t27 & 5.0 & 0.786174 & -1.22246 & -1.04867 & 1.40949 & -0.704746 & -0.704746 \\\\\n",
       "\t28 & 5.2 & 1.0156 & -1.2791 & -1.31105 & 1.40949 & -0.704746 & -0.704746 \\\\\n",
       "\t29 & 5.2 & 0.786174 & -1.33575 & -1.31105 & 1.40949 & -0.704746 & -0.704746 \\\\\n",
       "\t30 & 4.7 & 0.327318 & -1.22246 & -1.31105 & 1.40949 & -0.704746 & -0.704746 \\\\\n",
       "\t$\\dots$ & $\\dots$ & $\\dots$ & $\\dots$ & $\\dots$ & $\\dots$ & $\\dots$ & $\\dots$ \\\\\n",
       "\\end{tabular}\n"
      ],
      "text/plain": [
       "150×7 DataFrame. Omitted printing of 2 columns\n",
       "│ Row │ SepalLength │ SepalWidth │ PetalLength │ PetalWidth │ setosa    │\n",
       "│     │ \u001b[90mFloat64\u001b[39m     │ \u001b[90mFloat64\u001b[39m    │ \u001b[90mFloat64\u001b[39m     │ \u001b[90mFloat64\u001b[39m    │ \u001b[90mFloat64\u001b[39m   │\n",
       "├─────┼─────────────┼────────────┼─────────────┼────────────┼───────────┤\n",
       "│ 1   │ 5.1         │ 1.0156     │ -1.33575    │ -1.31105   │ 1.40949   │\n",
       "│ 2   │ 4.9         │ -0.131539  │ -1.33575    │ -1.31105   │ 1.40949   │\n",
       "│ 3   │ 4.7         │ 0.327318   │ -1.3924     │ -1.31105   │ 1.40949   │\n",
       "│ 4   │ 4.6         │ 0.0978893  │ -1.2791     │ -1.31105   │ 1.40949   │\n",
       "│ 5   │ 5.0         │ 1.24503    │ -1.33575    │ -1.31105   │ 1.40949   │\n",
       "│ 6   │ 5.4         │ 1.93331    │ -1.16581    │ -1.04867   │ 1.40949   │\n",
       "│ 7   │ 4.6         │ 0.786174   │ -1.33575    │ -1.17986   │ 1.40949   │\n",
       "│ 8   │ 5.0         │ 0.786174   │ -1.2791     │ -1.31105   │ 1.40949   │\n",
       "│ 9   │ 4.4         │ -0.360967  │ -1.33575    │ -1.31105   │ 1.40949   │\n",
       "│ 10  │ 4.9         │ 0.0978893  │ -1.2791     │ -1.44224   │ 1.40949   │\n",
       "⋮\n",
       "│ 140 │ 6.9         │ 0.0978893  │ 0.930154    │ 1.18161    │ -0.704746 │\n",
       "│ 141 │ 6.7         │ 0.0978893  │ 1.04345     │ 1.57519    │ -0.704746 │\n",
       "│ 142 │ 6.9         │ 0.0978893  │ 0.760211    │ 1.44399    │ -0.704746 │\n",
       "│ 143 │ 5.8         │ -0.819823  │ 0.760211    │ 0.919223   │ -0.704746 │\n",
       "│ 144 │ 6.8         │ 0.327318   │ 1.21339     │ 1.44399    │ -0.704746 │\n",
       "│ 145 │ 6.7         │ 0.556746   │ 1.1001      │ 1.70638    │ -0.704746 │\n",
       "│ 146 │ 6.7         │ -0.131539  │ 0.816859    │ 1.44399    │ -0.704746 │\n",
       "│ 147 │ 6.3         │ -1.27868   │ 0.703564    │ 0.919223   │ -0.704746 │\n",
       "│ 148 │ 6.5         │ -0.131539  │ 0.816859    │ 1.05042    │ -0.704746 │\n",
       "│ 149 │ 6.2         │ 0.786174   │ 0.930154    │ 1.44399    │ -0.704746 │\n",
       "│ 150 │ 5.9         │ -0.131539  │ 0.760211    │ 0.788031   │ -0.704746 │"
      ]
     },
     "execution_count": 19,
     "metadata": {},
     "output_type": "execute_result"
    }
   ],
   "source": [
    "using Statistics\n",
    "using DataFrames\n",
    "\n",
    "function normalize!(df::DataFrame, columns::Array{Int64,1})\n",
    "    rows::Int64 = size(df)[1] # rows, columns\n",
    "    \n",
    "    for column in columns\n",
    "        column_mean = mean(df[!,column])\n",
    "        column_std = std(df[!,column])\n",
    "        \n",
    "        for row in 1:rows\n",
    "            df[row, column] = ( df[row, column] - column_mean ) / column_std\n",
    "        end\n",
    "    end\n",
    "end\n",
    "\n",
    "normalize!(iris, columns)\n",
    "iris"
   ]
  },
  {
   "cell_type": "markdown",
   "metadata": {},
   "source": [
    "## Save Normalized DataFrame"
   ]
  },
  {
   "cell_type": "code",
   "execution_count": 22,
   "metadata": {},
   "outputs": [
    {
     "data": {
      "text/plain": [
       "\"iris_normalized.csv\""
      ]
     },
     "execution_count": 22,
     "metadata": {},
     "output_type": "execute_result"
    }
   ],
   "source": [
    "CSV.write(\"iris_normalized.csv\", iris, delim = ',')"
   ]
  },
  {
   "cell_type": "markdown",
   "metadata": {},
   "source": [
    "# Split the dataset into training and validation sets"
   ]
  },
  {
   "cell_type": "markdown",
   "metadata": {},
   "source": [
    "## Read normalized DataFrame"
   ]
  },
  {
   "cell_type": "code",
   "execution_count": 24,
   "metadata": {},
   "outputs": [
    {
     "name": "stdout",
     "output_type": "stream",
     "text": [
      "(150, 7)\n"
     ]
    },
    {
     "data": {
      "text/html": [
       "<table class=\"data-frame\"><thead><tr><th></th><th>SepalLength</th><th>SepalWidth</th><th>PetalLength</th><th>PetalWidth</th><th>setosa</th><th>versicolor</th><th>virginica</th></tr><tr><th></th><th>Float64</th><th>Float64</th><th>Float64</th><th>Float64</th><th>Float64</th><th>Float64</th><th>Float64</th></tr></thead><tbody><p>6 rows × 7 columns</p><tr><th>1</th><td>6.2</td><td>-0.360967</td><td>0.30703</td><td>0.132067</td><td>-0.704746</td><td>1.40949</td><td>-0.704746</td></tr><tr><th>2</th><td>5.1</td><td>-1.27868</td><td>-0.429389</td><td>-0.130318</td><td>-0.704746</td><td>1.40949</td><td>-0.704746</td></tr><tr><th>3</th><td>5.7</td><td>-0.590395</td><td>0.193735</td><td>0.132067</td><td>-0.704746</td><td>1.40949</td><td>-0.704746</td></tr><tr><th>4</th><td>6.3</td><td>0.556746</td><td>1.27004</td><td>1.70638</td><td>-0.704746</td><td>-0.704746</td><td>1.40949</td></tr><tr><th>5</th><td>5.8</td><td>-0.819823</td><td>0.760211</td><td>0.919223</td><td>-0.704746</td><td>-0.704746</td><td>1.40949</td></tr><tr><th>6</th><td>7.1</td><td>-0.131539</td><td>1.21339</td><td>1.18161</td><td>-0.704746</td><td>-0.704746</td><td>1.40949</td></tr></tbody></table>"
      ],
      "text/latex": [
       "\\begin{tabular}{r|ccccccc}\n",
       "\t& SepalLength & SepalWidth & PetalLength & PetalWidth & setosa & versicolor & virginica\\\\\n",
       "\t\\hline\n",
       "\t& Float64 & Float64 & Float64 & Float64 & Float64 & Float64 & Float64\\\\\n",
       "\t\\hline\n",
       "\t1 & 6.2 & -0.360967 & 0.30703 & 0.132067 & -0.704746 & 1.40949 & -0.704746 \\\\\n",
       "\t2 & 5.1 & -1.27868 & -0.429389 & -0.130318 & -0.704746 & 1.40949 & -0.704746 \\\\\n",
       "\t3 & 5.7 & -0.590395 & 0.193735 & 0.132067 & -0.704746 & 1.40949 & -0.704746 \\\\\n",
       "\t4 & 6.3 & 0.556746 & 1.27004 & 1.70638 & -0.704746 & -0.704746 & 1.40949 \\\\\n",
       "\t5 & 5.8 & -0.819823 & 0.760211 & 0.919223 & -0.704746 & -0.704746 & 1.40949 \\\\\n",
       "\t6 & 7.1 & -0.131539 & 1.21339 & 1.18161 & -0.704746 & -0.704746 & 1.40949 \\\\\n",
       "\\end{tabular}\n"
      ],
      "text/plain": [
       "6×7 DataFrame. Omitted printing of 2 columns\n",
       "│ Row │ SepalLength │ SepalWidth │ PetalLength │ PetalWidth │ setosa    │\n",
       "│     │ \u001b[90mFloat64\u001b[39m     │ \u001b[90mFloat64\u001b[39m    │ \u001b[90mFloat64\u001b[39m     │ \u001b[90mFloat64\u001b[39m    │ \u001b[90mFloat64\u001b[39m   │\n",
       "├─────┼─────────────┼────────────┼─────────────┼────────────┼───────────┤\n",
       "│ 1   │ 6.2         │ -0.360967  │ 0.30703     │ 0.132067   │ -0.704746 │\n",
       "│ 2   │ 5.1         │ -1.27868   │ -0.429389   │ -0.130318  │ -0.704746 │\n",
       "│ 3   │ 5.7         │ -0.590395  │ 0.193735    │ 0.132067   │ -0.704746 │\n",
       "│ 4   │ 6.3         │ 0.556746   │ 1.27004     │ 1.70638    │ -0.704746 │\n",
       "│ 5   │ 5.8         │ -0.819823  │ 0.760211    │ 0.919223   │ -0.704746 │\n",
       "│ 6   │ 7.1         │ -0.131539  │ 1.21339     │ 1.18161    │ -0.704746 │"
      ]
     },
     "execution_count": 24,
     "metadata": {},
     "output_type": "execute_result"
    }
   ],
   "source": [
    "iris = CSV.read(\"iris_normalized.csv\", copycols=true)\n",
    "println(size(iris))\n",
    "iris[98:103,1:end]"
   ]
  },
  {
   "cell_type": "markdown",
   "metadata": {},
   "source": [
    "## Training Set, Validation set"
   ]
  },
  {
   "cell_type": "code",
   "execution_count": 28,
   "metadata": {},
   "outputs": [
    {
     "data": {
      "text/plain": [
       "(116×7 DataFrame. Omitted printing of 2 columns\n",
       "│ Row │ SepalLength │ SepalWidth │ PetalLength │ PetalWidth │ setosa    │\n",
       "│     │ \u001b[90mFloat64\u001b[39m     │ \u001b[90mFloat64\u001b[39m    │ \u001b[90mFloat64\u001b[39m     │ \u001b[90mFloat64\u001b[39m    │ \u001b[90mFloat64\u001b[39m   │\n",
       "├─────┼─────────────┼────────────┼─────────────┼────────────┼───────────┤\n",
       "│ 1   │ 5.1         │ 1.0156     │ -1.33575    │ -1.31105   │ 1.40949   │\n",
       "│ 2   │ 4.9         │ -0.131539  │ -1.33575    │ -1.31105   │ 1.40949   │\n",
       "│ 3   │ 4.6         │ 0.0978893  │ -1.2791     │ -1.31105   │ 1.40949   │\n",
       "│ 4   │ 5.0         │ 1.24503    │ -1.33575    │ -1.31105   │ 1.40949   │\n",
       "│ 5   │ 4.6         │ 0.786174   │ -1.33575    │ -1.17986   │ 1.40949   │\n",
       "│ 6   │ 5.0         │ 0.786174   │ -1.2791     │ -1.31105   │ 1.40949   │\n",
       "│ 7   │ 4.4         │ -0.360967  │ -1.33575    │ -1.31105   │ 1.40949   │\n",
       "│ 8   │ 4.8         │ 0.786174   │ -1.22246    │ -1.31105   │ 1.40949   │\n",
       "│ 9   │ 4.8         │ -0.131539  │ -1.33575    │ -1.44224   │ 1.40949   │\n",
       "│ 10  │ 4.3         │ -0.131539  │ -1.50569    │ -1.44224   │ 1.40949   │\n",
       "⋮\n",
       "│ 106 │ 6.4         │ 0.0978893  │ 0.986802    │ 0.788031   │ -0.704746 │\n",
       "│ 107 │ 6.0         │ -0.131539  │ 0.590269    │ 0.788031   │ -0.704746 │\n",
       "│ 108 │ 6.9         │ 0.0978893  │ 0.930154    │ 1.18161    │ -0.704746 │\n",
       "│ 109 │ 6.7         │ 0.0978893  │ 1.04345     │ 1.57519    │ -0.704746 │\n",
       "│ 110 │ 5.8         │ -0.819823  │ 0.760211    │ 0.919223   │ -0.704746 │\n",
       "│ 111 │ 6.8         │ 0.327318   │ 1.21339     │ 1.44399    │ -0.704746 │\n",
       "│ 112 │ 6.7         │ 0.556746   │ 1.1001      │ 1.70638    │ -0.704746 │\n",
       "│ 113 │ 6.3         │ -1.27868   │ 0.703564    │ 0.919223   │ -0.704746 │\n",
       "│ 114 │ 6.5         │ -0.131539  │ 0.816859    │ 1.05042    │ -0.704746 │\n",
       "│ 115 │ 6.2         │ 0.786174   │ 0.930154    │ 1.44399    │ -0.704746 │\n",
       "│ 116 │ 5.9         │ -0.131539  │ 0.760211    │ 0.788031   │ -0.704746 │, 34×7 DataFrame. Omitted printing of 2 columns\n",
       "│ Row │ SepalLength │ SepalWidth │ PetalLength │ PetalWidth │ setosa    │\n",
       "│     │ \u001b[90mFloat64\u001b[39m     │ \u001b[90mFloat64\u001b[39m    │ \u001b[90mFloat64\u001b[39m     │ \u001b[90mFloat64\u001b[39m    │ \u001b[90mFloat64\u001b[39m   │\n",
       "├─────┼─────────────┼────────────┼─────────────┼────────────┼───────────┤\n",
       "│ 1   │ 4.7         │ 0.327318   │ -1.3924     │ -1.31105   │ 1.40949   │\n",
       "│ 2   │ 5.4         │ 1.93331    │ -1.16581    │ -1.04867   │ 1.40949   │\n",
       "│ 3   │ 4.9         │ 0.0978893  │ -1.2791     │ -1.44224   │ 1.40949   │\n",
       "│ 4   │ 5.4         │ 1.47446    │ -1.2791     │ -1.31105   │ 1.40949   │\n",
       "│ 5   │ 5.7         │ 1.70389    │ -1.16581    │ -1.17986   │ 1.40949   │\n",
       "│ 6   │ 4.6         │ 1.24503    │ -1.56234    │ -1.31105   │ 1.40949   │\n",
       "│ 7   │ 5.1         │ 0.556746   │ -1.16581    │ -0.917474  │ 1.40949   │\n",
       "│ 8   │ 5.0         │ 0.786174   │ -1.22246    │ -1.04867   │ 1.40949   │\n",
       "│ 9   │ 4.7         │ 0.327318   │ -1.22246    │ -1.31105   │ 1.40949   │\n",
       "│ 10  │ 5.0         │ 1.0156     │ -1.3924     │ -1.17986   │ 1.40949   │\n",
       "⋮\n",
       "│ 24  │ 5.7         │ -0.360967  │ 0.250383    │ 0.132067   │ -0.704746 │\n",
       "│ 25  │ 6.3         │ 0.556746   │ 1.27004     │ 1.70638    │ -0.704746 │\n",
       "│ 26  │ 7.1         │ -0.131539  │ 1.21339     │ 1.18161    │ -0.704746 │\n",
       "│ 27  │ 6.3         │ -0.360967  │ 1.04345     │ 0.788031   │ -0.704746 │\n",
       "│ 28  │ 7.3         │ -0.360967  │ 1.43998     │ 0.788031   │ -0.704746 │\n",
       "│ 29  │ 7.2         │ 1.24503    │ 1.32669     │ 1.70638    │ -0.704746 │\n",
       "│ 30  │ 5.8         │ -0.590395  │ 0.760211    │ 1.57519    │ -0.704746 │\n",
       "│ 31  │ 7.7         │ 1.70389    │ 1.66657     │ 1.3128     │ -0.704746 │\n",
       "│ 32  │ 6.1         │ -1.04925   │ 1.04345     │ 0.26326    │ -0.704746 │\n",
       "│ 33  │ 6.9         │ 0.0978893  │ 0.760211    │ 1.44399    │ -0.704746 │\n",
       "│ 34  │ 6.7         │ -0.131539  │ 0.816859    │ 1.44399    │ -0.704746 │)"
      ]
     },
     "execution_count": 28,
     "metadata": {},
     "output_type": "execute_result"
    }
   ],
   "source": [
    "using Random\n",
    "\n",
    "function split_dataset(df, split_ratio)\n",
    "    records = size(df, 1)\n",
    "    validation_rows = Random.randsubseq(1:records, split_ratio)\n",
    "    training_rows = [i for i in 1:records if isempty(searchsorted(validation_rows, i))]\n",
    "    return (df[training_rows, :], df[validation_rows, :]) # training, validation sets\n",
    "end\n",
    "\n",
    "params = HyperParameters()\n",
    "training_set, testing_set = split_dataset(iris, params.split_ratio)"
   ]
  },
  {
   "cell_type": "markdown",
   "metadata": {},
   "source": [
    "## X_train, y_train, X_test, y_test\n",
    "\n",
    "- X_train: normalized features\n",
    "- y_train: not normalized result\n",
    "- X_test: normalized features\n",
    "- y_test: not normalized result"
   ]
  },
  {
   "cell_type": "code",
   "execution_count": 30,
   "metadata": {},
   "outputs": [
    {
     "data": {
      "text/plain": [
       "(116, 6)"
      ]
     },
     "execution_count": 30,
     "metadata": {},
     "output_type": "execute_result"
    }
   ],
   "source": [
    "X_train = training_set[:, 2:end]\n",
    "y_train = training_set[:, 1]\n",
    "\n",
    "X_test = testing_set[:, 2:end]\n",
    "y_test = testing_set[:, 1]\n",
    "\n",
    "size(X_train)"
   ]
  },
  {
   "cell_type": "markdown",
   "metadata": {},
   "source": [
    "# Design DNN model\n",
    "\n",
    "\n",
    "- $ \\sigma $ is a sigmoid activation function\n",
    "- https://fluxml.ai/Flux.jl/stable/models/layers/"
   ]
  },
  {
   "cell_type": "code",
   "execution_count": 45,
   "metadata": {},
   "outputs": [
    {
     "name": "stdout",
     "output_type": "stream",
     "text": [
      "number_of_inputs: 6\n"
     ]
    },
    {
     "data": {
      "text/plain": [
       "Chain(Dense(6, 12), Dense(12, 4, σ), Dense(4, 1, softmax))"
      ]
     },
     "execution_count": 45,
     "metadata": {},
     "output_type": "execute_result"
    }
   ],
   "source": [
    "using Flux # UndefVarError: 𝜎 not defined\n",
    "\n",
    "number_of_inputs = size(X_train)[2]\n",
    "println(\"number_of_inputs: \", number_of_inputs) \n",
    "\n",
    "model = Chain(\n",
    "    Dense(number_of_inputs, 12 ),\n",
    "    Dense(12, 4 , σ),\n",
    "    Dense(4, 1 , softmax)       # output layer, single resulting number\n",
    "    )"
   ]
  },
  {
   "cell_type": "markdown",
   "metadata": {},
   "source": [
    "# Training"
   ]
  },
  {
   "cell_type": "code",
   "execution_count": 37,
   "metadata": {},
   "outputs": [
    {
     "data": {
      "text/plain": [
       "HyperParameters\n",
       "  learning_rate: Float64 0.5\n",
       "  epochs: Int64 110\n",
       "  split_ratio: Float64 0.2\n"
      ]
     },
     "execution_count": 37,
     "metadata": {},
     "output_type": "execute_result"
    }
   ],
   "source": [
    "args = HyperParameters()"
   ]
  },
  {
   "cell_type": "code",
   "execution_count": 79,
   "metadata": {},
   "outputs": [],
   "source": [
    "using Flux\n",
    "using Flux: @epochs\n",
    "\n",
    "modelReg = Chain(Dense(1, 1), identity)\n",
    "loss(x, y) = Flux.mse(modelReg(x), y)\n",
    "opt = SGD(Flux.params(modelReg), 0.1)\n",
    "@epochs 100 Flux.train!(loss, regData, opt)"
   ]
  },
  {
   "cell_type": "code",
   "execution_count": 84,
   "metadata": {},
   "outputs": [
    {
     "name": "stdout",
     "output_type": "stream",
     "text": [
      "Starting training.\n"
     ]
    },
    {
     "name": "stderr",
     "output_type": "stream",
     "text": [
      "┌ Info: Epoch 1\n",
      "└ @ Main /Users/uki/.julia/packages/Flux/qXNjB/src/optimise/train.jl:105\n"
     ]
    },
    {
     "ename": "UndefVarError",
     "evalue": "UndefVarError: Losses not defined",
     "output_type": "error",
     "traceback": [
      "UndefVarError: Losses not defined",
      "",
      "Stacktrace:",
      " [1] loss(::DataFrame, ::Array{Float64,1}) at ./In[84]:10",
      " [2] #15 at /Users/uki/.julia/packages/Flux/qXNjB/src/optimise/train.jl:72 [inlined]",
      " [3] gradient_(::Flux.Optimise.var\"#15#21\"{typeof(loss),Tuple{DataFrame,Array{Float64,1}}}, ::Tracker.Params) at /Users/uki/.julia/packages/Tracker/AMi2h/src/back.jl:97",
      " [4] gradient(::Function, ::Tracker.Params; nest::Bool) at /Users/uki/.julia/packages/Tracker/AMi2h/src/back.jl:164",
      " [5] gradient at /Users/uki/.julia/packages/Tracker/AMi2h/src/back.jl:164 [inlined]",
      " [6] macro expansion at /Users/uki/.julia/packages/Flux/qXNjB/src/optimise/train.jl:71 [inlined]",
      " [7] macro expansion at /Users/uki/.julia/packages/Juno/oLB1d/src/progress.jl:134 [inlined]",
      " [8] train!(::Function, ::Tracker.Params, ::Array{Tuple{DataFrame,Array{Float64,1}},1}, ::Descent; cb::Flux.Optimise.var\"#16#22\") at /Users/uki/.julia/packages/Flux/qXNjB/src/optimise/train.jl:69",
      " [9] train!(::Function, ::Tracker.Params, ::Array{Tuple{DataFrame,Array{Float64,1}},1}, ::Descent) at /Users/uki/.julia/packages/Flux/qXNjB/src/optimise/train.jl:67",
      " [10] top-level scope at /Users/uki/.julia/packages/Flux/qXNjB/src/optimise/train.jl:106",
      " [11] top-level scope at /Users/uki/.julia/packages/Juno/oLB1d/src/progress.jl:134",
      " [12] top-level scope at In[84]:19"
     ]
    }
   ],
   "source": [
    "x = X_train # Y ???\n",
    "y = y_train # ŷ ???\n",
    "data = [(x, y)]\n",
    "\n",
    "#train_data, test_data = get_processed_data(args)\n",
    "\n",
    "#loss(x, y) = logitcrossentropy(model(x), y)\n",
    "# agg((ŷ .- y).^2)\n",
    "# mse(model(x), y)\n",
    "\n",
    "function mse()\n",
    "loss(x, y) = Flux.Losses.agg((y .- x).^2)\n",
    "\n",
    "parameters = Flux.params(model)\n",
    "\n",
    "optimiser = Descent(args.learning_rate)\n",
    "\n",
    "println(\"Starting training.\")\n",
    "\n",
    "eval_callback() = @show(loss(test_x, test_y))\n",
    "\n",
    "@epochs 3 Flux.Optimise.train!(loss, parameters, data, optimiser ) #, \n",
    "    #callback = throttle(eval_callback, 1) \n",
    "    #callback = throttle(() -> print(\".\"), 1) \n",
    ")\n",
    "println(\"Ended training.\")\n",
    "\n",
    "#cd(@__DIR__)\n",
    "#model = train()"
   ]
  },
  {
   "cell_type": "markdown",
   "metadata": {},
   "source": [
    "# Testing"
   ]
  },
  {
   "cell_type": "code",
   "execution_count": null,
   "metadata": {},
   "outputs": [],
   "source": [
    "\n",
    "function test(model, test)\n",
    "    # Testing model performance on test data \n",
    "    X_test, y_test = test\n",
    "    accuracy_score = accuracy(X_test, y_test, model)\n",
    "\n",
    "    println(\"\\nAccuracy: $accuracy_score\")\n",
    "\n",
    "    # Sanity check.\n",
    "    @assert accuracy_score > 0.8\n",
    "\n",
    "    # To avoid confusion, here is the definition of a Confusion Matrix: https://en.wikipedia.org/wiki/Confusion_matrix\n",
    "    println(\"\\nConfusion Matrix:\\n\")\n",
    "    display(confusion_matrix(X_test, y_test, model))\n",
    "end\n",
    "\n",
    "\n",
    "test(model, test_data)"
   ]
  },
  {
   "cell_type": "markdown",
   "metadata": {},
   "source": [
    "# Resources\n",
    "- https://medium.com/gft-engineering/start-to-learn-machine-learning-with-the-iris-flower-classification-challenge-4859a920e5e3\n",
    "- https://medium.com/@Nivitus./iris-flower-classification-machine-learning-d4e337140fa4"
   ]
  }
 ],
 "metadata": {
  "kernelspec": {
   "display_name": "Julia 1.4.2",
   "language": "julia",
   "name": "julia-1.4"
  },
  "language_info": {
   "file_extension": ".jl",
   "mimetype": "application/julia",
   "name": "julia",
   "version": "1.4.2"
  },
  "toc": {
   "base_numbering": 1,
   "nav_menu": {},
   "number_sections": false,
   "sideBar": true,
   "skip_h1_title": false,
   "title_cell": "Table of Contents",
   "title_sidebar": "Contents",
   "toc_cell": true,
   "toc_position": {
    "height": "calc(100% - 180px)",
    "left": "10px",
    "top": "150px",
    "width": "384px"
   },
   "toc_section_display": true,
   "toc_window_display": true
  }
 },
 "nbformat": 4,
 "nbformat_minor": 4
}
