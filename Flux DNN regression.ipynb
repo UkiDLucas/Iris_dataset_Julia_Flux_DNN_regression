{
 "cells": [
  {
   "cell_type": "markdown",
   "metadata": {},
   "source": [
    "# Regression with Deep Neural Model (DNN) using Julia Flux.\n",
    "\n",
    "by Uki D. Lucas\n",
    "\n",
    "September 11, 2020"
   ]
  },
  {
   "cell_type": "markdown",
   "metadata": {
    "toc": true
   },
   "source": [
    "<h1>Table of Contents<span class=\"tocSkip\"></span></h1>\n",
    "<div class=\"toc\"><ul class=\"toc-item\"><li><span><a href=\"#Regression-with-Deep-Neural-Model-(DNN)-using-Julia-Flux.\" data-toc-modified-id=\"Regression-with-Deep-Neural-Model-(DNN)-using-Julia-Flux.-1\">Regression with Deep Neural Model (DNN) using Julia Flux.</a></span></li><li><span><a href=\"#Motivation\" data-toc-modified-id=\"Motivation-2\">Motivation</a></span></li><li><span><a href=\"#Declare-libraries-to-be-used\" data-toc-modified-id=\"Declare-libraries-to-be-used-3\">Declare libraries to be used</a></span></li><li><span><a href=\"#Set-Hyper-Parameters\" data-toc-modified-id=\"Set-Hyper-Parameters-4\">Set Hyper Parameters</a></span></li><li><span><a href=\"#DataSet\" data-toc-modified-id=\"DataSet-5\">DataSet</a></span><ul class=\"toc-item\"><li><span><a href=\"#Explore-possible-RDatasets-data-sets\" data-toc-modified-id=\"Explore-possible-RDatasets-data-sets-5.1\">Explore possible RDatasets data sets</a></span></li><li><span><a href=\"#Fetch-Iris-DataFrame\" data-toc-modified-id=\"Fetch-Iris-DataFrame-5.2\">Fetch Iris DataFrame</a></span></li><li><span><a href=\"#Write-the-dataset-locally\" data-toc-modified-id=\"Write-the-dataset-locally-5.3\">Write the dataset locally</a></span></li></ul></li><li><span><a href=\"#Exploratory-Data-Analysis-(EDA)\" data-toc-modified-id=\"Exploratory-Data-Analysis-(EDA)-6\">Exploratory Data Analysis (EDA)</a></span><ul class=\"toc-item\"><li><span><a href=\"#Print-column-numbers-and-names\" data-toc-modified-id=\"Print-column-numbers-and-names-6.1\">Print column numbers and names</a></span></li><li><span><a href=\"#Group-rows-by-Species-name\" data-toc-modified-id=\"Group-rows-by-Species-name-6.2\">Group rows by Species name</a></span></li><li><span><a href=\"#Filter-DataFrame-row-for-Specie-name\" data-toc-modified-id=\"Filter-DataFrame-row-for-Specie-name-6.3\">Filter DataFrame row for Specie name</a></span></li><li><span><a href=\"#Show-Types-of-the-columns\" data-toc-modified-id=\"Show-Types-of-the-columns-6.4\">Show Types of the columns</a></span></li></ul></li><li><span><a href=\"#One-hot-encoding-of-the-categories\" data-toc-modified-id=\"One-hot-encoding-of-the-categories-7\">One-hot encoding of the categories</a></span><ul class=\"toc-item\"><li><span><a href=\"#Insert-one-hot-columns-into-DataFrame\" data-toc-modified-id=\"Insert-one-hot-columns-into-DataFrame-7.1\">Insert one-hot columns into DataFrame</a></span></li><li><span><a href=\"#Insert-one-hot-encodings-for-each-row\" data-toc-modified-id=\"Insert-one-hot-encodings-for-each-row-7.2\">Insert one-hot encodings for each row</a></span></li><li><span><a href=\"#Save-the-dataset-to-the-disk\" data-toc-modified-id=\"Save-the-dataset-to-the-disk-7.3\">Save the dataset to the disk</a></span></li></ul></li><li><span><a href=\"#Split-the-dataset-into-training-and-validation-sets\" data-toc-modified-id=\"Split-the-dataset-into-training-and-validation-sets-8\">Split the dataset into training and validation sets</a></span></li><li><span><a href=\"#Define-DNN-model\" data-toc-modified-id=\"Define-DNN-model-9\">Define DNN model</a></span></li><li><span><a href=\"#Resources\" data-toc-modified-id=\"Resources-10\">Resources</a></span></li></ul></div>"
   ]
  },
  {
   "cell_type": "markdown",
   "metadata": {},
   "source": [
    "# Motivation\n",
    "\n",
    "I have not found a clear example of how to perform a regression (prediction of a number) using Julia Deep Neural Network, in this case using Flux.\n",
    "\n",
    "I am using Iris dataset because it is very well known, and hence trying to remove on step of difficulty."
   ]
  },
  {
   "cell_type": "markdown",
   "metadata": {},
   "source": [
    "# Declare libraries to be used"
   ]
  },
  {
   "cell_type": "code",
   "execution_count": 1,
   "metadata": {},
   "outputs": [],
   "source": [
    "using Flux\n",
    "using Flux: logitcrossentropy, normalise, onecold, onehotbatch\n",
    "using Statistics: mean\n",
    "using Parameters: @with_kw"
   ]
  },
  {
   "cell_type": "markdown",
   "metadata": {},
   "source": [
    "# Set Hyper Parameters\n",
    "\n",
    "You can run the cell below only once."
   ]
  },
  {
   "cell_type": "code",
   "execution_count": 2,
   "metadata": {},
   "outputs": [
    {
     "data": {
      "text/plain": [
       "HyperParameters"
      ]
     },
     "execution_count": 2,
     "metadata": {},
     "output_type": "execute_result"
    }
   ],
   "source": [
    "@with_kw mutable struct HyperParameters\n",
    "    learning_rate::Float64 = 0.5\n",
    "    epochs::Int = 110\n",
    "    split_ratio::Float64 = 0.2\n",
    "end"
   ]
  },
  {
   "cell_type": "markdown",
   "metadata": {},
   "source": [
    "# DataSet"
   ]
  },
  {
   "cell_type": "markdown",
   "metadata": {},
   "source": [
    "## Explore possible RDatasets data sets"
   ]
  },
  {
   "cell_type": "code",
   "execution_count": 3,
   "metadata": {},
   "outputs": [
    {
     "name": "stdout",
     "output_type": "stream",
     "text": [
      "(1303, 12)\n"
     ]
    },
    {
     "data": {
      "text/html": [
       "<table class=\"data-frame\"><thead><tr><th></th><th>Package</th><th>Item</th><th>Title</th></tr><tr><th></th><th>String</th><th>String</th><th>String</th></tr></thead><tbody><p>6 rows × 12 columns (omitted printing of 9 columns)</p><tr><th>1</th><td>carData</td><td>States</td><td>Education and Related Statistics for the U.S. States</td></tr><tr><th>2</th><td>carData</td><td>TitanicSurvival</td><td>Survival of Passengers on the Titanic</td></tr><tr><th>3</th><td>carData</td><td>Transact</td><td>Transaction data</td></tr><tr><th>4</th><td>carData</td><td>UN</td><td>National Statistics from the United Nations, Mostly From 2009-2011</td></tr><tr><th>5</th><td>carData</td><td>UN98</td><td>United Nations Social Indicators Data 1998]</td></tr><tr><th>6</th><td>carData</td><td>USPop</td><td>Population of the United States</td></tr></tbody></table>"
      ],
      "text/latex": [
       "\\begin{tabular}{r|cccc}\n",
       "\t& Package & Item & Title & \\\\\n",
       "\t\\hline\n",
       "\t& String & String & String & \\\\\n",
       "\t\\hline\n",
       "\t1 & carData & States & Education and Related Statistics for the U.S. States & $\\dots$ \\\\\n",
       "\t2 & carData & TitanicSurvival & Survival of Passengers on the Titanic & $\\dots$ \\\\\n",
       "\t3 & carData & Transact & Transaction data & $\\dots$ \\\\\n",
       "\t4 & carData & UN & National Statistics from the United Nations, Mostly From 2009-2011 & $\\dots$ \\\\\n",
       "\t5 & carData & UN98 & United Nations Social Indicators Data 1998] & $\\dots$ \\\\\n",
       "\t6 & carData & USPop & Population of the United States & $\\dots$ \\\\\n",
       "\\end{tabular}\n"
      ],
      "text/plain": [
       "6×12 DataFrames.DataFrame. Omitted printing of 10 columns\n",
       "│ Row │ Package │ Item            │\n",
       "│     │ \u001b[90mString\u001b[39m  │ \u001b[90mString\u001b[39m          │\n",
       "├─────┼─────────┼─────────────────┤\n",
       "│ 1   │ carData │ States          │\n",
       "│ 2   │ carData │ TitanicSurvival │\n",
       "│ 3   │ carData │ Transact        │\n",
       "│ 4   │ carData │ UN              │\n",
       "│ 5   │ carData │ UN98            │\n",
       "│ 6   │ carData │ USPop           │"
      ]
     },
     "execution_count": 3,
     "metadata": {},
     "output_type": "execute_result"
    }
   ],
   "source": [
    "download( \"https://raw.githubusercontent.com/vincentarelbundock/Rdatasets/master/datasets.csv\" , \n",
    "    \"RDatasets.csv\" ) # URL, name to save\n",
    "using CSV\n",
    "df1 = CSV.read(\"RDatasets.csv\")\n",
    "println(size(df1))\n",
    "df1[100:105,:]"
   ]
  },
  {
   "cell_type": "markdown",
   "metadata": {},
   "source": [
    "## Fetch Iris DataFrame"
   ]
  },
  {
   "cell_type": "code",
   "execution_count": 4,
   "metadata": {},
   "outputs": [
    {
     "data": {
      "text/html": [
       "<table class=\"data-frame\"><thead><tr><th></th><th>SepalLength</th><th>SepalWidth</th><th>PetalLength</th><th>PetalWidth</th><th>Species</th></tr><tr><th></th><th>Float64</th><th>Float64</th><th>Float64</th><th>Float64</th><th>Categorical…</th></tr></thead><tbody><p>5 rows × 5 columns</p><tr><th>1</th><td>5.1</td><td>3.5</td><td>1.4</td><td>0.2</td><td>setosa</td></tr><tr><th>2</th><td>4.9</td><td>3.0</td><td>1.4</td><td>0.2</td><td>setosa</td></tr><tr><th>3</th><td>4.7</td><td>3.2</td><td>1.3</td><td>0.2</td><td>setosa</td></tr><tr><th>4</th><td>4.6</td><td>3.1</td><td>1.5</td><td>0.2</td><td>setosa</td></tr><tr><th>5</th><td>5.0</td><td>3.6</td><td>1.4</td><td>0.2</td><td>setosa</td></tr></tbody></table>"
      ],
      "text/latex": [
       "\\begin{tabular}{r|ccccc}\n",
       "\t& SepalLength & SepalWidth & PetalLength & PetalWidth & Species\\\\\n",
       "\t\\hline\n",
       "\t& Float64 & Float64 & Float64 & Float64 & Categorical…\\\\\n",
       "\t\\hline\n",
       "\t1 & 5.1 & 3.5 & 1.4 & 0.2 & setosa \\\\\n",
       "\t2 & 4.9 & 3.0 & 1.4 & 0.2 & setosa \\\\\n",
       "\t3 & 4.7 & 3.2 & 1.3 & 0.2 & setosa \\\\\n",
       "\t4 & 4.6 & 3.1 & 1.5 & 0.2 & setosa \\\\\n",
       "\t5 & 5.0 & 3.6 & 1.4 & 0.2 & setosa \\\\\n",
       "\\end{tabular}\n"
      ],
      "text/plain": [
       "5×5 DataFrames.DataFrame\n",
       "│ Row │ SepalLength │ SepalWidth │ PetalLength │ PetalWidth │ Species      │\n",
       "│     │ \u001b[90mFloat64\u001b[39m     │ \u001b[90mFloat64\u001b[39m    │ \u001b[90mFloat64\u001b[39m     │ \u001b[90mFloat64\u001b[39m    │ \u001b[90mCategorical…\u001b[39m │\n",
       "├─────┼─────────────┼────────────┼─────────────┼────────────┼──────────────┤\n",
       "│ 1   │ 5.1         │ 3.5        │ 1.4         │ 0.2        │ setosa       │\n",
       "│ 2   │ 4.9         │ 3.0        │ 1.4         │ 0.2        │ setosa       │\n",
       "│ 3   │ 4.7         │ 3.2        │ 1.3         │ 0.2        │ setosa       │\n",
       "│ 4   │ 4.6         │ 3.1        │ 1.5         │ 0.2        │ setosa       │\n",
       "│ 5   │ 5.0         │ 3.6        │ 1.4         │ 0.2        │ setosa       │"
      ]
     },
     "execution_count": 4,
     "metadata": {},
     "output_type": "execute_result"
    }
   ],
   "source": [
    "using RDatasets: dataset\n",
    "iris = dataset(\"datasets\", \"iris\") # return DataFrames.DataFrame\n",
    "iris[1:5, :]"
   ]
  },
  {
   "cell_type": "markdown",
   "metadata": {},
   "source": [
    "## Write the dataset locally"
   ]
  },
  {
   "cell_type": "code",
   "execution_count": 5,
   "metadata": {},
   "outputs": [
    {
     "data": {
      "text/plain": [
       "\"iris.csv\""
      ]
     },
     "execution_count": 5,
     "metadata": {},
     "output_type": "execute_result"
    }
   ],
   "source": [
    "CSV.write(\"iris.csv\", iris, delim = ',')"
   ]
  },
  {
   "cell_type": "markdown",
   "metadata": {},
   "source": [
    "# Exploratory Data Analysis (EDA)\n"
   ]
  },
  {
   "cell_type": "markdown",
   "metadata": {},
   "source": [
    "## Print column numbers and names"
   ]
  },
  {
   "cell_type": "code",
   "execution_count": 6,
   "metadata": {},
   "outputs": [
    {
     "name": "stdout",
     "output_type": "stream",
     "text": [
      "1 SepalLength\n",
      "2 SepalWidth\n",
      "3 PetalLength\n",
      "4 PetalWidth\n",
      "5 Species\n"
     ]
    }
   ],
   "source": [
    "for i in 1:length(names(iris))\n",
    "    println(i, \" \", names(iris)[i])\n",
    "end"
   ]
  },
  {
   "cell_type": "markdown",
   "metadata": {},
   "source": [
    "## Group rows by Species name"
   ]
  },
  {
   "cell_type": "code",
   "execution_count": 7,
   "metadata": {},
   "outputs": [
    {
     "name": "stdout",
     "output_type": "stream",
     "text": [
      "setosa\n",
      "versicolor\n",
      "virginica\n"
     ]
    },
    {
     "data": {
      "text/plain": [
       "3-element Array{Any,1}:\n",
       " CategoricalString{UInt8} \"setosa\"\n",
       " CategoricalString{UInt8} \"versicolor\"\n",
       " CategoricalString{UInt8} \"virginica\""
      ]
     },
     "execution_count": 7,
     "metadata": {},
     "output_type": "execute_result"
    }
   ],
   "source": [
    "using DataFrames\n",
    "groups = groupby(iris, [:Species] ) # GroupedDataFrame{DataFrame}\n",
    "\n",
    "#[ groups[1][1,5] groups[2][1,5] groups[3][1,5] ] # show row 1, column 5 from each group\n",
    "\n",
    "labels = []\n",
    "for i in 1:length(groups)\n",
    "    label = groups[i][1,5]\n",
    "    push!(labels, label ) # example CategoricalString{UInt8} \"setosa\"\n",
    "    println( label )\n",
    "end\n",
    "\n",
    "labels"
   ]
  },
  {
   "cell_type": "markdown",
   "metadata": {},
   "source": [
    "## Filter DataFrame row for Specie name"
   ]
  },
  {
   "cell_type": "code",
   "execution_count": 8,
   "metadata": {},
   "outputs": [
    {
     "data": {
      "text/plain": [
       "4-element BitArray{1}:\n",
       " 1\n",
       " 1\n",
       " 1\n",
       " 1"
      ]
     },
     "execution_count": 8,
     "metadata": {},
     "output_type": "execute_result"
    }
   ],
   "source": [
    "filter_virginica = iris[!, :Species] .== \"virginica\" # for each row determin if Species is virginica\n",
    "filter_virginica[end-3:end]"
   ]
  },
  {
   "cell_type": "code",
   "execution_count": 9,
   "metadata": {},
   "outputs": [
    {
     "ename": "BoundsError",
     "evalue": "BoundsError: attempt to access String",
     "output_type": "error",
     "traceback": [
      "BoundsError: attempt to access String",
      "",
      "Stacktrace:",
      " [1] getindex at /Users/uki/.julia/packages/DataFrames/S3ZFo/src/other/index.jl:183 [inlined]",
      " [2] getindex(::DataFrame, ::BitArray{1}, ::UnitRange{Int64}) at /Users/uki/.julia/packages/DataFrames/S3ZFo/src/dataframe/dataframe.jl:372",
      " [3] top-level scope at In[9]:1"
     ]
    }
   ],
   "source": [
    "x = iris[filter_virginica, 5:8]\n",
    "x[1:3, :]"
   ]
  },
  {
   "cell_type": "markdown",
   "metadata": {},
   "source": [
    "## Show Types of the columns"
   ]
  },
  {
   "cell_type": "code",
   "execution_count": 10,
   "metadata": {},
   "outputs": [
    {
     "data": {
      "text/plain": [
       "5-element Array{DataType,1}:\n",
       " Float64\n",
       " Float64\n",
       " Float64\n",
       " Float64\n",
       " CategoricalString{UInt8}"
      ]
     },
     "execution_count": 10,
     "metadata": {},
     "output_type": "execute_result"
    }
   ],
   "source": [
    "eltype.(eachcol(iris))"
   ]
  },
  {
   "cell_type": "markdown",
   "metadata": {},
   "source": [
    "# One-hot encoding of the categories\n",
    "\n",
    "- https://fluxml.ai/Flux.jl/stable/data/onehot/"
   ]
  },
  {
   "cell_type": "markdown",
   "metadata": {},
   "source": [
    "## Insert one-hot columns into DataFrame"
   ]
  },
  {
   "cell_type": "code",
   "execution_count": 11,
   "metadata": {},
   "outputs": [
    {
     "data": {
      "text/html": [
       "<table class=\"data-frame\"><thead><tr><th></th><th>Species</th><th>setosa</th><th>versicolor</th><th>virginica</th></tr><tr><th></th><th>Categorical…</th><th>Int64</th><th>Int64</th><th>Int64</th></tr></thead><tbody><p>3 rows × 4 columns</p><tr><th>1</th><td>setosa</td><td>0</td><td>0</td><td>0</td></tr><tr><th>2</th><td>setosa</td><td>0</td><td>0</td><td>0</td></tr><tr><th>3</th><td>setosa</td><td>0</td><td>0</td><td>0</td></tr></tbody></table>"
      ],
      "text/latex": [
       "\\begin{tabular}{r|cccc}\n",
       "\t& Species & setosa & versicolor & virginica\\\\\n",
       "\t\\hline\n",
       "\t& Categorical… & Int64 & Int64 & Int64\\\\\n",
       "\t\\hline\n",
       "\t1 & setosa & 0 & 0 & 0 \\\\\n",
       "\t2 & setosa & 0 & 0 & 0 \\\\\n",
       "\t3 & setosa & 0 & 0 & 0 \\\\\n",
       "\\end{tabular}\n"
      ],
      "text/plain": [
       "3×4 DataFrame\n",
       "│ Row │ Species      │ setosa │ versicolor │ virginica │\n",
       "│     │ \u001b[90mCategorical…\u001b[39m │ \u001b[90mInt64\u001b[39m  │ \u001b[90mInt64\u001b[39m      │ \u001b[90mInt64\u001b[39m     │\n",
       "├─────┼──────────────┼────────┼────────────┼───────────┤\n",
       "│ 1   │ setosa       │ 0      │ 0          │ 0         │\n",
       "│ 2   │ setosa       │ 0      │ 0          │ 0         │\n",
       "│ 3   │ setosa       │ 0      │ 0          │ 0         │"
      ]
     },
     "execution_count": 11,
     "metadata": {},
     "output_type": "execute_result"
    }
   ],
   "source": [
    "insertcols!(iris                     # DataFrame to be changed\n",
    "        , 6                          # insert as column number,\n",
    "        , makeunique=true            # if the name of the column exist, make is name_1\n",
    "        , setosa=0                   # name of the colum and values, make sure type is right\n",
    "        )  \n",
    "insertcols!(iris                      \n",
    "        , 7                               \n",
    "        , makeunique=true                \n",
    "        , versicolor=0                    \n",
    "        )  \n",
    "insertcols!(iris                    \n",
    "        , 8                              \n",
    "        , makeunique=true               \n",
    "        , virginica=0              \n",
    "        )  \n",
    "iris[1:3, 5:end]"
   ]
  },
  {
   "cell_type": "markdown",
   "metadata": {},
   "source": [
    "## Insert one-hot encodings for each row\n",
    "\n",
    "There is a **Flux.onehot** method, but it is so cryptic that I prefered to write my own code."
   ]
  },
  {
   "cell_type": "code",
   "execution_count": 20,
   "metadata": {},
   "outputs": [
    {
     "data": {
      "text/html": [
       "<table class=\"data-frame\"><thead><tr><th></th><th>Species</th><th>setosa</th><th>versicolor</th><th>virginica</th></tr><tr><th></th><th>Categorical…</th><th>Int64</th><th>Int64</th><th>Int64</th></tr></thead><tbody><p>6 rows × 4 columns</p><tr><th>1</th><td>setosa</td><td>1</td><td>0</td><td>0</td></tr><tr><th>2</th><td>setosa</td><td>1</td><td>0</td><td>0</td></tr><tr><th>3</th><td>setosa</td><td>1</td><td>0</td><td>0</td></tr><tr><th>4</th><td>versicolor</td><td>0</td><td>1</td><td>0</td></tr><tr><th>5</th><td>versicolor</td><td>0</td><td>1</td><td>0</td></tr><tr><th>6</th><td>versicolor</td><td>0</td><td>1</td><td>0</td></tr></tbody></table>"
      ],
      "text/latex": [
       "\\begin{tabular}{r|cccc}\n",
       "\t& Species & setosa & versicolor & virginica\\\\\n",
       "\t\\hline\n",
       "\t& Categorical… & Int64 & Int64 & Int64\\\\\n",
       "\t\\hline\n",
       "\t1 & setosa & 1 & 0 & 0 \\\\\n",
       "\t2 & setosa & 1 & 0 & 0 \\\\\n",
       "\t3 & setosa & 1 & 0 & 0 \\\\\n",
       "\t4 & versicolor & 0 & 1 & 0 \\\\\n",
       "\t5 & versicolor & 0 & 1 & 0 \\\\\n",
       "\t6 & versicolor & 0 & 1 & 0 \\\\\n",
       "\\end{tabular}\n"
      ],
      "text/plain": [
       "6×4 DataFrame\n",
       "│ Row │ Species      │ setosa │ versicolor │ virginica │\n",
       "│     │ \u001b[90mCategorical…\u001b[39m │ \u001b[90mInt64\u001b[39m  │ \u001b[90mInt64\u001b[39m      │ \u001b[90mInt64\u001b[39m     │\n",
       "├─────┼──────────────┼────────┼────────────┼───────────┤\n",
       "│ 1   │ setosa       │ 1      │ 0          │ 0         │\n",
       "│ 2   │ setosa       │ 1      │ 0          │ 0         │\n",
       "│ 3   │ setosa       │ 1      │ 0          │ 0         │\n",
       "│ 4   │ versicolor   │ 0      │ 1          │ 0         │\n",
       "│ 5   │ versicolor   │ 0      │ 1          │ 0         │\n",
       "│ 6   │ versicolor   │ 0      │ 1          │ 0         │"
      ]
     },
     "execution_count": 20,
     "metadata": {},
     "output_type": "execute_result"
    }
   ],
   "source": [
    "using DataFrames\n",
    "column_species     = 5                              # column number with lables\n",
    "column_setosa      = 6\n",
    "column_versicolor  = 7\n",
    "column_virginica   = 8\n",
    "\n",
    "number_of_rows = size(iris)[1]                      # rows, columns\n",
    "\n",
    "for i in 1:number_of_rows                           # go thru all rows\n",
    "    specie = string( iris[i, column_species] )      # CategoricalString{UInt8} to String\n",
    "    \n",
    "    if specie == \"setosa\" \n",
    "        iris[i, column_setosa] = 1\n",
    "    elseif specie == \"versicolor\" \n",
    "        iris[i, column_versicolor] = 1\n",
    "    elseif specie == \"virginica\" \n",
    "        iris[i, column_virginica] = 1\n",
    "    else\n",
    "        println( specie, \" not found!\" )\n",
    "    end\n",
    "end\n",
    "\n",
    "iris[48:53, 5:end]                                  # a quick sanity check"
   ]
  },
  {
   "cell_type": "markdown",
   "metadata": {},
   "source": [
    "## Save the dataset to the disk"
   ]
  },
  {
   "cell_type": "code",
   "execution_count": 21,
   "metadata": {},
   "outputs": [
    {
     "data": {
      "text/plain": [
       "\"iris.csv\""
      ]
     },
     "execution_count": 21,
     "metadata": {},
     "output_type": "execute_result"
    }
   ],
   "source": [
    "CSV.write(\"iris.csv\", iris, delim = ',')"
   ]
  },
  {
   "cell_type": "markdown",
   "metadata": {},
   "source": [
    "# Split the dataset into training and validation sets"
   ]
  },
  {
   "cell_type": "code",
   "execution_count": 35,
   "metadata": {},
   "outputs": [
    {
     "data": {
      "text/plain": [
       "(117×8 DataFrame. Omitted printing of 3 columns\n",
       "│ Row │ SepalLength │ SepalWidth │ PetalLength │ PetalWidth │ Species      │\n",
       "│     │ \u001b[90mFloat64\u001b[39m     │ \u001b[90mFloat64\u001b[39m    │ \u001b[90mFloat64\u001b[39m     │ \u001b[90mFloat64\u001b[39m    │ \u001b[90mCategorical…\u001b[39m │\n",
       "├─────┼─────────────┼────────────┼─────────────┼────────────┼──────────────┤\n",
       "│ 1   │ 4.9         │ 3.0        │ 1.4         │ 0.2        │ setosa       │\n",
       "│ 2   │ 4.7         │ 3.2        │ 1.3         │ 0.2        │ setosa       │\n",
       "│ 3   │ 4.6         │ 3.1        │ 1.5         │ 0.2        │ setosa       │\n",
       "│ 4   │ 5.0         │ 3.6        │ 1.4         │ 0.2        │ setosa       │\n",
       "│ 5   │ 4.6         │ 3.4        │ 1.4         │ 0.3        │ setosa       │\n",
       "│ 6   │ 5.0         │ 3.4        │ 1.5         │ 0.2        │ setosa       │\n",
       "│ 7   │ 4.4         │ 2.9        │ 1.4         │ 0.2        │ setosa       │\n",
       "│ 8   │ 4.9         │ 3.1        │ 1.5         │ 0.1        │ setosa       │\n",
       "│ 9   │ 4.8         │ 3.4        │ 1.6         │ 0.2        │ setosa       │\n",
       "│ 10  │ 4.8         │ 3.0        │ 1.4         │ 0.1        │ setosa       │\n",
       "⋮\n",
       "│ 107 │ 6.0         │ 3.0        │ 4.8         │ 1.8        │ virginica    │\n",
       "│ 108 │ 6.9         │ 3.1        │ 5.4         │ 2.1        │ virginica    │\n",
       "│ 109 │ 6.7         │ 3.1        │ 5.6         │ 2.4        │ virginica    │\n",
       "│ 110 │ 6.9         │ 3.1        │ 5.1         │ 2.3        │ virginica    │\n",
       "│ 111 │ 5.8         │ 2.7        │ 5.1         │ 1.9        │ virginica    │\n",
       "│ 112 │ 6.8         │ 3.2        │ 5.9         │ 2.3        │ virginica    │\n",
       "│ 113 │ 6.7         │ 3.3        │ 5.7         │ 2.5        │ virginica    │\n",
       "│ 114 │ 6.7         │ 3.0        │ 5.2         │ 2.3        │ virginica    │\n",
       "│ 115 │ 6.3         │ 2.5        │ 5.0         │ 1.9        │ virginica    │\n",
       "│ 116 │ 6.5         │ 3.0        │ 5.2         │ 2.0        │ virginica    │\n",
       "│ 117 │ 5.9         │ 3.0        │ 5.1         │ 1.8        │ virginica    │, 33×8 DataFrame. Omitted printing of 3 columns\n",
       "│ Row │ SepalLength │ SepalWidth │ PetalLength │ PetalWidth │ Species      │\n",
       "│     │ \u001b[90mFloat64\u001b[39m     │ \u001b[90mFloat64\u001b[39m    │ \u001b[90mFloat64\u001b[39m     │ \u001b[90mFloat64\u001b[39m    │ \u001b[90mCategorical…\u001b[39m │\n",
       "├─────┼─────────────┼────────────┼─────────────┼────────────┼──────────────┤\n",
       "│ 1   │ 5.1         │ 3.5        │ 1.4         │ 0.2        │ setosa       │\n",
       "│ 2   │ 5.4         │ 3.9        │ 1.7         │ 0.4        │ setosa       │\n",
       "│ 3   │ 5.4         │ 3.7        │ 1.5         │ 0.2        │ setosa       │\n",
       "│ 4   │ 5.7         │ 3.8        │ 1.7         │ 0.3        │ setosa       │\n",
       "│ 5   │ 5.1         │ 3.7        │ 1.5         │ 0.4        │ setosa       │\n",
       "│ 6   │ 4.8         │ 3.4        │ 1.9         │ 0.2        │ setosa       │\n",
       "│ 7   │ 4.8         │ 3.1        │ 1.6         │ 0.2        │ setosa       │\n",
       "│ 8   │ 5.0         │ 3.5        │ 1.3         │ 0.3        │ setosa       │\n",
       "│ 9   │ 5.3         │ 3.7        │ 1.5         │ 0.2        │ setosa       │\n",
       "│ 10  │ 6.9         │ 3.1        │ 4.9         │ 1.5        │ versicolor   │\n",
       "⋮\n",
       "│ 23  │ 6.3         │ 2.9        │ 5.6         │ 1.8        │ virginica    │\n",
       "│ 24  │ 4.9         │ 2.5        │ 4.5         │ 1.7        │ virginica    │\n",
       "│ 25  │ 7.2         │ 3.6        │ 6.1         │ 2.5        │ virginica    │\n",
       "│ 26  │ 6.5         │ 3.2        │ 5.1         │ 2.0        │ virginica    │\n",
       "│ 27  │ 6.0         │ 2.2        │ 5.0         │ 1.5        │ virginica    │\n",
       "│ 28  │ 5.6         │ 2.8        │ 4.9         │ 2.0        │ virginica    │\n",
       "│ 29  │ 7.7         │ 2.8        │ 6.7         │ 2.0        │ virginica    │\n",
       "│ 30  │ 6.3         │ 2.7        │ 4.9         │ 1.8        │ virginica    │\n",
       "│ 31  │ 7.2         │ 3.2        │ 6.0         │ 1.8        │ virginica    │\n",
       "│ 32  │ 7.2         │ 3.0        │ 5.8         │ 1.6        │ virginica    │\n",
       "│ 33  │ 6.2         │ 3.4        │ 5.4         │ 2.3        │ virginica    │)"
      ]
     },
     "execution_count": 35,
     "metadata": {},
     "output_type": "execute_result"
    }
   ],
   "source": [
    "using Random\n",
    "\n",
    "function split_dataset(df, split_ratio)\n",
    "    records = size(df, 1)\n",
    "    validation_rows = Random.randsubseq(1:records, split_ratio)\n",
    "    training_rows = [i for i in 1:records if isempty(searchsorted(validation_rows, i))]\n",
    "    return (df[training_rows, :], df[validation_rows, :]) # training, validation sets\n",
    "end\n",
    "\n",
    "params = HyperParameters()\n",
    "training_set, validation_set = split_dataset(iris, params.split_ratio)"
   ]
  },
  {
   "cell_type": "markdown",
   "metadata": {},
   "source": [
    "# Define DNN model\n",
    "\n",
    "\n",
    "- $ \\sigma $ is a sigmoid activation function\n",
    "- https://fluxml.ai/Flux.jl/stable/models/layers/"
   ]
  },
  {
   "cell_type": "code",
   "execution_count": 22,
   "metadata": {},
   "outputs": [
    {
     "data": {
      "text/plain": [
       "Chain(Dense(3, 1))"
      ]
     },
     "execution_count": 22,
     "metadata": {},
     "output_type": "execute_result"
    }
   ],
   "source": [
    "using Flux # UndefVarError: 𝜎 not defined\n",
    "\n",
    "number_of_neurons = 3\n",
    "number_of_outputs = 1\n",
    "\n",
    "model = Chain(\n",
    "    Dense(number_of_neurons, number_of_outputs )\n",
    "    # ...\n",
    "    )"
   ]
  },
  {
   "cell_type": "code",
   "execution_count": null,
   "metadata": {},
   "outputs": [],
   "source": [
    "X = convert(Array, iris[1:100, 1:2])'  # The observations have to be in the columns\n"
   ]
  },
  {
   "cell_type": "code",
   "execution_count": null,
   "metadata": {},
   "outputs": [],
   "source": [
    "\n",
    "# SVM format expects observations in columns and features in rows\n",
    "X = array(iris[:, 1:4])'\n",
    "p, n = size(X)\n",
    "\n",
    "# SVM format expects positive and negative examples to +1/-1\n",
    "Y = [species == \"setosa\" ? 1.0 : -1.0 for species in iris[:Species]]\n",
    "\n",
    "# Select a subset of the data for training, test on the rest.\n",
    "train = randbool(n)\n",
    "\n",
    "# We'll fit a model with all of the default parameters\n",
    "model = svm(X[:,train], Y[train])\n",
    "\n",
    "# And now evaluate that model on the testset\n",
    "accuracy = countnz(predict(model, X[:,~train]) .== Y[~train])/countnz(~train)"
   ]
  },
  {
   "cell_type": "code",
   "execution_count": null,
   "metadata": {},
   "outputs": [],
   "source": [
    "#"
   ]
  },
  {
   "cell_type": "markdown",
   "metadata": {},
   "source": [
    "# Resources\n",
    "- https://medium.com/gft-engineering/start-to-learn-machine-learning-with-the-iris-flower-classification-challenge-4859a920e5e3\n",
    "- https://medium.com/@Nivitus./iris-flower-classification-machine-learning-d4e337140fa4"
   ]
  },
  {
   "cell_type": "code",
   "execution_count": null,
   "metadata": {},
   "outputs": [],
   "source": [
    "using Flux\n",
    "using Flux: logitcrossentropy, normalise, onecold, onehotbatch\n",
    "using Statistics: mean\n",
    "using Parameters: @with_kw\n",
    "\n",
    "@with_kw mutable struct Args\n",
    "    lr::Float64 = 0.5\n",
    "    repeat::Int = 110\n",
    "end\n",
    "\n",
    "function get_processed_data(args)\n",
    "    labels = Flux.Data.Iris.labels()\n",
    "    features = Flux.Data.Iris.features()\n",
    "\n",
    "    # Subract mean, divide by std dev for normed mean of 0 and std dev of 1.\n",
    "    normed_features = normalise(features, dims=2)\n",
    "\n",
    "    klasses = sort(unique(labels))\n",
    "    onehot_labels = onehotbatch(labels, klasses)\n",
    "\n",
    "    # Split into training and test sets, 2/3 for training, 1/3 for test.\n",
    "    train_indices = [1:3:150 ; 2:3:150]\n",
    "\n",
    "    X_train = normed_features[:, train_indices]\n",
    "    y_train = onehot_labels[:, train_indices]\n",
    "\n",
    "    X_test = normed_features[:, 3:3:150]\n",
    "    y_test = onehot_labels[:, 3:3:150]\n",
    "\n",
    "    #repeat the data `args.repeat` times\n",
    "    train_data = Iterators.repeated((X_train, y_train), args.repeat)\n",
    "    test_data = (X_test,y_test)\n",
    "\n",
    "    return train_data, test_data\n",
    "end\n",
    "\n",
    "# Accuracy Function\n",
    "accuracy(x, y, model) = mean(onecold(model(x)) .== onecold(y))\n",
    "\n",
    "# Function to build confusion matrix\n",
    "function confusion_matrix(X, y, model)\n",
    "    ŷ = onehotbatch(onecold(model(X)), 1:3)\n",
    "    y * transpose(ŷ)\n",
    "end\n",
    "\n",
    "function train(; kws...)\n",
    "    # Initialize hyperparameter arguments\n",
    "    args = Args(; kws...)\t\n",
    "\n",
    "    #Loading processed data\n",
    "    train_data, test_data = get_processed_data(args)\n",
    "\n",
    "    # Declare model taking 4 features as inputs and outputting 3 probabiltiies, \n",
    "    # one for each species of iris.\n",
    "    model = Chain(Dense(4, 3))\n",
    "\t\n",
    "    # Defining loss function to be used in training\n",
    "    # For numerical stability, we use here logitcrossentropy\n",
    "    loss(x, y) = logitcrossentropy(model(x), y)\n",
    "\t\n",
    "    # Training\n",
    "    # Gradient descent optimiser with learning rate `args.lr`\n",
    "    optimiser = Descent(args.lr)\n",
    "\n",
    "    println(\"Starting training.\")\n",
    "    Flux.train!(loss, params(model), train_data, optimiser)\n",
    "\t\n",
    "    return model, test_data\n",
    "end\n",
    "\n",
    "function test(model, test)\n",
    "    # Testing model performance on test data \n",
    "    X_test, y_test = test\n",
    "    accuracy_score = accuracy(X_test, y_test, model)\n",
    "\n",
    "    println(\"\\nAccuracy: $accuracy_score\")\n",
    "\n",
    "    # Sanity check.\n",
    "    @assert accuracy_score > 0.8\n",
    "\n",
    "    # To avoid confusion, here is the definition of a Confusion Matrix: https://en.wikipedia.org/wiki/Confusion_matrix\n",
    "    println(\"\\nConfusion Matrix:\\n\")\n",
    "    display(confusion_matrix(X_test, y_test, model))\n",
    "end\n",
    "\n",
    "cd(@__DIR__)\n",
    "model, test_data = train()\n",
    "test(model, test_data)"
   ]
  },
  {
   "cell_type": "code",
   "execution_count": null,
   "metadata": {},
   "outputs": [],
   "source": []
  }
 ],
 "metadata": {
  "kernelspec": {
   "display_name": "Julia 1.4.2",
   "language": "julia",
   "name": "julia-1.4"
  },
  "language_info": {
   "file_extension": ".jl",
   "mimetype": "application/julia",
   "name": "julia",
   "version": "1.4.2"
  },
  "toc": {
   "base_numbering": 1,
   "nav_menu": {},
   "number_sections": false,
   "sideBar": true,
   "skip_h1_title": false,
   "title_cell": "Table of Contents",
   "title_sidebar": "Contents",
   "toc_cell": true,
   "toc_position": {},
   "toc_section_display": true,
   "toc_window_display": true
  }
 },
 "nbformat": 4,
 "nbformat_minor": 4
}
